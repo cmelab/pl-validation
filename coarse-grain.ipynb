{
 "cells": [
  {
   "cell_type": "markdown",
   "id": "10c6e16b-92f6-4bac-bb7d-d8c479e80ee2",
   "metadata": {},
   "source": [
    "## Coarse Graining Polymers using GRiTS"
   ]
  },
  {
   "cell_type": "code",
   "execution_count": 3,
   "id": "7d424dd8-2b25-4f60-950b-76d7c2526032",
   "metadata": {},
   "outputs": [
    {
     "name": "stderr",
     "output_type": "stream",
     "text": [
      "/home/jbieri/miniforge3/envs/p_l/lib/python3.11/site-packages/foyer/forcefield.py:34: UserWarning: pkg_resources is deprecated as an API. See https://setuptools.pypa.io/en/latest/pkg_resources.html. The pkg_resources package is slated for removal as early as 2025-11-30. Refrain from using this package or pin to Setuptools<81.\n",
      "  from pkg_resources import iter_entry_points, resource_filename\n",
      "/home/jbieri/miniforge3/envs/p_l/lib/python3.11/site-packages/pkg_resources/__init__.py:3146: DeprecationWarning: Deprecated call to `pkg_resources.declare_namespace('google')`.\n",
      "Implementing implicit namespace packages (as specified in PEP 420) is preferred to `pkg_resources.declare_namespace`. See https://setuptools.pypa.io/en/latest/references/keywords.html#keyword-namespace-packages\n",
      "  declare_namespace(pkg)\n"
     ]
    },
    {
     "name": "stdout",
     "output_type": "stream",
     "text": [
      "\n",
      "Support for writing out LAMMPS data files will be removed\n",
      "in mbuild 1.0.\n",
      "See GMSO (https://github.com/mosdef-hub/gmso/tree/main/gmso/formats/lammpsdata) for\n",
      "continued support for LAMMPS.\n",
      "\n"
     ]
    }
   ],
   "source": [
    "import grits\n",
    "import mbuild as mb\n",
    "import inspect\n",
    "from polymer_dictionary import bond_indices\n",
    "from polymer_dictionary import polymer_fragments\n",
    "from polymer_dictionary import element_dict\n",
    "import os\n",
    "import glob\n",
    "import string\n",
    "from grits import CG_System"
   ]
  },
  {
   "cell_type": "code",
   "execution_count": 4,
   "id": "b848e40f-e256-4b2d-8534-e94d677faf24",
   "metadata": {},
   "outputs": [
    {
     "name": "stdout",
     "output_type": "stream",
     "text": [
      "['PCPDTFBT_C11_BO', 'PCPDTFBT_C1_BO', 'PCPDTFBT_C3_BO', 'PCPDTFBT_C4_BO', 'PCPDTFBT_C5_BO', 'PCPDTPT_HD', 'PCPDTPT_ODD', 'PCPDTPT_eneODD', 'PCPDTPT_nC16', 'PCPDT_PT_eneHD', 'PIDTBT_nC16', 'PIDTCPDT_C11BO', 'PIDTFBT_C11_BO']\n"
     ]
    }
   ],
   "source": [
    "key_list = sorted(list(bond_indices.keys())) # Aligning dictionary and path to aid automation\n",
    "path = (os.getcwd()+\"/mol2/\") # Non-user specific path\n",
    "molecule_list = sorted(glob.glob(path+\"*.mol2\"))\n",
    "molecule_list.pop(10) # Removing polymer not tested\n",
    "print(key_list)"
   ]
  },
  {
   "cell_type": "code",
   "execution_count": 7,
   "id": "bb635a28-eb1c-4890-9315-a0cacf0ab992",
   "metadata": {},
   "outputs": [],
   "source": [
    "# Function to parse through GSD nomenclature and automatically get backbone segments\n",
    "def cg(filename):\n",
    "    letters = string.ascii_uppercase\n",
    "    name = os.path.basename(filename)\n",
    "    name = (os.path.splitext(name)[0])[1:]\n",
    "    new_gsd_name = \"\" + name\n",
    "    \n",
    "    final_cg = [polymer_fragments[\"P\"]]\n",
    "    grits_string = {}\n",
    "    if name[0:4] == \"CPDT\":\n",
    "        final_cg.append(polymer_fragments[\"CPDT\"])\n",
    "        name = name[4:]\n",
    "    if name[0:3] == \"IDT\":\n",
    "        final_cg.append(polymer_fragments[\"IDT\"])\n",
    "        name = name[3:]\n",
    "    if name[0:3] == \"FBT\":\n",
    "        final_cg.append(polymer_fragments[\"FBT\"])\n",
    "        name = name[3:]\n",
    "    if name[0:2] == \"PT\":\n",
    "        final_cg.append(polymer_fragments[\"PT\"])\n",
    "        name = name[2:]\n",
    "    if name[0:2] == \"_PT\":\n",
    "        final_cg.append(polymer_fragments[\"PT\"])\n",
    "        name = name[2:]\n",
    "    if name[0:4] == \"CPDT\":\n",
    "        final_cg.append(polymer_fragments[\"CPDT\"])\n",
    "        name = name[4:]\n",
    "    if name[0:10] == \"CPDT_eneHD\":\n",
    "        final_cg.append(polymer_fragments[\"CPDT_eneHD\"])\n",
    "        name = name[10:0]\n",
    "    for i in range(len(final_cg)):\n",
    "        key = (\"_\"+letters[i]) # Formatting for GRiTS into dictionary with a letter as the key\n",
    "        grits_string[key] = final_cg[i] # SMIILES string of the backbone segment as the value\n",
    "    system = CG_System(\n",
    "        filename,\n",
    "        beads=grits_string,\n",
    "        conversion_dict=element_dict\n",
    "    )\n",
    "    cg_gsd = \"CG-\" + new_gsd_name + \".gsd\"\n",
    "    system.save(cg_gsd)\n"
   ]
  },
  {
   "cell_type": "code",
   "execution_count": 9,
   "id": "dd83a8dc-7b7c-48f6-9e89-68b1789707d4",
   "metadata": {},
   "outputs": [
    {
     "name": "stderr",
     "output_type": "stream",
     "text": [
      "/home/jbieri/miniforge3/envs/p_l/lib/python3.11/site-packages/grits/coarsegrain.py:153: UserWarning: c1ccncc1 not found in compound!\n",
      "  warn(f\"{smart_str} not found in compound!\")\n",
      "/home/jbieri/miniforge3/envs/p_l/lib/python3.11/site-packages/grits/coarsegrain.py:153: UserWarning: c1(F)ccc2nsnc2c1 not found in compound!\n",
      "  warn(f\"{smart_str} not found in compound!\")\n",
      "/home/jbieri/miniforge3/envs/p_l/lib/python3.11/site-packages/grits/coarsegrain.py:194: UserWarning: Some atoms have been left out of coarse-graining!\n",
      "  warn(\"Some atoms have been left out of coarse-graining!\")\n"
     ]
    }
   ],
   "source": [
    "backbones = cg(\"/home/jbieri/CME_lab/repos/pl-validation/gsd_files/PCPDTFBT_C4_BO_melt.gsd\")"
   ]
  },
  {
   "cell_type": "code",
   "execution_count": 5,
   "id": "87f5dcc6-cc24-4ac1-975d-82345cf549ca",
   "metadata": {},
   "outputs": [
    {
     "name": "stdout",
     "output_type": "stream",
     "text": [
      "{'_A': 'c1ccncc1', '_B': 'C1C3=C(SC=C3)C2=C1C=CS2', '_C': 'c1(F)ccc2nsnc2c1'}\n"
     ]
    }
   ],
   "source": [
    "print(backbones)"
   ]
  },
  {
   "cell_type": "code",
   "execution_count": 6,
   "id": "00088eec-e556-45e9-a47b-274319996955",
   "metadata": {},
   "outputs": [
    {
     "name": "stdout",
     "output_type": "stream",
     "text": [
      "{'P': 'c1ccncc1', 'CPDT': 'C1C3=C(SC=C3)C2=C1C=CS2', 'PT': 'n1ccc2nsnc2c1', 'IDT': 'C1C2=C(C3=CC4=C(C=C31)C5=C(C4)C=CS5)SC=C2', 'BT': 'c1ccc2nsnc2c1', 'DPP': 'N1C=C(C(=O)Nc2)c2C1(=O)', 'FBT': 'c1(F)ccc2nsnc2c1', 'T': 'c1ccsc1', 'CPDT_eneHD': 'C1(=C(CC(CCCCCC)CCCCCCCC)CC(CCCCCC)CCCCCCCC)C3=C(SC=C3)C2=C1C=CS2', 'TPD': 'C1(=O)C2=CSC=C2C(=O)N1(CCCCCCCC)', 'BDT': 's1c2c(OCC(CC)CCCC)c3ccsc3c(OCC(CC)CCCC)c2cc1'}\n"
     ]
    }
   ],
   "source": [
    "print(polymer_fragments)"
   ]
  },
  {
   "cell_type": "code",
   "execution_count": null,
   "id": "a6a17708-1d2e-441f-971a-29662bce2c21",
   "metadata": {},
   "outputs": [],
   "source": [
    "original_traj = gsd.hoomd.open(\"/home/jbieri/CME_lab/repos/pl-validation/PCPDTFBT_C1_BOtest.gsd\")\n",
    "with gsd.hoomd.open(\"linear_traj.gsd\",\"w\") as new_traj:\n",
    "    for frame in original_traj:\n",
    "        new_traj.append(frame)"
   ]
  }
 ],
 "metadata": {
  "kernelspec": {
   "display_name": "Python 3 (ipykernel)",
   "language": "python",
   "name": "python3"
  },
  "language_info": {
   "codemirror_mode": {
    "name": "ipython",
    "version": 3
   },
   "file_extension": ".py",
   "mimetype": "text/x-python",
   "name": "python",
   "nbconvert_exporter": "python",
   "pygments_lexer": "ipython3",
   "version": "3.11.13"
  }
 },
 "nbformat": 4,
 "nbformat_minor": 5
}
