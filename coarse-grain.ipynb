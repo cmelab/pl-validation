{
 "cells": [
  {
   "cell_type": "markdown",
   "id": "10c6e16b-92f6-4bac-bb7d-d8c479e80ee2",
   "metadata": {},
   "source": [
    "## Coarse Graining Polymers using GRiTS"
   ]
  },
  {
   "cell_type": "code",
   "execution_count": 6,
   "id": "7d424dd8-2b25-4f60-950b-76d7c2526032",
   "metadata": {},
   "outputs": [],
   "source": [
    "import grits\n",
    "import mbuild as mb\n",
    "import inspect\n",
    "from polymer_dictionary import bond_indices\n",
    "from polymer_dictionary import polymer_fragments\n",
    "from polymer_dictionary import element_dict\n",
    "import gsd\n",
    "import os\n",
    "import glob\n",
    "import string\n",
    "from grits import CG_System"
   ]
  },
  {
   "cell_type": "code",
   "execution_count": 13,
   "id": "b848e40f-e256-4b2d-8534-e94d677faf24",
   "metadata": {},
   "outputs": [
    {
     "name": "stdout",
     "output_type": "stream",
     "text": [
      "['PCPDTFBT_C11_BO', 'PCPDTFBT_C1_BO', 'PCPDTFBT_C3_BO', 'PCPDTFBT_C4_BO', 'PCPDTFBT_C5_BO', 'PCPDTPT_HD', 'PCPDTPT_ODD', 'PCPDTPT_eneODD', 'PCPDTPT_nC16', 'PCPDT_PT_eneHD', 'PIDTBT_nC16', 'PIDTCPDT_C11BO', 'PIDTFBT_C11_BO']\n"
     ]
    }
   ],
   "source": [
    "key_list = sorted(list(bond_indices.keys())) # Aligning dictionary and path to aid automation\n",
    "path = (os.getcwd()+\"/\") # Non-user specific path\n",
    "molecule_list = sorted(glob.glob(path+\"/mol2/\"+\"*.mol2\"))\n",
    "molecule_list.pop(10) # Removing polymer not tested\n",
    "print(key_list)"
   ]
  },
  {
   "cell_type": "code",
   "execution_count": 10,
   "id": "bb635a28-eb1c-4890-9315-a0cacf0ab992",
   "metadata": {},
   "outputs": [],
   "source": [
    "# Function to parse through GSD nomenclature and automatically get backbone segments\n",
    "def cg(filename):\n",
    "    letters = string.ascii_uppercase\n",
    "    name = os.path.basename(filename)\n",
    "    name = (os.path.splitext(name)[0])[1:]\n",
    "    new_gsd_name = \"\" + name\n",
    "    \n",
    "    final_cg = [polymer_fragments[\"P\"]]\n",
    "    grits_string = {}\n",
    "    if name[0:4] == \"CPDT\":\n",
    "        final_cg.append(polymer_fragments[\"CPDT\"])\n",
    "        name = name[4:]\n",
    "    if name[0:3] == \"IDT\":\n",
    "        final_cg.append(polymer_fragments[\"IDT\"])\n",
    "        name = name[3:]\n",
    "    if name[0:3] == \"FBT\":\n",
    "        final_cg.append(polymer_fragments[\"FBT\"])\n",
    "        name = name[3:]\n",
    "    if name[0:2] == \"PT\":\n",
    "        final_cg.append(polymer_fragments[\"PT\"])\n",
    "        name = name[2:]\n",
    "    if name[0:2] == \"_PT\":\n",
    "        final_cg.append(polymer_fragments[\"PT\"])\n",
    "        name = name[2:]\n",
    "    if name[0:4] == \"CPDT\":\n",
    "        final_cg.append(polymer_fragments[\"CPDT\"])\n",
    "        name = name[4:]\n",
    "    if name[0:10] == \"CPDT_eneHD\":\n",
    "        final_cg.append(polymer_fragments[\"CPDT_eneHD\"])\n",
    "        name = name[10:0]\n",
    "    for i in range(len(final_cg)):\n",
    "        key = (\"_\"+letters[i]) # Formatting for GRiTS into dictionary with a letter as the key\n",
    "        grits_string[key] = final_cg[i] # SMIILES string of the backbone segment as the value\n",
    "    system = CG_System(\n",
    "        filename,\n",
    "        beads=grits_string,\n",
    "        conversion_dict=element_dict\n",
    "    )\n",
    "    cg_gsd = \"CG-\" + new_gsd_name + \".gsd\"\n",
    "    system.save(cg_gsd)\n",
    "    return(grits_string)\n"
   ]
  },
  {
   "cell_type": "code",
   "execution_count": 11,
   "id": "dd83a8dc-7b7c-48f6-9e89-68b1789707d4",
   "metadata": {},
   "outputs": [
    {
     "name": "stderr",
     "output_type": "stream",
     "text": [
      "/home/jbieri/miniforge3/envs/p_l/lib/python3.11/site-packages/grits/coarsegrain.py:153: UserWarning: c1ccncc1 not found in compound!\n",
      "  warn(f\"{smart_str} not found in compound!\")\n",
      "/home/jbieri/miniforge3/envs/p_l/lib/python3.11/site-packages/grits/coarsegrain.py:153: UserWarning: c1(F)ccc2nsnc2c1 not found in compound!\n",
      "  warn(f\"{smart_str} not found in compound!\")\n"
     ]
    }
   ],
   "source": [
    "backbones = cg(path+\"gsd/10_mers/PCPDTFBT_C4_BO_10mer_linear_test.gsd\")"
   ]
  },
  {
   "cell_type": "code",
   "execution_count": 14,
   "id": "c312be68-fa1b-46d0-999b-6f09afc7da1f",
   "metadata": {},
   "outputs": [
    {
     "name": "stderr",
     "output_type": "stream",
     "text": [
      "/home/jbieri/miniforge3/envs/p_l/lib/python3.11/site-packages/grits/coarsegrain.py:153: UserWarning: C1SC2C3SC(C4C5=NSN=C5C=NC=4)=CC=3C(CCCCCCCCCCCCCCCC)(CCCCCCCCCCCCCCCC)C=2C=1 not found in compound!\n",
      "  warn(f\"{smart_str} not found in compound!\")\n",
      "/home/jbieri/miniforge3/envs/p_l/lib/python3.11/site-packages/grits/coarsegrain.py:194: UserWarning: Some atoms have been left out of coarse-graining!\n",
      "  warn(\"Some atoms have been left out of coarse-graining!\")\n"
     ]
    }
   ],
   "source": [
    "gsdfile = path+\"alternate_PCPDTPT_nC16_melt.gsd\"\n",
    "system = CG_System(\n",
    "    gsdfile,\n",
    "    beads={\"_A\": \"C1SC2C3SC(C4C5=NSN=C5C=NC=4)=CC=3C(CCCCCCCCCCCCCCCC)(CCCCCCCCCCCCCCCC)C=2C=1\"},\n",
    "    conversion_dict=element_dict\n",
    ")"
   ]
  },
  {
   "cell_type": "code",
   "execution_count": 4,
   "id": "591737bb-94e7-4dae-8edb-668832df235e",
   "metadata": {},
   "outputs": [
    {
     "ename": "ValueError",
     "evalue": "need at least one array to concatenate",
     "output_type": "error",
     "traceback": [
      "\u001b[31m---------------------------------------------------------------------------\u001b[39m",
      "\u001b[31mValueError\u001b[39m                                Traceback (most recent call last)",
      "\u001b[36mCell\u001b[39m\u001b[36m \u001b[39m\u001b[32mIn[4]\u001b[39m\u001b[32m, line 2\u001b[39m\n\u001b[32m      1\u001b[39m cg_gsd = \u001b[33m\"\u001b[39m\u001b[33mcg_test.gsd\u001b[39m\u001b[33m\"\u001b[39m\n\u001b[32m----> \u001b[39m\u001b[32m2\u001b[39m \u001b[43msystem\u001b[49m\u001b[43m.\u001b[49m\u001b[43msave\u001b[49m\u001b[43m(\u001b[49m\u001b[43mcg_gsd\u001b[49m\u001b[43m)\u001b[49m\n",
      "\u001b[36mFile \u001b[39m\u001b[32m~/miniforge3/envs/p_l/lib/python3.11/site-packages/grits/coarsegrain.py:702\u001b[39m, in \u001b[36mCG_System.save\u001b[39m\u001b[34m(self, cg_gsdfile, start, stop, stride)\u001b[39m\n\u001b[32m    700\u001b[39m \u001b[38;5;28;01mfor\u001b[39;00m i, inds \u001b[38;5;129;01min\u001b[39;00m \u001b[38;5;28menumerate\u001b[39m(\u001b[38;5;28mself\u001b[39m.mapping.values()):\n\u001b[32m    701\u001b[39m     typeid.append(np.ones(\u001b[38;5;28mlen\u001b[39m(inds)) * i)\n\u001b[32m--> \u001b[39m\u001b[32m702\u001b[39m typeid = \u001b[43mnp\u001b[49m\u001b[43m.\u001b[49m\u001b[43mhstack\u001b[49m\u001b[43m(\u001b[49m\u001b[43mtypeid\u001b[49m\u001b[43m)\u001b[49m\n\u001b[32m    704\u001b[39m \u001b[38;5;66;03m# Set up bond information if it exists\u001b[39;00m\n\u001b[32m    705\u001b[39m bond_types = []\n",
      "\u001b[36mFile \u001b[39m\u001b[32m~/miniforge3/envs/p_l/lib/python3.11/site-packages/numpy/core/shape_base.py:359\u001b[39m, in \u001b[36mhstack\u001b[39m\u001b[34m(tup, dtype, casting)\u001b[39m\n\u001b[32m    357\u001b[39m     \u001b[38;5;28;01mreturn\u001b[39;00m _nx.concatenate(arrs, \u001b[32m0\u001b[39m, dtype=dtype, casting=casting)\n\u001b[32m    358\u001b[39m \u001b[38;5;28;01melse\u001b[39;00m:\n\u001b[32m--> \u001b[39m\u001b[32m359\u001b[39m     \u001b[38;5;28;01mreturn\u001b[39;00m \u001b[43m_nx\u001b[49m\u001b[43m.\u001b[49m\u001b[43mconcatenate\u001b[49m\u001b[43m(\u001b[49m\u001b[43marrs\u001b[49m\u001b[43m,\u001b[49m\u001b[43m \u001b[49m\u001b[32;43m1\u001b[39;49m\u001b[43m,\u001b[49m\u001b[43m \u001b[49m\u001b[43mdtype\u001b[49m\u001b[43m=\u001b[49m\u001b[43mdtype\u001b[49m\u001b[43m,\u001b[49m\u001b[43m \u001b[49m\u001b[43mcasting\u001b[49m\u001b[43m=\u001b[49m\u001b[43mcasting\u001b[49m\u001b[43m)\u001b[49m\n",
      "\u001b[31mValueError\u001b[39m: need at least one array to concatenate"
     ]
    }
   ],
   "source": [
    "cg_gsd = \"cg_test.gsd\"\n",
    "system.save(cg_gsd)"
   ]
  },
  {
   "cell_type": "code",
   "execution_count": 7,
   "id": "a6a17708-1d2e-441f-971a-29662bce2c21",
   "metadata": {},
   "outputs": [
    {
     "name": "stdout",
     "output_type": "stream",
     "text": [
      "101\n",
      "103\n",
      "103\n"
     ]
    }
   ],
   "source": [
    "# Appending a frame of a linear chain\n",
    "original_traj = gsd.hoomd.open(path+\"gsd_files/10_mers/PCPDTFBT_C4_BO_melt.gsd\",\"r+\")\n",
    "new_traj = gsd.hoomd.open(path+\"PCPDTFBT_C4_BO_10mer_linear.gsd\",\"r+\")\n",
    "for frame in original_traj:\n",
    "    new_traj.append(frame)"
   ]
  }
 ],
 "metadata": {
  "kernelspec": {
   "display_name": "Python 3 (ipykernel)",
   "language": "python",
   "name": "python3"
  },
  "language_info": {
   "codemirror_mode": {
    "name": "ipython",
    "version": 3
   },
   "file_extension": ".py",
   "mimetype": "text/x-python",
   "name": "python",
   "nbconvert_exporter": "python",
   "pygments_lexer": "ipython3",
   "version": "3.11.13"
  }
 },
 "nbformat": 4,
 "nbformat_minor": 5
}
