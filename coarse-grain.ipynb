{
 "cells": [
  {
   "cell_type": "markdown",
   "id": "10c6e16b-92f6-4bac-bb7d-d8c479e80ee2",
   "metadata": {},
   "source": [
    "## Coarse Graining Polymers using GRiTS"
   ]
  },
  {
   "cell_type": "code",
   "execution_count": 2,
   "id": "7d424dd8-2b25-4f60-950b-76d7c2526032",
   "metadata": {},
   "outputs": [
    {
     "name": "stderr",
     "output_type": "stream",
     "text": [
      "/home/jbieri/miniforge3/envs/p_l/lib/python3.11/site-packages/foyer/forcefield.py:34: UserWarning: pkg_resources is deprecated as an API. See https://setuptools.pypa.io/en/latest/pkg_resources.html. The pkg_resources package is slated for removal as early as 2025-11-30. Refrain from using this package or pin to Setuptools<81.\n",
      "  from pkg_resources import iter_entry_points, resource_filename\n",
      "/home/jbieri/miniforge3/envs/p_l/lib/python3.11/site-packages/pkg_resources/__init__.py:3146: DeprecationWarning: Deprecated call to `pkg_resources.declare_namespace('google')`.\n",
      "Implementing implicit namespace packages (as specified in PEP 420) is preferred to `pkg_resources.declare_namespace`. See https://setuptools.pypa.io/en/latest/references/keywords.html#keyword-namespace-packages\n",
      "  declare_namespace(pkg)\n"
     ]
    },
    {
     "name": "stdout",
     "output_type": "stream",
     "text": [
      "\n",
      "Support for writing out LAMMPS data files will be removed\n",
      "in mbuild 1.0.\n",
      "See GMSO (https://github.com/mosdef-hub/gmso/tree/main/gmso/formats/lammpsdata) for\n",
      "continued support for LAMMPS.\n",
      "\n"
     ]
    }
   ],
   "source": [
    "import grits\n",
    "import mbuild as mb\n",
    "import inspect\n",
    "from polymer_dictionary import polymer_dictionary\n",
    "from polymer_dictionary import polymer_fragments\n",
    "from polymer_dictionary import element_dict\n",
    "import gsd\n",
    "import os\n",
    "import glob\n",
    "import string\n",
    "from grits import CG_System\n",
    "from grits import utils\n",
    "import numpy as np"
   ]
  },
  {
   "cell_type": "code",
   "execution_count": null,
   "id": "b848e40f-e256-4b2d-8534-e94d677faf24",
   "metadata": {},
   "outputs": [],
   "source": [
    "key_list = sorted(list(polymer_dictionary.keys())) # Aligning dictionary and path to aid automation\n",
    "path = (os.getcwd()+\"/\") # Non-user specific path\n",
    "molecule_list = sorted(glob.glob(path+\"/mol2/\"+\"*.mol2\"))\n",
    "molecule_list.pop(10) # Removing polymer not tested\n",
    "print(key_list)"
   ]
  },
  {
   "cell_type": "code",
   "execution_count": null,
   "id": "bb635a28-eb1c-4890-9315-a0cacf0ab992",
   "metadata": {},
   "outputs": [],
   "source": [
    "# Function to parse through GSD nomenclature and automatically get backbone segments\n",
    "# TODO calculate COM instead of using SMILES parsing\n",
    "def cg(filename):\n",
    "    letters = string.ascii_uppercase\n",
    "    name = os.path.basename(filename)\n",
    "    name = (os.path.splitext(name)[0])[1:]\n",
    "    new_gsd_name = \"\" + name\n",
    "    \n",
    "    final_cg = [polymer_fragments[\"P\"]]\n",
    "    grits_string = {}\n",
    "    if name[0:4] == \"CPDT\":\n",
    "        final_cg.append(polymer_fragments[\"CPDT\"])\n",
    "        name = name[4:]\n",
    "    if name[0:3] == \"IDT\":\n",
    "        final_cg.append(polymer_fragments[\"IDT\"])\n",
    "        name = name[3:]\n",
    "    if name[0:3] == \"FBT\":\n",
    "        final_cg.append(polymer_fragments[\"FBT\"])\n",
    "        name = name[3:]\n",
    "    if name[0:2] == \"PT\":\n",
    "        final_cg.append(polymer_fragments[\"PT\"])\n",
    "        name = name[2:]\n",
    "    if name[0:2] == \"_PT\":\n",
    "        final_cg.append(polymer_fragments[\"PT\"])\n",
    "        name = name[2:]\n",
    "    if name[0:4] == \"CPDT\":\n",
    "        final_cg.append(polymer_fragments[\"CPDT\"])\n",
    "        name = name[4:]\n",
    "    if name[0:10] == \"CPDT_eneHD\":\n",
    "        final_cg.append(polymer_fragments[\"CPDT_eneHD\"])\n",
    "        name = name[10:0]\n",
    "    for i in range(len(final_cg)):\n",
    "        key = (\"_\"+letters[i]) # Formatting for GRiTS into dictionary with a letter as the key\n",
    "        grits_string[key] = final_cg[i] # SMIILES string of the backbone segment as the value\n",
    "    system = CG_System(\n",
    "        filename,\n",
    "        beads=grits_string,\n",
    "        conversion_dict=element_dict\n",
    "    )\n",
    "    cg_gsd = \"CG-\" + new_gsd_name + \".gsd\"\n",
    "    system.save(cg_gsd)\n",
    "    return(grits_string)\n"
   ]
  },
  {
   "cell_type": "code",
   "execution_count": null,
   "id": "dd83a8dc-7b7c-48f6-9e89-68b1789707d4",
   "metadata": {},
   "outputs": [],
   "source": [
    "backbones = cg(path + \"gsd/10_mers/PCPDTFBT_C4_BO_10mer_linear_test.gsd\")"
   ]
  },
  {
   "cell_type": "code",
   "execution_count": null,
   "id": "c312be68-fa1b-46d0-999b-6f09afc7da1f",
   "metadata": {},
   "outputs": [],
   "source": [
    "gsdfile = path + \"alternate_PCPDTPT_nC16_melt.gsd\"\n",
    "system = CG_System(\n",
    "    gsdfile,\n",
    "    beads={\"_A\": \"C1SC2C3SC(C4C5=NSN=C5C=NC=4)=CC=3C(CCCCCCCCCCCCCCCC)(CCCCCCCCCCCCCCCC)C=2C=1\"},\n",
    "    conversion_dict=element_dict\n",
    ")"
   ]
  },
  {
   "cell_type": "code",
   "execution_count": 4,
   "id": "2e7c9926-4155-4aa1-af8d-1174c062c8da",
   "metadata": {},
   "outputs": [],
   "source": [
    "temp = mb.load(\"C1SC2C3SC(C4C5=NSN=C5C=NC=4)=CC=3C(CCCCCCCCCCCCCCCC)(CCCCCCCCCCCCCCCC)C=2C=1\",smiles=True)"
   ]
  },
  {
   "cell_type": "code",
   "execution_count": 5,
   "id": "8f03207e-6f81-45e4-9c18-24607de630b1",
   "metadata": {},
   "outputs": [
    {
     "name": "stderr",
     "output_type": "stream",
     "text": [
      "/home/jbieri/miniforge3/envs/p_l/lib/python3.11/site-packages/grits/coarsegrain.py:194: UserWarning: Some atoms have been left out of coarse-graining!\n",
      "  warn(\"Some atoms have been left out of coarse-graining!\")\n"
     ]
    }
   ],
   "source": [
    "gsdfile = path + \"alternate_PCPDTPT_nC16_melt.gsd\"\n",
    "system = CG_System(\n",
    "    gsdfile,\n",
    "    beads={\"_A\": \"CCCCCCCCCCCCCCCC\"},\n",
    "    conversion_dict=element_dict\n",
    ")"
   ]
  },
  {
   "cell_type": "code",
   "execution_count": 11,
   "id": "591737bb-94e7-4dae-8edb-668832df235e",
   "metadata": {},
   "outputs": [],
   "source": [
    "cg_gsd = \"cg_test.gsd\"\n",
    "system.save(cg_gsd)"
   ]
  },
  {
   "cell_type": "code",
   "execution_count": 40,
   "id": "d4057e04-1de3-4e1a-8b9e-3b8317800f5a",
   "metadata": {},
   "outputs": [],
   "source": [
    "com_traj = gsd.hoomd.open(\"PCPDTFBT_C4_BO_10mer_linear_test.gsd\")\n",
    "coms = []\n",
    "for frame in com_traj:\n",
    "    particles = frame.particles\n",
    "    pos,mass = utils.get_heavy_atoms(particles)\n",
    "    coms.append(utils.get_com(pos,mass))"
   ]
  },
  {
   "cell_type": "code",
   "execution_count": 43,
   "id": "740a1570-8226-41e8-8a25-615851ee2e78",
   "metadata": {},
   "outputs": [
    {
     "name": "stdout",
     "output_type": "stream",
     "text": [
      "[array([-72.395935,  65.7702  ,  58.98571 ], dtype=float32), array([-72.395935,  65.7702  ,  58.9857  ], dtype=float32)]\n"
     ]
    }
   ],
   "source": [
    "print(coms)"
   ]
  },
  {
   "cell_type": "code",
   "execution_count": 7,
   "id": "a6a17708-1d2e-441f-971a-29662bce2c21",
   "metadata": {},
   "outputs": [
    {
     "name": "stdout",
     "output_type": "stream",
     "text": [
      "101\n",
      "103\n",
      "103\n"
     ]
    }
   ],
   "source": [
    "# Appending a frame of a linear chain\n",
    "original_traj = gsd.hoomd.open(path + \"gsd_files/10_mers/PCPDTFBT_C4_BO_melt.gsd\",\"r+\")\n",
    "new_traj = gsd.hoomd.open(path + \"PCPDTFBT_C4_BO_10mer_linear.gsd\",\"r+\")\n",
    "for frame in original_traj:\n",
    "    new_traj.append(frame)"
   ]
  }
 ],
 "metadata": {
  "kernelspec": {
   "display_name": "Python 3 (ipykernel)",
   "language": "python",
   "name": "python3"
  },
  "language_info": {
   "codemirror_mode": {
    "name": "ipython",
    "version": 3
   },
   "file_extension": ".py",
   "mimetype": "text/x-python",
   "name": "python",
   "nbconvert_exporter": "python",
   "pygments_lexer": "ipython3",
   "version": "3.11.13"
  }
 },
 "nbformat": 4,
 "nbformat_minor": 5
}
