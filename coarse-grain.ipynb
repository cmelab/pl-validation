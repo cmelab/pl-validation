{
 "cells": [
  {
   "cell_type": "markdown",
   "id": "10c6e16b-92f6-4bac-bb7d-d8c479e80ee2",
   "metadata": {},
   "source": [
    "## Coarse Graining Polymers using GRiTS"
   ]
  },
  {
   "cell_type": "code",
   "execution_count": 1,
   "id": "7d424dd8-2b25-4f60-950b-76d7c2526032",
   "metadata": {},
   "outputs": [
    {
     "name": "stderr",
     "output_type": "stream",
     "text": [
      "/home/jbieri/miniforge3/envs/p_l/lib/python3.11/site-packages/foyer/forcefield.py:34: UserWarning: pkg_resources is deprecated as an API. See https://setuptools.pypa.io/en/latest/pkg_resources.html. The pkg_resources package is slated for removal as early as 2025-11-30. Refrain from using this package or pin to Setuptools<81.\n",
      "  from pkg_resources import iter_entry_points, resource_filename\n",
      "/home/jbieri/miniforge3/envs/p_l/lib/python3.11/site-packages/pkg_resources/__init__.py:3146: DeprecationWarning: Deprecated call to `pkg_resources.declare_namespace('google')`.\n",
      "Implementing implicit namespace packages (as specified in PEP 420) is preferred to `pkg_resources.declare_namespace`. See https://setuptools.pypa.io/en/latest/references/keywords.html#keyword-namespace-packages\n",
      "  declare_namespace(pkg)\n"
     ]
    },
    {
     "name": "stdout",
     "output_type": "stream",
     "text": [
      "\n",
      "Support for writing out LAMMPS data files will be removed\n",
      "in mbuild 1.0.\n",
      "See GMSO (https://github.com/mosdef-hub/gmso/tree/main/gmso/formats/lammpsdata) for\n",
      "continued support for LAMMPS.\n",
      "\n"
     ]
    }
   ],
   "source": [
    "import grits\n",
    "import mbuild as mb\n",
    "import inspect\n",
    "from polymer_dictionary import bond_indices\n",
    "from polymer_dictionary import polymer_fragments\n",
    "from polymer_dictionary import element_dict\n",
    "import gsd\n",
    "import os\n",
    "import glob\n",
    "import string\n",
    "from grits import CG_System"
   ]
  },
  {
   "cell_type": "code",
   "execution_count": 2,
   "id": "b848e40f-e256-4b2d-8534-e94d677faf24",
   "metadata": {},
   "outputs": [
    {
     "name": "stdout",
     "output_type": "stream",
     "text": [
      "['PCPDTFBT_C11_BO', 'PCPDTFBT_C1_BO', 'PCPDTFBT_C3_BO', 'PCPDTFBT_C4_BO', 'PCPDTFBT_C5_BO', 'PCPDTPT_HD', 'PCPDTPT_ODD', 'PCPDTPT_eneODD', 'PCPDTPT_nC16', 'PCPDT_PT_eneHD', 'PIDTBT_nC16', 'PIDTCPDT_C11BO', 'PIDTFBT_C11_BO']\n"
     ]
    }
   ],
   "source": [
    "key_list = sorted(list(bond_indices.keys())) # Aligning dictionary and path to aid automation\n",
    "path = (os.getcwd()+\"/mol2/\") # Non-user specific path\n",
    "molecule_list = sorted(glob.glob(path+\"*.mol2\"))\n",
    "molecule_list.pop(10) # Removing polymer not tested\n",
    "print(key_list)"
   ]
  },
  {
   "cell_type": "code",
   "execution_count": 2,
   "id": "bb635a28-eb1c-4890-9315-a0cacf0ab992",
   "metadata": {},
   "outputs": [],
   "source": [
    "# Function to parse through GSD nomenclature and automatically get backbone segments\n",
    "def cg(filename):\n",
    "    letters = string.ascii_uppercase\n",
    "    name = os.path.basename(filename)\n",
    "    name = (os.path.splitext(name)[0])[1:]\n",
    "    new_gsd_name = \"\" + name\n",
    "    \n",
    "    final_cg = [polymer_fragments[\"P\"]]\n",
    "    grits_string = {}\n",
    "    if name[0:4] == \"CPDT\":\n",
    "        final_cg.append(polymer_fragments[\"CPDT\"])\n",
    "        name = name[4:]\n",
    "    if name[0:3] == \"IDT\":\n",
    "        final_cg.append(polymer_fragments[\"IDT\"])\n",
    "        name = name[3:]\n",
    "    if name[0:3] == \"FBT\":\n",
    "        final_cg.append(polymer_fragments[\"FBT\"])\n",
    "        name = name[3:]\n",
    "    if name[0:2] == \"PT\":\n",
    "        final_cg.append(polymer_fragments[\"PT\"])\n",
    "        name = name[2:]\n",
    "    if name[0:2] == \"_PT\":\n",
    "        final_cg.append(polymer_fragments[\"PT\"])\n",
    "        name = name[2:]\n",
    "    if name[0:4] == \"CPDT\":\n",
    "        final_cg.append(polymer_fragments[\"CPDT\"])\n",
    "        name = name[4:]\n",
    "    if name[0:10] == \"CPDT_eneHD\":\n",
    "        final_cg.append(polymer_fragments[\"CPDT_eneHD\"])\n",
    "        name = name[10:0]\n",
    "    for i in range(len(final_cg)):\n",
    "        key = (\"_\"+letters[i]) # Formatting for GRiTS into dictionary with a letter as the key\n",
    "        grits_string[key] = final_cg[i] # SMIILES string of the backbone segment as the value\n",
    "    system = CG_System(\n",
    "        filename,\n",
    "        beads=grits_string,\n",
    "        conversion_dict=element_dict\n",
    "    )\n",
    "    cg_gsd = \"CG-\" + new_gsd_name + \".gsd\"\n",
    "    system.save(cg_gsd)\n",
    "    return(grits_string)\n"
   ]
  },
  {
   "cell_type": "code",
   "execution_count": 5,
   "id": "dd83a8dc-7b7c-48f6-9e89-68b1789707d4",
   "metadata": {},
   "outputs": [
    {
     "ename": "KeyError",
     "evalue": "'H3'",
     "output_type": "error",
     "traceback": [
      "\u001b[31m---------------------------------------------------------------------------\u001b[39m",
      "\u001b[31mKeyError\u001b[39m                                  Traceback (most recent call last)",
      "\u001b[36mCell\u001b[39m\u001b[36m \u001b[39m\u001b[32mIn[5]\u001b[39m\u001b[32m, line 1\u001b[39m\n\u001b[32m----> \u001b[39m\u001b[32m1\u001b[39m backbones = \u001b[43mcg\u001b[49m\u001b[43m(\u001b[49m\u001b[33;43m\"\u001b[39;49m\u001b[33;43m/home/jbieri/CME_lab/repos/pl-validation/PCPDTFBT_C4_BO_10mer_linear_test.gsd\u001b[39;49m\u001b[33;43m\"\u001b[39;49m\u001b[43m)\u001b[49m\n",
      "\u001b[36mCell\u001b[39m\u001b[36m \u001b[39m\u001b[32mIn[2]\u001b[39m\u001b[32m, line 34\u001b[39m, in \u001b[36mcg\u001b[39m\u001b[34m(filename)\u001b[39m\n\u001b[32m     32\u001b[39m     key = (\u001b[33m\"\u001b[39m\u001b[33m_\u001b[39m\u001b[33m\"\u001b[39m+letters[i]) \u001b[38;5;66;03m# Formatting for GRiTS into dictionary with a letter as the key\u001b[39;00m\n\u001b[32m     33\u001b[39m     grits_string[key] = final_cg[i] \u001b[38;5;66;03m# SMIILES string of the backbone segment as the value\u001b[39;00m\n\u001b[32m---> \u001b[39m\u001b[32m34\u001b[39m system = \u001b[43mCG_System\u001b[49m\u001b[43m(\u001b[49m\n\u001b[32m     35\u001b[39m \u001b[43m    \u001b[49m\u001b[43mfilename\u001b[49m\u001b[43m,\u001b[49m\n\u001b[32m     36\u001b[39m \u001b[43m    \u001b[49m\u001b[43mbeads\u001b[49m\u001b[43m=\u001b[49m\u001b[43mgrits_string\u001b[49m\u001b[43m,\u001b[49m\n\u001b[32m     37\u001b[39m \u001b[43m    \u001b[49m\u001b[43mconversion_dict\u001b[49m\u001b[43m=\u001b[49m\u001b[43melement_dict\u001b[49m\n\u001b[32m     38\u001b[39m \u001b[43m\u001b[49m\u001b[43m)\u001b[49m\n\u001b[32m     39\u001b[39m cg_gsd = \u001b[33m\"\u001b[39m\u001b[33mCG-\u001b[39m\u001b[33m\"\u001b[39m + new_gsd_name + \u001b[33m\"\u001b[39m\u001b[33m.gsd\u001b[39m\u001b[33m\"\u001b[39m\n\u001b[32m     40\u001b[39m system.save(cg_gsd)\n",
      "\u001b[36mFile \u001b[39m\u001b[32m~/miniforge3/envs/p_l/lib/python3.11/site-packages/grits/coarsegrain.py:541\u001b[39m, in \u001b[36mCG_System.__init__\u001b[39m\u001b[34m(self, gsdfile, beads, mapping, allow_overlap, conversion_dict, length_scale, mass_scale, add_hydrogens, aniso_beads)\u001b[39m\n\u001b[32m    537\u001b[39m \u001b[38;5;28mself\u001b[39m.mass_scale = mass_scale\n\u001b[32m    539\u001b[39m \u001b[38;5;28;01mif\u001b[39;00m beads \u001b[38;5;129;01mis\u001b[39;00m \u001b[38;5;129;01mnot\u001b[39;00m \u001b[38;5;28;01mNone\u001b[39;00m:\n\u001b[32m    540\u001b[39m     \u001b[38;5;66;03m# get compounds\u001b[39;00m\n\u001b[32m--> \u001b[39m\u001b[32m541\u001b[39m     \u001b[38;5;28;43mself\u001b[39;49m\u001b[43m.\u001b[49m\u001b[43m_get_compounds\u001b[49m\u001b[43m(\u001b[49m\n\u001b[32m    542\u001b[39m \u001b[43m        \u001b[49m\u001b[43mbeads\u001b[49m\u001b[43m=\u001b[49m\u001b[43mbeads\u001b[49m\u001b[43m,\u001b[49m\n\u001b[32m    543\u001b[39m \u001b[43m        \u001b[49m\u001b[43mallow_overlap\u001b[49m\u001b[43m=\u001b[49m\u001b[43mallow_overlap\u001b[49m\u001b[43m,\u001b[49m\n\u001b[32m    544\u001b[39m \u001b[43m        \u001b[49m\u001b[43mlength_scale\u001b[49m\u001b[43m=\u001b[49m\u001b[43mlength_scale\u001b[49m\u001b[43m,\u001b[49m\n\u001b[32m    545\u001b[39m \u001b[43m        \u001b[49m\u001b[43mconversion_dict\u001b[49m\u001b[43m=\u001b[49m\u001b[43mconversion_dict\u001b[49m\u001b[43m,\u001b[49m\n\u001b[32m    546\u001b[39m \u001b[43m        \u001b[49m\u001b[43madd_hydrogens\u001b[49m\u001b[43m=\u001b[49m\u001b[43madd_hydrogens\u001b[49m\u001b[43m,\u001b[49m\n\u001b[32m    547\u001b[39m \u001b[43m        \u001b[49m\u001b[43maniso_beads\u001b[49m\u001b[43m=\u001b[49m\u001b[43maniso_beads\u001b[49m\u001b[43m,\u001b[49m\n\u001b[32m    548\u001b[39m \u001b[43m    \u001b[49m\u001b[43m)\u001b[49m\n\u001b[32m    550\u001b[39m     \u001b[38;5;66;03m# calculate the bead mappings for the entire trajectory\u001b[39;00m\n\u001b[32m    551\u001b[39m     \u001b[38;5;28mself\u001b[39m._set_mapping()\n",
      "\u001b[36mFile \u001b[39m\u001b[32m~/miniforge3/envs/p_l/lib/python3.11/site-packages/grits/coarsegrain.py:574\u001b[39m, in \u001b[36mCG_System._get_compounds\u001b[39m\u001b[34m(self, beads, allow_overlap, length_scale, conversion_dict, add_hydrogens, aniso_beads)\u001b[39m\n\u001b[32m    572\u001b[39m \u001b[38;5;66;03m# Use the conversion dictionary to map particle type to element symbol\u001b[39;00m\n\u001b[32m    573\u001b[39m \u001b[38;5;28;01mif\u001b[39;00m conversion_dict \u001b[38;5;129;01mis\u001b[39;00m \u001b[38;5;129;01mnot\u001b[39;00m \u001b[38;5;28;01mNone\u001b[39;00m:\n\u001b[32m--> \u001b[39m\u001b[32m574\u001b[39m     snap.particles.types = \u001b[43m[\u001b[49m\n\u001b[32m    575\u001b[39m \u001b[43m        \u001b[49m\u001b[43mconversion_dict\u001b[49m\u001b[43m[\u001b[49m\u001b[43mi\u001b[49m\u001b[43m]\u001b[49m\u001b[43m.\u001b[49m\u001b[43msymbol\u001b[49m\u001b[43m \u001b[49m\u001b[38;5;28;43;01mfor\u001b[39;49;00m\u001b[43m \u001b[49m\u001b[43mi\u001b[49m\u001b[43m \u001b[49m\u001b[38;5;129;43;01min\u001b[39;49;00m\u001b[43m \u001b[49m\u001b[43msnap\u001b[49m\u001b[43m.\u001b[49m\u001b[43mparticles\u001b[49m\u001b[43m.\u001b[49m\u001b[43mtypes\u001b[49m\n\u001b[32m    576\u001b[39m \u001b[43m    \u001b[49m\u001b[43m]\u001b[49m\n\u001b[32m    577\u001b[39m \u001b[38;5;66;03m# Break apart the snapshot into separate molecules\u001b[39;00m\n\u001b[32m    578\u001b[39m molecules = get_molecule_cluster(snap=snap)\n",
      "\u001b[36mFile \u001b[39m\u001b[32m~/miniforge3/envs/p_l/lib/python3.11/site-packages/grits/coarsegrain.py:575\u001b[39m, in \u001b[36m<listcomp>\u001b[39m\u001b[34m(.0)\u001b[39m\n\u001b[32m    572\u001b[39m \u001b[38;5;66;03m# Use the conversion dictionary to map particle type to element symbol\u001b[39;00m\n\u001b[32m    573\u001b[39m \u001b[38;5;28;01mif\u001b[39;00m conversion_dict \u001b[38;5;129;01mis\u001b[39;00m \u001b[38;5;129;01mnot\u001b[39;00m \u001b[38;5;28;01mNone\u001b[39;00m:\n\u001b[32m    574\u001b[39m     snap.particles.types = [\n\u001b[32m--> \u001b[39m\u001b[32m575\u001b[39m         \u001b[43mconversion_dict\u001b[49m\u001b[43m[\u001b[49m\u001b[43mi\u001b[49m\u001b[43m]\u001b[49m.symbol \u001b[38;5;28;01mfor\u001b[39;00m i \u001b[38;5;129;01min\u001b[39;00m snap.particles.types\n\u001b[32m    576\u001b[39m     ]\n\u001b[32m    577\u001b[39m \u001b[38;5;66;03m# Break apart the snapshot into separate molecules\u001b[39;00m\n\u001b[32m    578\u001b[39m molecules = get_molecule_cluster(snap=snap)\n",
      "\u001b[31mKeyError\u001b[39m: 'H3'"
     ]
    }
   ],
   "source": [
    "backbones = cg(\"/home/jbieri/CME_lab/repos/pl-validation/PCPDTFBT_C4_BO_10mer_linear_test.gsd\")"
   ]
  },
  {
   "cell_type": "code",
   "execution_count": 11,
   "id": "e5d18eb8-71cb-4013-9bcd-c443836fa6da",
   "metadata": {},
   "outputs": [
    {
     "name": "stdout",
     "output_type": "stream",
     "text": [
      "{'_A': 'c1ccncc1', '_B': 'C1C3=C(SC=C3)C2=C1C=CS2', '_C': 'c1(F)ccc2nsnc2c1'}\n"
     ]
    }
   ],
   "source": [
    "print(backbones)"
   ]
  },
  {
   "cell_type": "code",
   "execution_count": 6,
   "id": "00088eec-e556-45e9-a47b-274319996955",
   "metadata": {},
   "outputs": [
    {
     "name": "stdout",
     "output_type": "stream",
     "text": [
      "{'P': 'c1ccncc1', 'CPDT': 'C1C3=C(SC=C3)C2=C1C=CS2', 'PT': 'n1ccc2nsnc2c1', 'IDT': 'C1C2=C(C3=CC4=C(C=C31)C5=C(C4)C=CS5)SC=C2', 'BT': 'c1ccc2nsnc2c1', 'DPP': 'N1C=C(C(=O)Nc2)c2C1(=O)', 'FBT': 'c1(F)ccc2nsnc2c1', 'T': 'c1ccsc1', 'CPDT_eneHD': 'C1(=C(CC(CCCCCC)CCCCCCCC)CC(CCCCCC)CCCCCCCC)C3=C(SC=C3)C2=C1C=CS2', 'TPD': 'C1(=O)C2=CSC=C2C(=O)N1(CCCCCCCC)', 'BDT': 's1c2c(OCC(CC)CCCC)c3ccsc3c(OCC(CC)CCCC)c2cc1'}\n"
     ]
    }
   ],
   "source": [
    "print(polymer_fragments)"
   ]
  },
  {
   "cell_type": "code",
   "execution_count": 7,
   "id": "a6a17708-1d2e-441f-971a-29662bce2c21",
   "metadata": {},
   "outputs": [
    {
     "name": "stdout",
     "output_type": "stream",
     "text": [
      "101\n",
      "103\n",
      "103\n"
     ]
    }
   ],
   "source": [
    "original_traj = gsd.hoomd.open(\"/home/jbieri/CME_lab/repos/pl-validation/gsd_files/10_mers/PCPDTFBT_C4_BO_melt.gsd\",\"r+\")\n",
    "print(len(original_traj))\n",
    "new_traj = gsd.hoomd.open(\"/home/jbieri/CME_lab/repos/pl-validation/PCPDTFBT_C4_BO_10mer_linear.gsd\",\"r+\")\n",
    "print(len(new_traj))\n",
    "for frame in original_traj:\n",
    "    new_traj.append(frame)\n",
    "print(len(new_traj))"
   ]
  },
  {
   "cell_type": "code",
   "execution_count": 3,
   "id": "c312be68-fa1b-46d0-999b-6f09afc7da1f",
   "metadata": {},
   "outputs": [
    {
     "name": "stderr",
     "output_type": "stream",
     "text": [
      "/home/jbieri/miniforge3/envs/p_l/lib/python3.11/site-packages/grits/coarsegrain.py:153: UserWarning: C1SC2C3SC(C4C5=NSN=C5C=NC=4)=CC=3C(CCCCCCCCCCCCCCCC)(CCCCCCCCCCCCCCCC)C=2C=1 not found in compound!\n",
      "  warn(f\"{smart_str} not found in compound!\")\n",
      "/home/jbieri/miniforge3/envs/p_l/lib/python3.11/site-packages/grits/coarsegrain.py:194: UserWarning: Some atoms have been left out of coarse-graining!\n",
      "  warn(\"Some atoms have been left out of coarse-graining!\")\n"
     ]
    }
   ],
   "source": [
    "gsdfile = \"/home/jbieri/CME_lab/repos/pl-validation/PCPDTFBT_C4_BO_10mer_linear.gsd\"\n",
    "system = CG_System(\n",
    "    gsdfile,\n",
    "    beads={\"_A\": \"C1SC2C3SC(C4C5=NSN=C5C=NC=4)=CC=3C(CCCCCCCCCCCCCCCC)(CCCCCCCCCCCCCCCC)C=2C=1\"},\n",
    "    conversion_dict=element_dict\n",
    ")"
   ]
  },
  {
   "cell_type": "code",
   "execution_count": 5,
   "id": "c65d00e3-30e1-49a7-b991-9b55b337ecb8",
   "metadata": {},
   "outputs": [
    {
     "name": "stdout",
     "output_type": "stream",
     "text": [
      "Mapping saved to test-cg-mapping.json\n"
     ]
    }
   ],
   "source": [
    "system.save_mapping(\"test-cg-mapping.json\")"
   ]
  },
  {
   "cell_type": "code",
   "execution_count": 4,
   "id": "591737bb-94e7-4dae-8edb-668832df235e",
   "metadata": {},
   "outputs": [
    {
     "ename": "ValueError",
     "evalue": "need at least one array to concatenate",
     "output_type": "error",
     "traceback": [
      "\u001b[31m---------------------------------------------------------------------------\u001b[39m",
      "\u001b[31mValueError\u001b[39m                                Traceback (most recent call last)",
      "\u001b[36mCell\u001b[39m\u001b[36m \u001b[39m\u001b[32mIn[4]\u001b[39m\u001b[32m, line 2\u001b[39m\n\u001b[32m      1\u001b[39m cg_gsd = \u001b[33m\"\u001b[39m\u001b[33mcg_test.gsd\u001b[39m\u001b[33m\"\u001b[39m\n\u001b[32m----> \u001b[39m\u001b[32m2\u001b[39m \u001b[43msystem\u001b[49m\u001b[43m.\u001b[49m\u001b[43msave\u001b[49m\u001b[43m(\u001b[49m\u001b[43mcg_gsd\u001b[49m\u001b[43m)\u001b[49m\n",
      "\u001b[36mFile \u001b[39m\u001b[32m~/miniforge3/envs/p_l/lib/python3.11/site-packages/grits/coarsegrain.py:702\u001b[39m, in \u001b[36mCG_System.save\u001b[39m\u001b[34m(self, cg_gsdfile, start, stop, stride)\u001b[39m\n\u001b[32m    700\u001b[39m \u001b[38;5;28;01mfor\u001b[39;00m i, inds \u001b[38;5;129;01min\u001b[39;00m \u001b[38;5;28menumerate\u001b[39m(\u001b[38;5;28mself\u001b[39m.mapping.values()):\n\u001b[32m    701\u001b[39m     typeid.append(np.ones(\u001b[38;5;28mlen\u001b[39m(inds)) * i)\n\u001b[32m--> \u001b[39m\u001b[32m702\u001b[39m typeid = \u001b[43mnp\u001b[49m\u001b[43m.\u001b[49m\u001b[43mhstack\u001b[49m\u001b[43m(\u001b[49m\u001b[43mtypeid\u001b[49m\u001b[43m)\u001b[49m\n\u001b[32m    704\u001b[39m \u001b[38;5;66;03m# Set up bond information if it exists\u001b[39;00m\n\u001b[32m    705\u001b[39m bond_types = []\n",
      "\u001b[36mFile \u001b[39m\u001b[32m~/miniforge3/envs/p_l/lib/python3.11/site-packages/numpy/core/shape_base.py:359\u001b[39m, in \u001b[36mhstack\u001b[39m\u001b[34m(tup, dtype, casting)\u001b[39m\n\u001b[32m    357\u001b[39m     \u001b[38;5;28;01mreturn\u001b[39;00m _nx.concatenate(arrs, \u001b[32m0\u001b[39m, dtype=dtype, casting=casting)\n\u001b[32m    358\u001b[39m \u001b[38;5;28;01melse\u001b[39;00m:\n\u001b[32m--> \u001b[39m\u001b[32m359\u001b[39m     \u001b[38;5;28;01mreturn\u001b[39;00m \u001b[43m_nx\u001b[49m\u001b[43m.\u001b[49m\u001b[43mconcatenate\u001b[49m\u001b[43m(\u001b[49m\u001b[43marrs\u001b[49m\u001b[43m,\u001b[49m\u001b[43m \u001b[49m\u001b[32;43m1\u001b[39;49m\u001b[43m,\u001b[49m\u001b[43m \u001b[49m\u001b[43mdtype\u001b[49m\u001b[43m=\u001b[49m\u001b[43mdtype\u001b[49m\u001b[43m,\u001b[49m\u001b[43m \u001b[49m\u001b[43mcasting\u001b[49m\u001b[43m=\u001b[49m\u001b[43mcasting\u001b[49m\u001b[43m)\u001b[49m\n",
      "\u001b[31mValueError\u001b[39m: need at least one array to concatenate"
     ]
    }
   ],
   "source": [
    "cg_gsd = \"cg_test.gsd\"\n",
    "system.save(cg_gsd)"
   ]
  }
 ],
 "metadata": {
  "kernelspec": {
   "display_name": "Python 3 (ipykernel)",
   "language": "python",
   "name": "python3"
  },
  "language_info": {
   "codemirror_mode": {
    "name": "ipython",
    "version": 3
   },
   "file_extension": ".py",
   "mimetype": "text/x-python",
   "name": "python",
   "nbconvert_exporter": "python",
   "pygments_lexer": "ipython3",
   "version": "3.11.13"
  }
 },
 "nbformat": 4,
 "nbformat_minor": 5
}
