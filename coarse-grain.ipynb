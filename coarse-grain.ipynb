{
 "cells": [
  {
   "cell_type": "code",
   "execution_count": 6,
   "id": "7d424dd8-2b25-4f60-950b-76d7c2526032",
   "metadata": {},
   "outputs": [],
   "source": [
    "import grits\n",
    "import numpy as np\n",
    "import frag_classes\n",
    "import inspect\n",
    "from polymer_dictionary import bond_indices\n",
    "from polymer_dictionary import polymer_fragments\n",
    "import os\n",
    "import glob"
   ]
  },
  {
   "cell_type": "code",
   "execution_count": 2,
   "id": "f737c7a7-dbb9-4985-97f3-3ad25d24fa9d",
   "metadata": {},
   "outputs": [],
   "source": [
    "cg_fragments = inspect.getmembers(frag_classes, inspect.isclass)"
   ]
  },
  {
   "cell_type": "code",
   "execution_count": 3,
   "id": "aeed66a7-c39f-48cd-8457-d7e4e1bf2740",
   "metadata": {},
   "outputs": [
    {
     "name": "stdout",
     "output_type": "stream",
     "text": [
      "[('BDT', <class 'frag_classes.BDT'>), ('BT', <class 'frag_classes.BT'>), ('CPDT', <class 'frag_classes.CPDT'>), ('CPDT_eneHD', <class 'frag_classes.CPDT_eneHD'>), ('DPP', <class 'frag_classes.DPP'>), ('FBT', <class 'frag_classes.FBT'>), ('IDT', <class 'frag_classes.IDT'>), ('PT', <class 'frag_classes.PT'>), ('TPD', <class 'frag_classes.TPD'>), ('pyridine', <class 'frag_classes.pyridine'>), ('thiophene', <class 'frag_classes.thiophene'>)]\n"
     ]
    }
   ],
   "source": [
    "print(cg_fragments)"
   ]
  },
  {
   "cell_type": "code",
   "execution_count": 4,
   "id": "b848e40f-e256-4b2d-8534-e94d677faf24",
   "metadata": {},
   "outputs": [
    {
     "name": "stdout",
     "output_type": "stream",
     "text": [
      "['PCPDTFBT_C11_BO', 'PCPDTFBT_C1_BO', 'PCPDTFBT_C3_BO', 'PCPDTFBT_C4_BO', 'PCPDTFBT_C5_BO', 'PCPDTPT_HD', 'PCPDTPT_ODD', 'PCPDTPT_eneODD', 'PCPDTPT_nC16', 'PCPDT_PT_eneHD', 'PIDTBT_nC16', 'PIDTCPDT_C11BO', 'PIDTFBT_C11_BO']\n"
     ]
    }
   ],
   "source": [
    "key_list = sorted(list(bond_indices.keys())) # Aligning dictionary and path to aid automation\n",
    "path = (os.getcwd()+\"/mol2/\") # Non-user specific path\n",
    "molecule_list = sorted(glob.glob(path+\"*.mol2\"))\n",
    "molecule_list.pop(10) # Removing polymer not tested\n",
    "print(key_list)"
   ]
  },
  {
   "cell_type": "code",
   "execution_count": 25,
   "id": "bb635a28-eb1c-4890-9315-a0cacf0ab992",
   "metadata": {},
   "outputs": [],
   "source": [
    "def cg(filename):\n",
    "    name = os.path.basename(filename)\n",
    "    name = (os.path.splitext(name)[0])[1:]\n",
    "    final_cg = [polymer_fragments[\"P\"]]\n",
    "    if name[0:4] == \"CPDT\":\n",
    "        final_cg.append(polymer_fragments[\"CPDT\"])\n",
    "        name = name[4:]\n",
    "    if name[0:3] == \"IDT\":\n",
    "        final_cg.append(polymer_fragments[\"IDT\"])\n",
    "        name = name[3:]\n",
    "    if name[0:3] == \"FBT\":\n",
    "        final_cg.append(polymer_fragments[\"FBT\"])\n",
    "        name = name[3:]\n",
    "    if name[0:2] == \"PT\":\n",
    "        final_cg.append(polymer_fragments[\"PT\"])\n",
    "        name = name[2:]\n",
    "    if name[0:2] == \"_PT\":\n",
    "        final_cg.append(polymer_fragments[\"PT\"])\n",
    "        name = name[2:]\n",
    "    if name[0:4] == \"CPDT\":\n",
    "        final_cg.append(polymer_fragments[\"CPDT\"])\n",
    "        name = name[4:]\n",
    "    if name[0:10] == \"CPDT_eneHD\":\n",
    "        final_cg.append(polymer_fragments[\"CPDT_eneHD\"])\n",
    "        name = name[10:0]\n",
    "    return name, final_cg"
   ]
  },
  {
   "cell_type": "code",
   "execution_count": 24,
   "id": "dd83a8dc-7b7c-48f6-9e89-68b1789707d4",
   "metadata": {},
   "outputs": [
    {
     "data": {
      "text/plain": [
       "('_C1_BO', ['c1ccncc1', 'C1C3=C(SC=C3)C2=C1C=CS2', 'c1(F)ccc2nsnc2c1'])"
      ]
     },
     "execution_count": 24,
     "metadata": {},
     "output_type": "execute_result"
    }
   ],
   "source": [
    "cg(\"/home/jbieri/CME_lab/repos/pl-validation/gsd_files/PCPDTFBT_C1_BO.mol2\")"
   ]
  },
  {
   "cell_type": "code",
   "execution_count": 13,
   "id": "efe1d0f3-dc8e-4b9b-9520-71419f110d4a",
   "metadata": {},
   "outputs": [
    {
     "name": "stdout",
     "output_type": "stream",
     "text": [
      "S1c2c(OC[C@@H](CC)CCCC)c3C=[C]Sc3c(OC[C@H](CC)CCCC)c2C=[C]1\n"
     ]
    }
   ],
   "source": [
    "print(frag_classes.BDT().to_smiles())"
   ]
  },
  {
   "cell_type": "code",
   "execution_count": 14,
   "id": "00088eec-e556-45e9-a47b-274319996955",
   "metadata": {},
   "outputs": [
    {
     "name": "stdout",
     "output_type": "stream",
     "text": [
      "{'P': 'c1ccncc1', 'CPDT': 'C1C3=C(SC=C3)C2=C1C=CS2', 'PT': 'n1ccc2nsnc2c1', 'IDT': 'C1C2=C(C3=CC4=C(C=C31)C5=C(C4)C=CS5)SC=C2', 'BT': 'c1ccc2nsnc2c1', 'DPP': 'N1C=C(C(=O)Nc2)c2C1(=O)', 'FBT': 'c1(F)ccc2nsnc2c1', 'T': 'c1ccsc1', 'CPDT_eneHD': 'C1(=C(CC(CCCCCC)CCCCCCCC)CC(CCCCCC)CCCCCCCC)C3=C(SC=C3)C2=C1C=CS2', 'TPD': 'C1(=O)C2=CSC=C2C(=O)N1(CCCCCCCC)', 'BDT': 's1c2c(OCC(CC)CCCC)c3ccsc3c(OCC(CC)CCCC)c2cc1'}\n"
     ]
    }
   ],
   "source": [
    "print(polymer_fragments)"
   ]
  },
  {
   "cell_type": "code",
   "execution_count": null,
   "id": "376a78a7-d264-419a-bf16-c7820ece5f2f",
   "metadata": {},
   "outputs": [],
   "source": []
  }
 ],
 "metadata": {
  "kernelspec": {
   "display_name": "Python 3 (ipykernel)",
   "language": "python",
   "name": "python3"
  },
  "language_info": {
   "codemirror_mode": {
    "name": "ipython",
    "version": 3
   },
   "file_extension": ".py",
   "mimetype": "text/x-python",
   "name": "python",
   "nbconvert_exporter": "python",
   "pygments_lexer": "ipython3",
   "version": "3.11.13"
  }
 },
 "nbformat": 4,
 "nbformat_minor": 5
}
