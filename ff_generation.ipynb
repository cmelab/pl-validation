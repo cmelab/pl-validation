{
 "cells": [
  {
   "cell_type": "code",
   "execution_count": 1,
   "id": "90ff24dc-0b18-4ba4-bde6-e0583a28174a",
   "metadata": {},
   "outputs": [
    {
     "name": "stderr",
     "output_type": "stream",
     "text": [
      "/home/jbieri/miniforge3/envs/ff_generation/lib/python3.10/site-packages/foyer/forcefield.py:34: DeprecationWarning: pkg_resources is deprecated as an API. See https://setuptools.pypa.io/en/latest/pkg_resources.html\n",
      "  from pkg_resources import iter_entry_points, resource_filename\n",
      "/home/jbieri/miniforge3/envs/ff_generation/lib/python3.10/site-packages/pkg_resources/__init__.py:3142: DeprecationWarning: Deprecated call to `pkg_resources.declare_namespace('google')`.\n",
      "Implementing implicit namespace packages (as specified in PEP 420) is preferred to `pkg_resources.declare_namespace`. See https://setuptools.pypa.io/en/latest/references/keywords.html#keyword-namespace-packages\n",
      "  declare_namespace(pkg)\n"
     ]
    },
    {
     "name": "stdout",
     "output_type": "stream",
     "text": [
      "\n",
      "Support for writing out LAMMPS data files will be removed\n",
      "in mbuild 1.0.\n",
      "See GMSO (https://github.com/mosdef-hub/gmso/tree/main/gmso/formats/lammpsdata) for\n",
      "continued support for LAMMPS.\n",
      "\n"
     ]
    },
    {
     "data": {
      "application/vnd.jupyter.widget-view+json": {
       "model_id": "c5a4441ee70e4023b701e79a0d282f8f",
       "version_major": 2,
       "version_minor": 0
      },
      "text/plain": []
     },
     "metadata": {},
     "output_type": "display_data"
    },
    {
     "name": "stderr",
     "output_type": "stream",
     "text": [
      "/home/jbieri/miniforge3/envs/ff_generation/lib/python3.10/site-packages/qcelemental/models/results.py:799: DeprecationWarning: ResultProtocols has been renamed to AtomicResultProtocols and will be removed as soon as v0.13.0\n",
      "  warn(\n",
      "/home/jbieri/miniforge3/envs/ff_generation/lib/python3.10/site-packages/qcelemental/models/results.py:799: DeprecationWarning: ResultProtocols has been renamed to AtomicResultProtocols and will be removed as soon as v0.13.0\n",
      "  warn(\n"
     ]
    }
   ],
   "source": [
    "import numpy as np\n",
    "import glob\n",
    "import warnings\n",
    "warnings.filterwarnings(action='ignore')\n",
    "\n",
    "import mbuild as mb\n",
    "import espaloma\n",
    "\n",
    "# Rerun with the original seed first"
   ]
  },
  {
   "cell_type": "code",
   "execution_count": 3,
   "id": "f4c47390-7359-4dd9-b2d7-88f31f58496c",
   "metadata": {},
   "outputs": [],
   "source": [
    "class PCPDTPT_nC16(mb.Compound):\n",
    "    def __init__(self):\n",
    "        super(PCPDTPT_nC16,self).__init__()\n",
    "        self.add(mb.load(\"C1SC2C3SC(C4C5=NSN=C5C=NC=4)=CC=3C(CCCCCCCCCCCCCCCC)(CCCCCCCCCCCCCCCC)C=2C=1\",smiles=True)) #smiles string of molecule\n",
    "        self.bond_indices = [121,122] #bond indices where polymerization would occur\n",
    "        self.orientations = [None,None] #orientation of polymer bonds\n",
    "        self.separation = 0.14 #separation of polymer bonds\n",
    "        self.replace = True #true if replacing H's when building polymer\n",
    "        self.energy_minimize()"
   ]
  },
  {
   "cell_type": "code",
   "execution_count": 12,
   "id": "342c43aa-3c59-4546-8f6d-08906d7e41ab",
   "metadata": {},
   "outputs": [],
   "source": [
    "def espaloma_mol(file_path):\n",
    "     mol = mb.load(file_path)\n",
    "     for p in mol.particles():\n",
    "           p.name = f\"_{p.name}\"\n",
    "     return mol"
   ]
  },
  {
   "cell_type": "code",
   "execution_count": 13,
   "id": "f7a146cb-873c-486c-a4fc-09b760811dde",
   "metadata": {},
   "outputs": [
    {
     "ename": "AssertionError",
     "evalue": "mol can only be OFF Molecule object.",
     "output_type": "error",
     "traceback": [
      "\u001b[0;31m---------------------------------------------------------------------------\u001b[0m",
      "\u001b[0;31mAssertionError\u001b[0m                            Traceback (most recent call last)",
      "Cell \u001b[0;32mIn[13], line 3\u001b[0m\n\u001b[1;32m      1\u001b[0m molecule \u001b[38;5;241m=\u001b[39m mb\u001b[38;5;241m.\u001b[39mload(\u001b[38;5;124m\"\u001b[39m\u001b[38;5;124mC1SC2C3SC(C4C5=NSN=C5C=NC=4)=CC=3C(CCCCCCCCCCCCCCCC)(CCCCCCCCCCCCCCCC)C=2C=1\u001b[39m\u001b[38;5;124m\"\u001b[39m,smiles\u001b[38;5;241m=\u001b[39m\u001b[38;5;28;01mTrue\u001b[39;00m)\n\u001b[1;32m      2\u001b[0m molecule \u001b[38;5;241m=\u001b[39m espaloma_mol(molecule)\n\u001b[0;32m----> 3\u001b[0m molecule_graph \u001b[38;5;241m=\u001b[39m \u001b[43mespaloma\u001b[49m\u001b[38;5;241;43m.\u001b[39;49m\u001b[43mGraph\u001b[49m\u001b[43m(\u001b[49m\u001b[43mmolecule\u001b[49m\u001b[43m)\u001b[49m\n\u001b[1;32m      4\u001b[0m espaloma_model \u001b[38;5;241m=\u001b[39m espaloma\u001b[38;5;241m.\u001b[39mget_model(\u001b[38;5;124m\"\u001b[39m\u001b[38;5;124mlatest\u001b[39m\u001b[38;5;124m\"\u001b[39m)\n\u001b[1;32m      5\u001b[0m espaloma_model(molecule_graph\u001b[38;5;241m.\u001b[39mheterograph)\n",
      "File \u001b[0;32m~/miniforge3/envs/ff_generation/lib/python3.10/site-packages/espaloma/graphs/graph.py:60\u001b[0m, in \u001b[0;36mGraph.__init__\u001b[0;34m(self, mol, homograph, heterograph)\u001b[0m\n\u001b[1;32m     57\u001b[0m     mol \u001b[38;5;241m=\u001b[39m Molecule\u001b[38;5;241m.\u001b[39mfrom_smiles(mol, allow_undefined_stereo\u001b[38;5;241m=\u001b[39m\u001b[38;5;28;01mTrue\u001b[39;00m)\n\u001b[1;32m     59\u001b[0m \u001b[38;5;28;01mif\u001b[39;00m mol \u001b[38;5;129;01mis\u001b[39;00m \u001b[38;5;129;01mnot\u001b[39;00m \u001b[38;5;28;01mNone\u001b[39;00m \u001b[38;5;129;01mand\u001b[39;00m homograph \u001b[38;5;129;01mis\u001b[39;00m \u001b[38;5;28;01mNone\u001b[39;00m \u001b[38;5;129;01mand\u001b[39;00m heterograph \u001b[38;5;129;01mis\u001b[39;00m \u001b[38;5;28;01mNone\u001b[39;00m:\n\u001b[0;32m---> 60\u001b[0m     homograph \u001b[38;5;241m=\u001b[39m \u001b[38;5;28;43mself\u001b[39;49m\u001b[38;5;241;43m.\u001b[39;49m\u001b[43mget_homograph_from_mol\u001b[49m\u001b[43m(\u001b[49m\u001b[43mmol\u001b[49m\u001b[43m)\u001b[49m\n\u001b[1;32m     62\u001b[0m \u001b[38;5;28;01mif\u001b[39;00m homograph \u001b[38;5;129;01mis\u001b[39;00m \u001b[38;5;129;01mnot\u001b[39;00m \u001b[38;5;28;01mNone\u001b[39;00m \u001b[38;5;129;01mand\u001b[39;00m heterograph \u001b[38;5;129;01mis\u001b[39;00m \u001b[38;5;28;01mNone\u001b[39;00m:\n\u001b[1;32m     63\u001b[0m     heterograph \u001b[38;5;241m=\u001b[39m \u001b[38;5;28mself\u001b[39m\u001b[38;5;241m.\u001b[39mget_heterograph_from_graph_and_mol(\n\u001b[1;32m     64\u001b[0m         homograph, mol\n\u001b[1;32m     65\u001b[0m     )\n",
      "File \u001b[0;32m~/miniforge3/envs/ff_generation/lib/python3.10/site-packages/espaloma/graphs/graph.py:112\u001b[0m, in \u001b[0;36mGraph.get_homograph_from_mol\u001b[0;34m(mol)\u001b[0m\n\u001b[1;32m    110\u001b[0m \u001b[38;5;129m@staticmethod\u001b[39m\n\u001b[1;32m    111\u001b[0m \u001b[38;5;28;01mdef\u001b[39;00m\u001b[38;5;250m \u001b[39m\u001b[38;5;21mget_homograph_from_mol\u001b[39m(mol):\n\u001b[0;32m--> 112\u001b[0m     \u001b[38;5;28;01massert\u001b[39;00m \u001b[38;5;28misinstance\u001b[39m(\n\u001b[1;32m    113\u001b[0m         mol, openff\u001b[38;5;241m.\u001b[39mtoolkit\u001b[38;5;241m.\u001b[39mtopology\u001b[38;5;241m.\u001b[39mMolecule\n\u001b[1;32m    114\u001b[0m     ), \u001b[38;5;124m\"\u001b[39m\u001b[38;5;124mmol can only be OFF Molecule object.\u001b[39m\u001b[38;5;124m\"\u001b[39m\n\u001b[1;32m    116\u001b[0m     \u001b[38;5;66;03m# TODO:\u001b[39;00m\n\u001b[1;32m    117\u001b[0m     \u001b[38;5;66;03m# rewrite this using OFF-generic grammar\u001b[39;00m\n\u001b[1;32m    118\u001b[0m     \u001b[38;5;66;03m# graph = esp.graphs.utils.read_homogeneous_graph.from_rdkit_mol(\u001b[39;00m\n\u001b[1;32m    119\u001b[0m     \u001b[38;5;66;03m#     mol.to_rdkit()\u001b[39;00m\n\u001b[1;32m    120\u001b[0m     \u001b[38;5;66;03m# )\u001b[39;00m\n\u001b[1;32m    122\u001b[0m     graph \u001b[38;5;241m=\u001b[39m (\n\u001b[1;32m    123\u001b[0m         esp\u001b[38;5;241m.\u001b[39mgraphs\u001b[38;5;241m.\u001b[39mutils\u001b[38;5;241m.\u001b[39mread_homogeneous_graph\u001b[38;5;241m.\u001b[39mfrom_openff_toolkit_mol(\n\u001b[1;32m    124\u001b[0m             mol\n\u001b[1;32m    125\u001b[0m         )\n\u001b[1;32m    126\u001b[0m     )\n",
      "\u001b[0;31mAssertionError\u001b[0m: mol can only be OFF Molecule object."
     ]
    }
   ],
   "source": [
    "molecule = mb.load(\"C1SC2C3SC(C4C5=NSN=C5C=NC=4)=CC=3C(CCCCCCCCCCCCCCCC)(CCCCCCCCCCCCCCCC)C=2C=1\",smiles=True)\n",
    "molecule = espaloma_mol(molecule)\n",
    "molecule_graph = espaloma.Graph(molecule)\n",
    "espaloma_model = espaloma.get_model(\"latest\")\n",
    "espaloma_model(molecule_graph.heterograph)\n",
    "openmm_system = espaloma.graphs.deploy.openmm_system_from_graph(molecule_graph)"
   ]
  },
  {
   "cell_type": "code",
   "execution_count": 6,
   "id": "89abc872-5f17-48be-be4d-4db5948324b8",
   "metadata": {},
   "outputs": [
    {
     "ename": "TypeError",
     "evalue": "'module' object is not callable",
     "output_type": "error",
     "traceback": [
      "\u001b[0;31m---------------------------------------------------------------------------\u001b[0m",
      "\u001b[0;31mTypeError\u001b[0m                                 Traceback (most recent call last)",
      "Cell \u001b[0;32mIn[6], line 6\u001b[0m\n\u001b[1;32m      4\u001b[0m bruh \u001b[38;5;241m=\u001b[39m PCPDTPT_nC16()\n\u001b[1;32m      5\u001b[0m \u001b[38;5;66;03m# espaloma(MONOMER=bruh,XML_FILEPATH=xml_filepath,typed_filepath=typed_filepath,DIMER=True)\u001b[39;00m\n\u001b[0;32m----> 6\u001b[0m \u001b[43mespaloma\u001b[49m\u001b[43m(\u001b[49m\u001b[43mMONOMER\u001b[49m\u001b[38;5;241;43m=\u001b[39;49m\u001b[43mPCPDTPT_nC16\u001b[49m\u001b[43m(\u001b[49m\u001b[43m)\u001b[49m\u001b[43m,\u001b[49m\u001b[43m  \u001b[49m\u001b[38;5;66;43;03m#Call in your molecule from your molecule class \u001b[39;49;00m\n\u001b[1;32m      7\u001b[0m \u001b[43m         \u001b[49m\u001b[43mXML_FILEPATH\u001b[49m\u001b[38;5;241;43m=\u001b[39;49m\u001b[43mxml_filepath\u001b[49m\u001b[43m,\u001b[49m\n\u001b[1;32m      8\u001b[0m \u001b[43m         \u001b[49m\u001b[43mTYPED_FILEPATH\u001b[49m\u001b[38;5;241;43m=\u001b[39;49m\u001b[43mtyped_filepath\u001b[49m\u001b[43m,\u001b[49m\n\u001b[1;32m      9\u001b[0m \u001b[43m         \u001b[49m\u001b[43mDIMER\u001b[49m\u001b[38;5;241;43m=\u001b[39;49m\u001b[38;5;28;43;01mTrue\u001b[39;49;00m\u001b[43m)\u001b[49m \u001b[38;5;66;03m#if planning on polymerizing the molecule set = True. \u001b[39;00m\n",
      "\u001b[0;31mTypeError\u001b[0m: 'module' object is not callable"
     ]
    }
   ],
   "source": [
    "xml_filepath = \"/home/jbieri/CME_lab/projects/bruh/PCPDTPT_nC16.xml\"\n",
    "typed_filepath = \"/home/jbieri/CME_lab/repos/pl-validation/dimer_mol2/PCPDTPT_nC16_2mer.mol2\"\n",
    "\n",
    "espaloma(MONOMER=PCPDTPT_nC16(),  #Call in your molecule from your molecule class \n",
    "         XML_FILEPATH=xml_filepath,\n",
    "         TYPED_FILEPATH=typed_filepath,\n",
    "         DIMER=True) #if planning on polymerizing the molecule set = True. "
   ]
  }
 ],
 "metadata": {
  "kernelspec": {
   "display_name": "Python 3 (ipykernel)",
   "language": "python",
   "name": "python3"
  },
  "language_info": {
   "codemirror_mode": {
    "name": "ipython",
    "version": 3
   },
   "file_extension": ".py",
   "mimetype": "text/x-python",
   "name": "python",
   "nbconvert_exporter": "python",
   "pygments_lexer": "ipython3",
   "version": "3.10.14"
  }
 },
 "nbformat": 4,
 "nbformat_minor": 5
}
