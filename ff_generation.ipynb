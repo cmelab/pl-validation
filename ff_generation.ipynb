{
 "cells": [
  {
   "cell_type": "markdown",
   "id": "d1b58548-3d91-4d5c-a04f-4c6d368f91a8",
   "metadata": {},
   "source": [
    "## Generating forcefields for polymers"
   ]
  },
  {
   "cell_type": "code",
   "execution_count": 4,
   "id": "90ff24dc-0b18-4ba4-bde6-e0583a28174a",
   "metadata": {},
   "outputs": [],
   "source": [
    "import warnings\n",
    "warnings.filterwarnings(action='ignore')\n",
    "\n",
    "import mbuild as mb\n",
    "from functions.Espaloma_Functions import build_chain, build_polymer, espaloma\n",
    "import rdkit"
   ]
  },
  {
   "cell_type": "code",
   "execution_count": 7,
   "id": "f4c47390-7359-4dd9-b2d7-88f31f58496c",
   "metadata": {},
   "outputs": [],
   "source": [
    "# Monomer class in order to buid polymer\n",
    "class alternate_PCPDTPT_nC16(mb.Compound):\n",
    "    def __init__(self):\n",
    "        super(alternate_PCPDTPT_nC16,self).__init__()\n",
    "        self.add(mb.load(\"C1SC2C3SC(C4C5=NSN=C5C=NC=4)=CC=3C(CCCCCCCCCCCCCCCC)(CCCCCCCCCCCCCCCC)C=2C=1\",smiles=True)) #smiles string of molecule\n",
    "        self.bond_indices = [121,122] \n",
    "        self.orientations = [None,None]\n",
    "        self.separation = 0.14\n",
    "        self.replace = True\n",
    "        self.energy_minimize()"
   ]
  },
  {
   "cell_type": "code",
   "execution_count": 5,
   "id": "89abc872-5f17-48be-be4d-4db5948324b8",
   "metadata": {},
   "outputs": [
    {
     "name": "stdout",
     "output_type": "stream",
     "text": [
      "Done!\n",
      "Typed mol2 file created.\n",
      "xml file created.\n"
     ]
    }
   ],
   "source": [
    "'''Set the file path where you would like to save your xml file and atom-typed mol2 file'''\n",
    "xml_filepath = \"alternate_PCPDTPT_nC16.xml\"\n",
    "typed_filepath = \"alternate_PCPDTPT_nC16.mol2\"\n",
    "\n",
    "\n",
    "espaloma(MONOMER=fixed_PCPDTPT_nC16(),  #Call in your molecule from your molecule class \n",
    "         XML_FILEPATH=xml_filepath, \n",
    "         TYPED_FILEPATH=typed_filepath,\n",
    "         DIMER=True) #if planning on polymerizing the molecule set = True. "
   ]
  },
  {
   "cell_type": "code",
   "execution_count": 6,
   "id": "65130a4c-069b-44ef-9127-4a64369ee8ab",
   "metadata": {},
   "outputs": [
    {
     "name": "stdout",
     "output_type": "stream",
     "text": [
      "Help on function espaloma in module functions.Espaloma_Functions:\n",
      "\n",
      "espaloma(MONOMER, XML_FILEPATH, TYPED_FILEPATH, DIMER)\n",
      "    if you plan to parameterize a polymer made up of your monomer set dimer = True, \n",
      "    if you are simulating only the monomer set dimer = False\n",
      "\n"
     ]
    }
   ],
   "source": [
    "help(espaloma)"
   ]
  },
  {
   "cell_type": "code",
   "execution_count": 12,
   "id": "4ba9e3aa-5e69-4795-9be5-6fe96a17684f",
   "metadata": {},
   "outputs": [],
   "source": [
    "temp = mb.load(\"C1SC2C3SC(C4C5=NSN=C5C=NC=4)=CC=3C(CCCCCCCCCCCCCCCC)(CCCCCCCCCCCCCCCC)C=2C=1\",smiles=True)"
   ]
  },
  {
   "cell_type": "code",
   "execution_count": 14,
   "id": "8dae718f-be75-4266-bf9f-5872730bbe3e",
   "metadata": {},
   "outputs": [
    {
     "data": {
      "text/plain": [
       "<bound method Compound.to_rdkit of <Compound 123 particles, 127 bonds, non-periodic, id: 140649877478928>>"
      ]
     },
     "execution_count": 14,
     "metadata": {},
     "output_type": "execute_result"
    }
   ],
   "source": [
    "temp.to_rdkit"
   ]
  },
  {
   "cell_type": "code",
   "execution_count": 17,
   "id": "36904ae2-9e03-4fde-b6f0-00ca81727b64",
   "metadata": {},
   "outputs": [
    {
     "data": {
      "application/3dmoljs_load.v0": "<div id=\"3dmolviewer_17521840578405707\"  style=\"position: relative; width: 640px; height: 480px;\">\n        <p id=\"3dmolwarning_17521840578405707\" style=\"background-color:#ffcccc;color:black\">3Dmol.js failed to load for some reason.  Please check your browser console for error messages.<br></p>\n        </div>\n<script>\n\nvar loadScriptAsync = function(uri){\n  return new Promise((resolve, reject) => {\n    //this is to ignore the existence of requirejs amd\n    var savedexports, savedmodule;\n    if (typeof exports !== 'undefined') savedexports = exports;\n    else exports = {}\n    if (typeof module !== 'undefined') savedmodule = module;\n    else module = {}\n\n    var tag = document.createElement('script');\n    tag.src = uri;\n    tag.async = true;\n    tag.onload = () => {\n        exports = savedexports;\n        module = savedmodule;\n        resolve();\n    };\n  var firstScriptTag = document.getElementsByTagName('script')[0];\n  firstScriptTag.parentNode.insertBefore(tag, firstScriptTag);\n});\n};\n\nif(typeof $3Dmolpromise === 'undefined') {\n$3Dmolpromise = null;\n  $3Dmolpromise = loadScriptAsync('https://cdn.jsdelivr.net/npm/3dmol@2.5.1/build/3Dmol-min.js');\n}\n\nvar viewer_17521840578405707 = null;\nvar warn = document.getElementById(\"3dmolwarning_17521840578405707\");\nif(warn) {\n    warn.parentNode.removeChild(warn);\n}\n$3Dmolpromise.then(function() {\nviewer_17521840578405707 = $3Dmol.createViewer(document.getElementById(\"3dmolviewer_17521840578405707\"),{backgroundColor:\"white\"});\nviewer_17521840578405707.zoomTo();\n\tviewer_17521840578405707.addModel(\"@<TRIPOS>MOLECULE\\nRES\\n123 127 1 0 1\\nSMALL\\nNO_CHARGES\\n@<TRIPOS>CRYSIN\\n   36.0668    15.2382    13.1086    90.0000    90.0000    90.0000 1 1\\n@<TRIPOS>ATOM\\n       1 C            1.5918    -1.1366    -3.6263 C             1 RES     \\n       2 S            1.0134     0.4711    -3.6081 S             1 RES     \\n       3 C            0.5744     0.3856    -1.9983 C             1 RES     \\n       4 C           -0.0854     1.1848    -1.0110 C             1 RES     \\n       5 S           -0.9523     2.6076    -0.9278 S             1 RES     \\n       6 C           -1.5311     2.3000     0.6575 C             1 RES     \\n       7 C           -2.4551     3.1789     1.4369 C             1 RES     \\n       8 C           -3.1193     4.2896     0.8635 C             1 RES     \\n       9 N           -3.0101     4.6526    -0.4417 N             1 RES     \\n      10 S           -3.9820     5.9906    -0.4803 S             1 RES     \\n      11 N           -4.5694     6.1644     1.0544 N             1 RES     \\n      12 C           -3.9694     5.1071     1.6613 C             1 RES     \\n      13 C           -4.1571     4.8041     3.0040 C             1 RES     \\n      14 N           -3.5312     3.7205     3.5358 N             1 RES     \\n      15 C           -2.7049     2.9188     2.8034 C             1 RES     \\n      16 C           -1.0483     1.0454     1.0809 C             1 RES     \\n      17 C           -0.2590     0.4360     0.1092 C             1 RES     \\n      18 C            0.3455    -0.9519    -0.0363 C             1 RES     \\n      19 C            1.5205    -1.1725     0.9629 C             1 RES     \\n      20 C            2.5809    -0.0489     1.0725 C             1 RES     \\n      21 C            3.6739    -0.1278    -0.0082 C             1 RES     \\n      22 C            4.7712     0.9367     0.1799 C             1 RES     \\n      23 C            5.6615     0.7537     1.4256 C             1 RES     \\n      24 C            6.3749    -0.6088     1.5303 C             1 RES     \\n      25 C            7.2575    -0.9777     0.3240 C             1 RES     \\n      26 C            8.4840    -0.0599     0.1861 C             1 RES     \\n      27 C            9.3561    -0.4072    -1.0318 C             1 RES     \\n      28 C           10.0668    -1.7652    -0.8923 C             1 RES     \\n      29 C           11.0538    -2.0500    -2.0406 C             1 RES     \\n      30 C           12.2651    -1.0968    -2.1290 C             1 RES     \\n      31 C           13.0742    -0.9410    -0.8285 C             1 RES     \\n      32 C           13.6743    -2.2661    -0.3372 C             1 RES     \\n      33 C           14.5538    -2.0428     0.8978 C             1 RES     \\n      34 C           15.1634    -3.3526     1.3868 C             1 RES     \\n      35 C           -0.7186    -2.0793     0.1419 C             1 RES     \\n      36 C           -1.7896    -2.2550    -0.9662 C             1 RES     \\n      37 C           -2.8330    -1.1325    -1.1080 C             1 RES     \\n      38 C           -3.7171    -0.9572     0.1354 C             1 RES     \\n      39 C           -4.6768     0.2276    -0.0399 C             1 RES     \\n      40 C           -5.4342     0.5204     1.2622 C             1 RES     \\n      41 C           -6.2893     1.7970     1.1828 C             1 RES     \\n      42 C           -7.4577     1.7349     0.1823 C             1 RES     \\n      43 C           -8.4953     0.6548     0.5367 C             1 RES     \\n      44 C           -9.7565     0.7370    -0.3363 C             1 RES     \\n      45 C          -10.7329     1.8286     0.1379 C             1 RES     \\n      46 C          -11.9245     2.0252    -0.8176 C             1 RES     \\n      47 C          -12.8177     0.7852    -1.0079 C             1 RES     \\n      48 C          -13.4779     0.3190     0.3016 C             1 RES     \\n      49 C          -14.5305    -0.7766     0.0682 C             1 RES     \\n      50 C          -13.9085    -2.1141    -0.3376 C             1 RES     \\n      51 C            0.8316    -0.8406    -1.4702 C             1 RES     \\n      52 C            1.4167    -1.7290    -2.3700 C             1 RES     \\n      53 H            2.0181    -1.6316    -4.4868 H             1 RES     \\n      54 H           -4.8031     5.4160     3.6219 H             1 RES     \\n      55 H           -2.2345     2.0857     3.3065 H             1 RES     \\n      56 H           -1.2935     0.5630     2.0135 H             1 RES     \\n      57 H            2.0279    -2.1343     0.7289 H             1 RES     \\n      58 H            1.0785    -1.2979     1.9768 H             1 RES     \\n      59 H            3.0650    -0.1689     2.0662 H             1 RES     \\n      60 H            2.1083     0.9558     1.0650 H             1 RES     \\n      61 H            3.2240     0.0584    -1.0006 H             1 RES     \\n      62 H            4.1166    -1.1469    -0.0394 H             1 RES     \\n      63 H            4.2939     1.9395     0.2345 H             1 RES     \\n      64 H            5.4118     0.9552    -0.7264 H             1 RES     \\n      65 H            6.4189     1.5652     1.4365 H             1 RES     \\n      66 H            5.0524     0.9043     2.3420 H             1 RES     \\n      67 H            7.0043    -0.6050     2.4452 H             1 RES     \\n      68 H            5.6189    -1.4075     1.6838 H             1 RES     \\n      69 H            7.6021    -2.0193     0.4868 H             1 RES     \\n      70 H            6.6633    -0.9739    -0.6138 H             1 RES     \\n      71 H            9.0982    -0.1085     1.1125 H             1 RES     \\n      72 H            8.1456     0.9913     0.0586 H             1 RES     \\n      73 H            8.7328    -0.3987    -1.9533 H             1 RES     \\n      74 H           10.1140     0.3982    -1.1267 H             1 RES     \\n      75 H           10.5828    -1.8371     0.0892 H             1 RES     \\n      76 H            9.3046    -2.5718    -0.9165 H             1 RES     \\n      77 H           11.4234    -3.0940    -1.9420 H             1 RES     \\n      78 H           10.5030    -2.0064    -3.0047 H             1 RES     \\n      79 H           11.9218    -0.0941    -2.4564 H             1 RES     \\n      80 H           12.9426    -1.4674    -2.9296 H             1 RES     \\n      81 H           13.9011    -0.2253    -1.0320 H             1 RES     \\n      82 H           12.4429    -0.4885    -0.0336 H             1 RES     \\n      83 H           14.2826    -2.7184    -1.1499 H             1 RES     \\n      84 H           12.8610    -2.9732    -0.0719 H             1 RES     \\n      85 H           15.3752    -1.3337     0.6537 H             1 RES     \\n      86 H           13.9416    -1.6065     1.7162 H             1 RES     \\n      87 H           14.3628    -4.0739     1.6563 H             1 RES     \\n      88 H           15.8079    -3.7994     0.6001 H             1 RES     \\n      89 H           15.7890    -3.1607     2.2839 H             1 RES     \\n      90 H           -0.1735    -3.0485     0.1823 H             1 RES     \\n      91 H           -1.2037    -1.9791     1.1345 H             1 RES     \\n      92 H           -2.3385    -3.2012    -0.7596 H             1 RES     \\n      93 H           -1.2891    -2.3978    -1.9466 H             1 RES     \\n      94 H           -3.4945    -1.3937    -1.9613 H             1 RES     \\n      95 H           -2.3450    -0.1789    -1.3830 H             1 RES     \\n      96 H           -3.0874    -0.7777     1.0268 H             1 RES     \\n      97 H           -4.3063    -1.8863     0.3041 H             1 RES     \\n      98 H           -5.4002    -0.0187    -0.8456 H             1 RES     \\n      99 H           -4.1051     1.1339    -0.3358 H             1 RES     \\n     100 H           -6.0595    -0.3526     1.5433 H             1 RES     \\n     101 H           -4.6953     0.6647     2.0796 H             1 RES     \\n     102 H           -6.6951     2.0170     2.1954 H             1 RES     \\n     103 H           -5.6335     2.6512     0.9065 H             1 RES     \\n     104 H           -7.0787     1.5742    -0.8485 H             1 RES     \\n     105 H           -7.9448     2.7319     0.1898 H             1 RES     \\n     106 H           -8.0388    -0.3417     0.3681 H             1 RES     \\n     107 H           -8.7776     0.7218     1.6095 H             1 RES     \\n     108 H           -9.4740     0.9079    -1.3986 H             1 RES     \\n     109 H          -10.2679    -0.2476    -0.2737 H             1 RES     \\n     110 H          -11.0956     1.5956     1.1616 H             1 RES     \\n     111 H          -10.2006     2.8012     0.1996 H             1 RES     \\n     112 H          -11.5376     2.3364    -1.8127 H             1 RES     \\n     113 H          -12.5470     2.8636    -0.4367 H             1 RES     \\n     114 H          -12.2267    -0.0377    -1.4601 H             1 RES     \\n     115 H          -13.6140     1.0522    -1.7367 H             1 RES     \\n     116 H          -13.9835     1.1866     0.7807 H             1 RES     \\n     117 H          -12.7069    -0.0638     1.0087 H             1 RES     \\n     118 H          -15.0945    -0.9267     1.0149 H             1 RES     \\n     119 H          -15.2588    -0.4544    -0.7086 H             1 RES     \\n     120 H          -13.1472    -2.4295     0.4094 H             1 RES     \\n     121 H          -14.7031    -2.8888    -0.3905 H             1 RES     \\n     122 H          -13.4348    -2.0396    -1.3392 H             1 RES     \\n     123 H            1.6826    -2.7514    -2.1346 H             1 RES     \\n@<TRIPOS>BOND\\n       1        1        2 1\\n       2        1       52 1\\n       3        1       53 1\\n       4        2        3 1\\n       5        3        4 1\\n       6        3       51 1\\n       7        4        5 1\\n       8        4       17 1\\n       9        5        6 1\\n      10        6        7 1\\n      11        6       16 1\\n      12        7        8 1\\n      13        7       15 1\\n      14        8        9 1\\n      15        8       12 1\\n      16        9       10 1\\n      17       10       11 1\\n      18       11       12 1\\n      19       12       13 1\\n      20       13       14 1\\n      21       13       54 1\\n      22       14       15 1\\n      23       15       55 1\\n      24       16       17 1\\n      25       16       56 1\\n      26       17       18 1\\n      27       18       19 1\\n      28       18       35 1\\n      29       18       51 1\\n      30       19       20 1\\n      31       19       57 1\\n      32       19       58 1\\n      33       20       21 1\\n      34       20       59 1\\n      35       20       60 1\\n      36       21       22 1\\n      37       21       61 1\\n      38       21       62 1\\n      39       22       23 1\\n      40       22       63 1\\n      41       22       64 1\\n      42       23       24 1\\n      43       23       65 1\\n      44       23       66 1\\n      45       24       25 1\\n      46       24       67 1\\n      47       24       68 1\\n      48       25       26 1\\n      49       25       69 1\\n      50       25       70 1\\n      51       26       27 1\\n      52       26       71 1\\n      53       26       72 1\\n      54       27       28 1\\n      55       27       73 1\\n      56       27       74 1\\n      57       28       29 1\\n      58       28       75 1\\n      59       28       76 1\\n      60       29       30 1\\n      61       29       77 1\\n      62       29       78 1\\n      63       30       31 1\\n      64       30       79 1\\n      65       30       80 1\\n      66       31       32 1\\n      67       31       81 1\\n      68       31       82 1\\n      69       32       33 1\\n      70       32       83 1\\n      71       32       84 1\\n      72       33       34 1\\n      73       33       85 1\\n      74       33       86 1\\n      75       34       87 1\\n      76       34       88 1\\n      77       34       89 1\\n      78       35       36 1\\n      79       35       90 1\\n      80       35       91 1\\n      81       36       37 1\\n      82       36       92 1\\n      83       36       93 1\\n      84       37       38 1\\n      85       37       94 1\\n      86       37       95 1\\n      87       38       39 1\\n      88       38       96 1\\n      89       38       97 1\\n      90       39       40 1\\n      91       39       98 1\\n      92       39       99 1\\n      93       40       41 1\\n      94       40      100 1\\n      95       40      101 1\\n      96       41       42 1\\n      97       41      102 1\\n      98       41      103 1\\n      99       42       43 1\\n     100       42      104 1\\n     101       42      105 1\\n     102       43       44 1\\n     103       43      106 1\\n     104       43      107 1\\n     105       44       45 1\\n     106       44      108 1\\n     107       44      109 1\\n     108       45       46 1\\n     109       45      110 1\\n     110       45      111 1\\n     111       46       47 1\\n     112       46      112 1\\n     113       46      113 1\\n     114       47       48 1\\n     115       47      114 1\\n     116       47      115 1\\n     117       48       49 1\\n     118       48      116 1\\n     119       48      117 1\\n     120       49       50 1\\n     121       49      118 1\\n     122       49      119 1\\n     123       50      120 1\\n     124       50      121 1\\n     125       50      122 1\\n     126       51       52 1\\n     127       52      123 1\\n@<TRIPOS>SUBSTRUCTURE\\n       1 RES             1 RESIDUE    0 **** ROOT      0\\n\",\"mol2\");\n\tviewer_17521840578405707.setStyle({\"stick\": {\"radius\": 0.18, \"color\": \"grey\"}, \"sphere\": {\"scale\": 0.3, \"colorscheme\": {}}});\n\tviewer_17521840578405707.zoomTo();\nviewer_17521840578405707.render();\n});\n</script>",
      "text/html": [
       "<div id=\"3dmolviewer_17521840578405707\"  style=\"position: relative; width: 640px; height: 480px;\">\n",
       "        <p id=\"3dmolwarning_17521840578405707\" style=\"background-color:#ffcccc;color:black\">3Dmol.js failed to load for some reason.  Please check your browser console for error messages.<br></p>\n",
       "        </div>\n",
       "<script>\n",
       "\n",
       "var loadScriptAsync = function(uri){\n",
       "  return new Promise((resolve, reject) => {\n",
       "    //this is to ignore the existence of requirejs amd\n",
       "    var savedexports, savedmodule;\n",
       "    if (typeof exports !== 'undefined') savedexports = exports;\n",
       "    else exports = {}\n",
       "    if (typeof module !== 'undefined') savedmodule = module;\n",
       "    else module = {}\n",
       "\n",
       "    var tag = document.createElement('script');\n",
       "    tag.src = uri;\n",
       "    tag.async = true;\n",
       "    tag.onload = () => {\n",
       "        exports = savedexports;\n",
       "        module = savedmodule;\n",
       "        resolve();\n",
       "    };\n",
       "  var firstScriptTag = document.getElementsByTagName('script')[0];\n",
       "  firstScriptTag.parentNode.insertBefore(tag, firstScriptTag);\n",
       "});\n",
       "};\n",
       "\n",
       "if(typeof $3Dmolpromise === 'undefined') {\n",
       "$3Dmolpromise = null;\n",
       "  $3Dmolpromise = loadScriptAsync('https://cdn.jsdelivr.net/npm/3dmol@2.5.1/build/3Dmol-min.js');\n",
       "}\n",
       "\n",
       "var viewer_17521840578405707 = null;\n",
       "var warn = document.getElementById(\"3dmolwarning_17521840578405707\");\n",
       "if(warn) {\n",
       "    warn.parentNode.removeChild(warn);\n",
       "}\n",
       "$3Dmolpromise.then(function() {\n",
       "viewer_17521840578405707 = $3Dmol.createViewer(document.getElementById(\"3dmolviewer_17521840578405707\"),{backgroundColor:\"white\"});\n",
       "viewer_17521840578405707.zoomTo();\n",
       "\tviewer_17521840578405707.addModel(\"@<TRIPOS>MOLECULE\\nRES\\n123 127 1 0 1\\nSMALL\\nNO_CHARGES\\n@<TRIPOS>CRYSIN\\n   36.0668    15.2382    13.1086    90.0000    90.0000    90.0000 1 1\\n@<TRIPOS>ATOM\\n       1 C            1.5918    -1.1366    -3.6263 C             1 RES     \\n       2 S            1.0134     0.4711    -3.6081 S             1 RES     \\n       3 C            0.5744     0.3856    -1.9983 C             1 RES     \\n       4 C           -0.0854     1.1848    -1.0110 C             1 RES     \\n       5 S           -0.9523     2.6076    -0.9278 S             1 RES     \\n       6 C           -1.5311     2.3000     0.6575 C             1 RES     \\n       7 C           -2.4551     3.1789     1.4369 C             1 RES     \\n       8 C           -3.1193     4.2896     0.8635 C             1 RES     \\n       9 N           -3.0101     4.6526    -0.4417 N             1 RES     \\n      10 S           -3.9820     5.9906    -0.4803 S             1 RES     \\n      11 N           -4.5694     6.1644     1.0544 N             1 RES     \\n      12 C           -3.9694     5.1071     1.6613 C             1 RES     \\n      13 C           -4.1571     4.8041     3.0040 C             1 RES     \\n      14 N           -3.5312     3.7205     3.5358 N             1 RES     \\n      15 C           -2.7049     2.9188     2.8034 C             1 RES     \\n      16 C           -1.0483     1.0454     1.0809 C             1 RES     \\n      17 C           -0.2590     0.4360     0.1092 C             1 RES     \\n      18 C            0.3455    -0.9519    -0.0363 C             1 RES     \\n      19 C            1.5205    -1.1725     0.9629 C             1 RES     \\n      20 C            2.5809    -0.0489     1.0725 C             1 RES     \\n      21 C            3.6739    -0.1278    -0.0082 C             1 RES     \\n      22 C            4.7712     0.9367     0.1799 C             1 RES     \\n      23 C            5.6615     0.7537     1.4256 C             1 RES     \\n      24 C            6.3749    -0.6088     1.5303 C             1 RES     \\n      25 C            7.2575    -0.9777     0.3240 C             1 RES     \\n      26 C            8.4840    -0.0599     0.1861 C             1 RES     \\n      27 C            9.3561    -0.4072    -1.0318 C             1 RES     \\n      28 C           10.0668    -1.7652    -0.8923 C             1 RES     \\n      29 C           11.0538    -2.0500    -2.0406 C             1 RES     \\n      30 C           12.2651    -1.0968    -2.1290 C             1 RES     \\n      31 C           13.0742    -0.9410    -0.8285 C             1 RES     \\n      32 C           13.6743    -2.2661    -0.3372 C             1 RES     \\n      33 C           14.5538    -2.0428     0.8978 C             1 RES     \\n      34 C           15.1634    -3.3526     1.3868 C             1 RES     \\n      35 C           -0.7186    -2.0793     0.1419 C             1 RES     \\n      36 C           -1.7896    -2.2550    -0.9662 C             1 RES     \\n      37 C           -2.8330    -1.1325    -1.1080 C             1 RES     \\n      38 C           -3.7171    -0.9572     0.1354 C             1 RES     \\n      39 C           -4.6768     0.2276    -0.0399 C             1 RES     \\n      40 C           -5.4342     0.5204     1.2622 C             1 RES     \\n      41 C           -6.2893     1.7970     1.1828 C             1 RES     \\n      42 C           -7.4577     1.7349     0.1823 C             1 RES     \\n      43 C           -8.4953     0.6548     0.5367 C             1 RES     \\n      44 C           -9.7565     0.7370    -0.3363 C             1 RES     \\n      45 C          -10.7329     1.8286     0.1379 C             1 RES     \\n      46 C          -11.9245     2.0252    -0.8176 C             1 RES     \\n      47 C          -12.8177     0.7852    -1.0079 C             1 RES     \\n      48 C          -13.4779     0.3190     0.3016 C             1 RES     \\n      49 C          -14.5305    -0.7766     0.0682 C             1 RES     \\n      50 C          -13.9085    -2.1141    -0.3376 C             1 RES     \\n      51 C            0.8316    -0.8406    -1.4702 C             1 RES     \\n      52 C            1.4167    -1.7290    -2.3700 C             1 RES     \\n      53 H            2.0181    -1.6316    -4.4868 H             1 RES     \\n      54 H           -4.8031     5.4160     3.6219 H             1 RES     \\n      55 H           -2.2345     2.0857     3.3065 H             1 RES     \\n      56 H           -1.2935     0.5630     2.0135 H             1 RES     \\n      57 H            2.0279    -2.1343     0.7289 H             1 RES     \\n      58 H            1.0785    -1.2979     1.9768 H             1 RES     \\n      59 H            3.0650    -0.1689     2.0662 H             1 RES     \\n      60 H            2.1083     0.9558     1.0650 H             1 RES     \\n      61 H            3.2240     0.0584    -1.0006 H             1 RES     \\n      62 H            4.1166    -1.1469    -0.0394 H             1 RES     \\n      63 H            4.2939     1.9395     0.2345 H             1 RES     \\n      64 H            5.4118     0.9552    -0.7264 H             1 RES     \\n      65 H            6.4189     1.5652     1.4365 H             1 RES     \\n      66 H            5.0524     0.9043     2.3420 H             1 RES     \\n      67 H            7.0043    -0.6050     2.4452 H             1 RES     \\n      68 H            5.6189    -1.4075     1.6838 H             1 RES     \\n      69 H            7.6021    -2.0193     0.4868 H             1 RES     \\n      70 H            6.6633    -0.9739    -0.6138 H             1 RES     \\n      71 H            9.0982    -0.1085     1.1125 H             1 RES     \\n      72 H            8.1456     0.9913     0.0586 H             1 RES     \\n      73 H            8.7328    -0.3987    -1.9533 H             1 RES     \\n      74 H           10.1140     0.3982    -1.1267 H             1 RES     \\n      75 H           10.5828    -1.8371     0.0892 H             1 RES     \\n      76 H            9.3046    -2.5718    -0.9165 H             1 RES     \\n      77 H           11.4234    -3.0940    -1.9420 H             1 RES     \\n      78 H           10.5030    -2.0064    -3.0047 H             1 RES     \\n      79 H           11.9218    -0.0941    -2.4564 H             1 RES     \\n      80 H           12.9426    -1.4674    -2.9296 H             1 RES     \\n      81 H           13.9011    -0.2253    -1.0320 H             1 RES     \\n      82 H           12.4429    -0.4885    -0.0336 H             1 RES     \\n      83 H           14.2826    -2.7184    -1.1499 H             1 RES     \\n      84 H           12.8610    -2.9732    -0.0719 H             1 RES     \\n      85 H           15.3752    -1.3337     0.6537 H             1 RES     \\n      86 H           13.9416    -1.6065     1.7162 H             1 RES     \\n      87 H           14.3628    -4.0739     1.6563 H             1 RES     \\n      88 H           15.8079    -3.7994     0.6001 H             1 RES     \\n      89 H           15.7890    -3.1607     2.2839 H             1 RES     \\n      90 H           -0.1735    -3.0485     0.1823 H             1 RES     \\n      91 H           -1.2037    -1.9791     1.1345 H             1 RES     \\n      92 H           -2.3385    -3.2012    -0.7596 H             1 RES     \\n      93 H           -1.2891    -2.3978    -1.9466 H             1 RES     \\n      94 H           -3.4945    -1.3937    -1.9613 H             1 RES     \\n      95 H           -2.3450    -0.1789    -1.3830 H             1 RES     \\n      96 H           -3.0874    -0.7777     1.0268 H             1 RES     \\n      97 H           -4.3063    -1.8863     0.3041 H             1 RES     \\n      98 H           -5.4002    -0.0187    -0.8456 H             1 RES     \\n      99 H           -4.1051     1.1339    -0.3358 H             1 RES     \\n     100 H           -6.0595    -0.3526     1.5433 H             1 RES     \\n     101 H           -4.6953     0.6647     2.0796 H             1 RES     \\n     102 H           -6.6951     2.0170     2.1954 H             1 RES     \\n     103 H           -5.6335     2.6512     0.9065 H             1 RES     \\n     104 H           -7.0787     1.5742    -0.8485 H             1 RES     \\n     105 H           -7.9448     2.7319     0.1898 H             1 RES     \\n     106 H           -8.0388    -0.3417     0.3681 H             1 RES     \\n     107 H           -8.7776     0.7218     1.6095 H             1 RES     \\n     108 H           -9.4740     0.9079    -1.3986 H             1 RES     \\n     109 H          -10.2679    -0.2476    -0.2737 H             1 RES     \\n     110 H          -11.0956     1.5956     1.1616 H             1 RES     \\n     111 H          -10.2006     2.8012     0.1996 H             1 RES     \\n     112 H          -11.5376     2.3364    -1.8127 H             1 RES     \\n     113 H          -12.5470     2.8636    -0.4367 H             1 RES     \\n     114 H          -12.2267    -0.0377    -1.4601 H             1 RES     \\n     115 H          -13.6140     1.0522    -1.7367 H             1 RES     \\n     116 H          -13.9835     1.1866     0.7807 H             1 RES     \\n     117 H          -12.7069    -0.0638     1.0087 H             1 RES     \\n     118 H          -15.0945    -0.9267     1.0149 H             1 RES     \\n     119 H          -15.2588    -0.4544    -0.7086 H             1 RES     \\n     120 H          -13.1472    -2.4295     0.4094 H             1 RES     \\n     121 H          -14.7031    -2.8888    -0.3905 H             1 RES     \\n     122 H          -13.4348    -2.0396    -1.3392 H             1 RES     \\n     123 H            1.6826    -2.7514    -2.1346 H             1 RES     \\n@<TRIPOS>BOND\\n       1        1        2 1\\n       2        1       52 1\\n       3        1       53 1\\n       4        2        3 1\\n       5        3        4 1\\n       6        3       51 1\\n       7        4        5 1\\n       8        4       17 1\\n       9        5        6 1\\n      10        6        7 1\\n      11        6       16 1\\n      12        7        8 1\\n      13        7       15 1\\n      14        8        9 1\\n      15        8       12 1\\n      16        9       10 1\\n      17       10       11 1\\n      18       11       12 1\\n      19       12       13 1\\n      20       13       14 1\\n      21       13       54 1\\n      22       14       15 1\\n      23       15       55 1\\n      24       16       17 1\\n      25       16       56 1\\n      26       17       18 1\\n      27       18       19 1\\n      28       18       35 1\\n      29       18       51 1\\n      30       19       20 1\\n      31       19       57 1\\n      32       19       58 1\\n      33       20       21 1\\n      34       20       59 1\\n      35       20       60 1\\n      36       21       22 1\\n      37       21       61 1\\n      38       21       62 1\\n      39       22       23 1\\n      40       22       63 1\\n      41       22       64 1\\n      42       23       24 1\\n      43       23       65 1\\n      44       23       66 1\\n      45       24       25 1\\n      46       24       67 1\\n      47       24       68 1\\n      48       25       26 1\\n      49       25       69 1\\n      50       25       70 1\\n      51       26       27 1\\n      52       26       71 1\\n      53       26       72 1\\n      54       27       28 1\\n      55       27       73 1\\n      56       27       74 1\\n      57       28       29 1\\n      58       28       75 1\\n      59       28       76 1\\n      60       29       30 1\\n      61       29       77 1\\n      62       29       78 1\\n      63       30       31 1\\n      64       30       79 1\\n      65       30       80 1\\n      66       31       32 1\\n      67       31       81 1\\n      68       31       82 1\\n      69       32       33 1\\n      70       32       83 1\\n      71       32       84 1\\n      72       33       34 1\\n      73       33       85 1\\n      74       33       86 1\\n      75       34       87 1\\n      76       34       88 1\\n      77       34       89 1\\n      78       35       36 1\\n      79       35       90 1\\n      80       35       91 1\\n      81       36       37 1\\n      82       36       92 1\\n      83       36       93 1\\n      84       37       38 1\\n      85       37       94 1\\n      86       37       95 1\\n      87       38       39 1\\n      88       38       96 1\\n      89       38       97 1\\n      90       39       40 1\\n      91       39       98 1\\n      92       39       99 1\\n      93       40       41 1\\n      94       40      100 1\\n      95       40      101 1\\n      96       41       42 1\\n      97       41      102 1\\n      98       41      103 1\\n      99       42       43 1\\n     100       42      104 1\\n     101       42      105 1\\n     102       43       44 1\\n     103       43      106 1\\n     104       43      107 1\\n     105       44       45 1\\n     106       44      108 1\\n     107       44      109 1\\n     108       45       46 1\\n     109       45      110 1\\n     110       45      111 1\\n     111       46       47 1\\n     112       46      112 1\\n     113       46      113 1\\n     114       47       48 1\\n     115       47      114 1\\n     116       47      115 1\\n     117       48       49 1\\n     118       48      116 1\\n     119       48      117 1\\n     120       49       50 1\\n     121       49      118 1\\n     122       49      119 1\\n     123       50      120 1\\n     124       50      121 1\\n     125       50      122 1\\n     126       51       52 1\\n     127       52      123 1\\n@<TRIPOS>SUBSTRUCTURE\\n       1 RES             1 RESIDUE    0 **** ROOT      0\\n\",\"mol2\");\n",
       "\tviewer_17521840578405707.setStyle({\"stick\": {\"radius\": 0.18, \"color\": \"grey\"}, \"sphere\": {\"scale\": 0.3, \"colorscheme\": {}}});\n",
       "\tviewer_17521840578405707.zoomTo();\n",
       "viewer_17521840578405707.render();\n",
       "});\n",
       "</script>"
      ]
     },
     "metadata": {},
     "output_type": "display_data"
    },
    {
     "data": {
      "text/plain": [
       "<py3Dmol.view at 0x7feb9a304310>"
      ]
     },
     "execution_count": 17,
     "metadata": {},
     "output_type": "execute_result"
    }
   ],
   "source": [
    "temp.visualize()"
   ]
  },
  {
   "cell_type": "code",
   "execution_count": null,
   "id": "fa588b8f-730f-4531-b50f-0f0ad7e0952f",
   "metadata": {},
   "outputs": [],
   "source": []
  }
 ],
 "metadata": {
  "kernelspec": {
   "display_name": "Python 3 (ipykernel)",
   "language": "python",
   "name": "python3"
  },
  "language_info": {
   "codemirror_mode": {
    "name": "ipython",
    "version": 3
   },
   "file_extension": ".py",
   "mimetype": "text/x-python",
   "name": "python",
   "nbconvert_exporter": "python",
   "pygments_lexer": "ipython3",
   "version": "3.11.13"
  }
 },
 "nbformat": 4,
 "nbformat_minor": 5
}
