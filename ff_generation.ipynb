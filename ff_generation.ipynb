{
 "cells": [
  {
   "cell_type": "markdown",
   "id": "d1b58548-3d91-4d5c-a04f-4c6d368f91a8",
   "metadata": {},
   "source": [
    "## Generating forcefields for polymers"
   ]
  },
  {
   "cell_type": "code",
   "execution_count": 3,
   "id": "90ff24dc-0b18-4ba4-bde6-e0583a28174a",
   "metadata": {},
   "outputs": [
    {
     "name": "stderr",
     "output_type": "stream",
     "text": [
      "/Users/ericjankowski/miniforge3/envs/p_l/lib/python3.11/site-packages/pkg_resources/__init__.py:3146: DeprecationWarning: Deprecated call to `pkg_resources.declare_namespace('google')`.\n",
      "Implementing implicit namespace packages (as specified in PEP 420) is preferred to `pkg_resources.declare_namespace`. See https://setuptools.pypa.io/en/latest/references/keywords.html#keyword-namespace-packages\n",
      "  declare_namespace(pkg)\n"
     ]
    },
    {
     "name": "stdout",
     "output_type": "stream",
     "text": [
      "\n",
      "Support for writing out LAMMPS data files will be removed\n",
      "in mbuild 1.0.\n",
      "See GMSO (https://github.com/mosdef-hub/gmso/tree/main/gmso/formats/lammpsdata) for\n",
      "continued support for LAMMPS.\n",
      "\n"
     ]
    },
    {
     "data": {
      "application/vnd.jupyter.widget-view+json": {
       "model_id": "559989ed5bf848f59776ac8e5836f1fb",
       "version_major": 2,
       "version_minor": 0
      },
      "text/plain": []
     },
     "metadata": {},
     "output_type": "display_data"
    }
   ],
   "source": [
    "import warnings\n",
    "warnings.filterwarnings(action='ignore')\n",
    "\n",
    "import mbuild as mb\n",
    "from functions.Espaloma_Functions import build_chain, build_polymer, espaloma"
   ]
  },
  {
   "cell_type": "code",
   "execution_count": 4,
   "id": "f4c47390-7359-4dd9-b2d7-88f31f58496c",
   "metadata": {},
   "outputs": [],
   "source": [
    "# Monomer class in order to buid polymer\n",
    "class fixed_PCPDTPT_nC16(mb.Compound):\n",
    "    def __init__(self):\n",
    "        super(fixed_PCPDTPT_nC16,self).__init__()\n",
    "        self.add(mb.load(\"C1SC2C3SC(C4C5=NSN=C5C=NC=4)=CC=3C(CCCCCCCCCCCCCCCC)(CCCCCCCCCCCCCCCC)C=2C=1\",smiles=True)) #smiles string of molecule\n",
    "        self.bond_indices = [121,122] # Bond indices where polymerization would occur\n",
    "        self.orientations = [None,None] # Orientation of polymer bonds\n",
    "        self.separation = 0.14 # Separation of polymer bonds\n",
    "        self.replace = True # True if replacing H's when building polymer\n",
    "        self.energy_minimize()"
   ]
  },
  {
   "cell_type": "code",
   "execution_count": 5,
   "id": "89abc872-5f17-48be-be4d-4db5948324b8",
   "metadata": {},
   "outputs": [
    {
     "name": "stdout",
     "output_type": "stream",
     "text": [
      "Done!\n",
      "Typed mol2 file created.\n",
      "xml file created.\n"
     ]
    }
   ],
   "source": [
    "'''Set the file path where you would like to save your xml file and atom-typed mol2 file'''\n",
    "xml_filepath = \"alternate_PCPDTPT_nC16.xml\"\n",
    "typed_filepath = \"alternate_PCPDTPT_nC16.mol2\"\n",
    "\n",
    "\n",
    "espaloma(MONOMER=fixed_PCPDTPT_nC16(),  #Call in your molecule from your molecule class \n",
    "         XML_FILEPATH=xml_filepath, \n",
    "         TYPED_FILEPATH=typed_filepath,\n",
    "         DIMER=True) #if planning on polymerizing the molecule set = True. "
   ]
  },
  {
   "cell_type": "code",
   "execution_count": 6,
   "id": "65130a4c-069b-44ef-9127-4a64369ee8ab",
   "metadata": {},
   "outputs": [
    {
     "name": "stdout",
     "output_type": "stream",
     "text": [
      "Help on function espaloma in module functions.Espaloma_Functions:\n",
      "\n",
      "espaloma(MONOMER, XML_FILEPATH, TYPED_FILEPATH, DIMER)\n",
      "    if you plan to parameterize a polymer made up of your monomer set dimer = True, \n",
      "    if you are simulating only the monomer set dimer = False\n",
      "\n"
     ]
    }
   ],
   "source": [
    "help(espaloma)"
   ]
  },
  {
   "cell_type": "code",
   "execution_count": 2,
   "id": "4ba9e3aa-5e69-4795-9be5-6fe96a17684f",
   "metadata": {},
   "outputs": [
    {
     "data": {
      "text/plain": [
       "['In',\n",
       " 'Out',\n",
       " '_',\n",
       " '__',\n",
       " '___',\n",
       " '__builtin__',\n",
       " '__builtins__',\n",
       " '__doc__',\n",
       " '__loader__',\n",
       " '__name__',\n",
       " '__package__',\n",
       " '__session__',\n",
       " '__spec__',\n",
       " '_dh',\n",
       " '_i',\n",
       " '_i1',\n",
       " '_i2',\n",
       " '_ih',\n",
       " '_ii',\n",
       " '_iii',\n",
       " '_oh',\n",
       " 'exit',\n",
       " 'get_ipython',\n",
       " 'open',\n",
       " 'quit']"
      ]
     },
     "execution_count": 2,
     "metadata": {},
     "output_type": "execute_result"
    }
   ],
   "source": [
    "dir()\n"
   ]
  },
  {
   "cell_type": "code",
   "execution_count": null,
   "id": "8dae718f-be75-4266-bf9f-5872730bbe3e",
   "metadata": {},
   "outputs": [],
   "source": []
  }
 ],
 "metadata": {
  "kernelspec": {
   "display_name": "Python 3 (ipykernel)",
   "language": "python",
   "name": "python3"
  },
  "language_info": {
   "codemirror_mode": {
    "name": "ipython",
    "version": 3
   },
   "file_extension": ".py",
   "mimetype": "text/x-python",
   "name": "python",
   "nbconvert_exporter": "python",
   "pygments_lexer": "ipython3",
   "version": "3.11.13"
  }
 },
 "nbformat": 4,
 "nbformat_minor": 5
}
