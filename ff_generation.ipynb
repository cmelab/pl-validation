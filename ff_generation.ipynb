{
 "cells": [
  {
   "cell_type": "markdown",
   "id": "d1b58548-3d91-4d5c-a04f-4c6d368f91a8",
   "metadata": {},
   "source": [
    "## Generating forcefields for polymers"
   ]
  },
  {
   "cell_type": "code",
   "execution_count": 6,
   "id": "90ff24dc-0b18-4ba4-bde6-e0583a28174a",
   "metadata": {},
   "outputs": [],
   "source": [
    "import warnings\n",
    "warnings.filterwarnings(action='ignore')\n",
    "\n",
    "import mbuild as mb\n",
    "from functions.Espaloma_Functions import build_chain, build_polymer, espaloma"
   ]
  },
  {
   "cell_type": "code",
   "execution_count": 7,
   "id": "f4c47390-7359-4dd9-b2d7-88f31f58496c",
   "metadata": {},
   "outputs": [],
   "source": [
    "# Monomer class in order to buid polymer\n",
    "class fixed_PCPDTPT_nC16(mb.Compound):\n",
    "    def __init__(self):\n",
    "        super(fixed_PCPDTPT_nC16,self).__init__()\n",
    "        self.add(mb.load(\"C1SC2C3SC(C4C5=NSN=C5C=NC=4)=CC=3C(CCCCCCCCCCCCCCCC)(CCCCCCCCCCCCCCCC)C=2C=1\",smiles=True)) #smiles string of molecule\n",
    "        self.bond_indices = [121,122] # Bond indices where polymerization would occur\n",
    "        self.orientations = [None,None] # Orientation of polymer bonds\n",
    "        self.separation = 0.14 # Separation of polymer bonds\n",
    "        self.replace = True # True if replacing H's when building polymer\n",
    "        self.energy_minimize()"
   ]
  },
  {
   "cell_type": "code",
   "execution_count": 8,
   "id": "89abc872-5f17-48be-be4d-4db5948324b8",
   "metadata": {},
   "outputs": [
    {
     "name": "stdout",
     "output_type": "stream",
     "text": [
      "Done!\n",
      "Typed mol2 file created.\n",
      "xml file created.\n"
     ]
    }
   ],
   "source": [
    "'''Set the file path where you would like to save your xml file and atom-typed mol2 file'''\n",
    "xml_filepath = \"fixed_PCPDTPT_nC16.xml\"\n",
    "typed_filepath = \"fixed_PCPDTPT_nC16.mol2\"\n",
    "\n",
    "\n",
    "espaloma(MONOMER=fixed_PCPDTPT_nC16(),  #Call in your molecule from your molecule class \n",
    "         XML_FILEPATH=xml_filepath,\n",
    "         TYPED_FILEPATH=typed_filepath,\n",
    "         DIMER=True) #if planning on polymerizing the molecule set = True. "
   ]
  },
  {
   "cell_type": "code",
   "execution_count": null,
   "id": "65130a4c-069b-44ef-9127-4a64369ee8ab",
   "metadata": {},
   "outputs": [],
   "source": []
  }
 ],
 "metadata": {
  "kernelspec": {
   "display_name": "Python 3 (ipykernel)",
   "language": "python",
   "name": "python3"
  },
  "language_info": {
   "codemirror_mode": {
    "name": "ipython",
    "version": 3
   },
   "file_extension": ".py",
   "mimetype": "text/x-python",
   "name": "python",
   "nbconvert_exporter": "python",
   "pygments_lexer": "ipython3",
   "version": "3.10.14"
  }
 },
 "nbformat": 4,
 "nbformat_minor": 5
}
