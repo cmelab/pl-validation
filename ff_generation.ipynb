{
 "cells": [
  {
   "cell_type": "code",
   "execution_count": 11,
   "id": "90ff24dc-0b18-4ba4-bde6-e0583a28174a",
   "metadata": {},
   "outputs": [],
   "source": [
    "import numpy as np\n",
    "import glob\n",
    "import warnings\n",
    "warnings.filterwarnings(action='ignore')\n",
    "\n",
    "import mbuild as mb\n",
    "import espaloma\n",
    "from classes.mon_classes import PCPDTPT_HD\n",
    "from functions.Espaloma_Functions import build_chain, build_polymer, espaloma\n",
    "# Rerun with the original seed first"
   ]
  },
  {
   "cell_type": "code",
   "execution_count": 12,
   "id": "f4c47390-7359-4dd9-b2d7-88f31f58496c",
   "metadata": {},
   "outputs": [],
   "source": [
    "class PCPDTPT_nC16(mb.Compound):\n",
    "    def __init__(self):\n",
    "        super(PCPDTPT_nC16,self).__init__()\n",
    "        self.add(mb.load(\"C1SC2C3SC(C4C5=NSN=C5C=NC=4)=CC=3C(CCCCCCCCCCCCCCCC)(CCCCCCCCCCCCCCCC)C=2C=1\",smiles=True)) #smiles string of molecule\n",
    "        self.bond_indices = [121,122] #bond indices where polymerization would occur\n",
    "        self.orientations = [None,None] #orientation of polymer bonds\n",
    "        self.separation = 0.14 #separation of polymer bonds\n",
    "        self.replace = True #true if replacing H's when building polymer\n",
    "        self.energy_minimize()"
   ]
  },
  {
   "cell_type": "code",
   "execution_count": 13,
   "id": "342c43aa-3c59-4546-8f6d-08906d7e41ab",
   "metadata": {},
   "outputs": [],
   "source": [
    "def espaloma_mol(file_path):\n",
    "     mol = mb.load(file_path)\n",
    "     for p in mol.particles():\n",
    "           p.name = f\"_{p.name}\"\n",
    "     return mol"
   ]
  },
  {
   "cell_type": "code",
   "execution_count": 14,
   "id": "89abc872-5f17-48be-be4d-4db5948324b8",
   "metadata": {},
   "outputs": [
    {
     "name": "stdout",
     "output_type": "stream",
     "text": [
      "Done!\n"
     ]
    },
    {
     "ename": "IncompatibleUnitError",
     "evalue": "Unsupported unit passed to partial_charges setter. Found unit elementary_charge, expected elementary_charge",
     "output_type": "error",
     "traceback": [
      "\u001b[0;31m---------------------------------------------------------------------------\u001b[0m",
      "\u001b[0;31mIncompatibleUnitError\u001b[0m                     Traceback (most recent call last)",
      "Cell \u001b[0;32mIn[14], line 4\u001b[0m\n\u001b[1;32m      1\u001b[0m xml_filepath \u001b[38;5;241m=\u001b[39m \u001b[38;5;124m\"\u001b[39m\u001b[38;5;124m/home/jbieri/CME_lab/projects/bruh/PCPDTPT_nC16.xml\u001b[39m\u001b[38;5;124m\"\u001b[39m\n\u001b[1;32m      2\u001b[0m typed_filepath \u001b[38;5;241m=\u001b[39m \u001b[38;5;124m\"\u001b[39m\u001b[38;5;124m/home/jbieri/CME_lab/bruh/PCPDTPT_nC16_2mer.mol2\u001b[39m\u001b[38;5;124m\"\u001b[39m\n\u001b[0;32m----> 4\u001b[0m \u001b[43mespaloma\u001b[49m\u001b[43m(\u001b[49m\u001b[43mMONOMER\u001b[49m\u001b[38;5;241;43m=\u001b[39;49m\u001b[43mPCPDTPT_nC16\u001b[49m\u001b[43m(\u001b[49m\u001b[43m)\u001b[49m\u001b[43m,\u001b[49m\u001b[43m  \u001b[49m\u001b[38;5;66;43;03m#Call in your molecule from your molecule class \u001b[39;49;00m\n\u001b[1;32m      5\u001b[0m \u001b[43m         \u001b[49m\u001b[43mXML_FILEPATH\u001b[49m\u001b[38;5;241;43m=\u001b[39;49m\u001b[43mxml_filepath\u001b[49m\u001b[43m,\u001b[49m\n\u001b[1;32m      6\u001b[0m \u001b[43m         \u001b[49m\u001b[43mTYPED_FILEPATH\u001b[49m\u001b[38;5;241;43m=\u001b[39;49m\u001b[43mtyped_filepath\u001b[49m\u001b[43m,\u001b[49m\n\u001b[1;32m      7\u001b[0m \u001b[43m         \u001b[49m\u001b[43mDIMER\u001b[49m\u001b[38;5;241;43m=\u001b[39;49m\u001b[38;5;28;43;01mTrue\u001b[39;49;00m\u001b[43m)\u001b[49m \u001b[38;5;66;03m#if planning on polymerizing the molecule set = True. \u001b[39;00m\n",
      "File \u001b[0;32m~/CME_lab/repos/pl-validation/functions/Espaloma_Functions.py:73\u001b[0m, in \u001b[0;36mespaloma\u001b[0;34m(MONOMER, XML_FILEPATH, TYPED_FILEPATH, DIMER)\u001b[0m\n\u001b[1;32m     71\u001b[0m espaloma_model \u001b[38;5;241m=\u001b[39m esp\u001b[38;5;241m.\u001b[39mget_model(\u001b[38;5;124m\"\u001b[39m\u001b[38;5;124mlatest\u001b[39m\u001b[38;5;124m\"\u001b[39m)\n\u001b[1;32m     72\u001b[0m espaloma_model(molecule_graph\u001b[38;5;241m.\u001b[39mheterograph)\n\u001b[0;32m---> 73\u001b[0m openmm_system \u001b[38;5;241m=\u001b[39m \u001b[43mesp\u001b[49m\u001b[38;5;241;43m.\u001b[39;49m\u001b[43mgraphs\u001b[49m\u001b[38;5;241;43m.\u001b[39;49m\u001b[43mdeploy\u001b[49m\u001b[38;5;241;43m.\u001b[39;49m\u001b[43mopenmm_system_from_graph\u001b[49m\u001b[43m(\u001b[49m\u001b[43mmolecule_graph\u001b[49m\u001b[43m,\u001b[49m\u001b[43mcharge_method\u001b[49m\u001b[38;5;241;43m=\u001b[39;49m\u001b[38;5;124;43m\"\u001b[39;49m\u001b[38;5;124;43mnn\u001b[39;49m\u001b[38;5;124;43m\"\u001b[39;49m\u001b[43m)\u001b[49m\n\u001b[1;32m     75\u001b[0m \u001b[38;5;66;03m# Store the results for each in something more accessible\u001b[39;00m\n\u001b[1;32m     76\u001b[0m pair_forces \u001b[38;5;241m=\u001b[39m openmm_system\u001b[38;5;241m.\u001b[39mgetForces()[\u001b[38;5;241m0\u001b[39m]\n",
      "File \u001b[0;32m~/miniforge3/envs/ff_generation/lib/python3.10/site-packages/espaloma/graphs/deploy.py:111\u001b[0m, in \u001b[0;36mopenmm_system_from_graph\u001b[0;34m(g, forcefield, suffix, charge_method, create_system_kwargs)\u001b[0m\n\u001b[1;32m    106\u001b[0m     sys \u001b[38;5;241m=\u001b[39m ff\u001b[38;5;241m.\u001b[39mcreate_openmm_system(\n\u001b[1;32m    107\u001b[0m         g\u001b[38;5;241m.\u001b[39mmol\u001b[38;5;241m.\u001b[39mto_topology(), charge_from_molecules\u001b[38;5;241m=\u001b[39m[g\u001b[38;5;241m.\u001b[39mmol]\n\u001b[1;32m    108\u001b[0m     )\n\u001b[1;32m    110\u001b[0m \u001b[38;5;28;01melif\u001b[39;00m charge_method \u001b[38;5;241m==\u001b[39m \u001b[38;5;124m\"\u001b[39m\u001b[38;5;124mnn\u001b[39m\u001b[38;5;124m\"\u001b[39m:\n\u001b[0;32m--> 111\u001b[0m     \u001b[43mg\u001b[49m\u001b[38;5;241;43m.\u001b[39;49m\u001b[43mmol\u001b[49m\u001b[38;5;241;43m.\u001b[39;49m\u001b[43mpartial_charges\u001b[49m \u001b[38;5;241m=\u001b[39m unit\u001b[38;5;241m.\u001b[39melementary_charge \u001b[38;5;241m*\u001b[39m g\u001b[38;5;241m.\u001b[39mnodes[\u001b[38;5;124m\"\u001b[39m\u001b[38;5;124mn1\u001b[39m\u001b[38;5;124m\"\u001b[39m]\u001b[38;5;241m.\u001b[39mdata[\n\u001b[1;32m    112\u001b[0m         \u001b[38;5;124m\"\u001b[39m\u001b[38;5;124mq\u001b[39m\u001b[38;5;124m\"\u001b[39m\n\u001b[1;32m    113\u001b[0m     ]\u001b[38;5;241m.\u001b[39mflatten()\u001b[38;5;241m.\u001b[39mdetach()\u001b[38;5;241m.\u001b[39mcpu()\u001b[38;5;241m.\u001b[39mnumpy()\u001b[38;5;241m.\u001b[39mastype(\n\u001b[1;32m    114\u001b[0m         np\u001b[38;5;241m.\u001b[39mfloat64,\n\u001b[1;32m    115\u001b[0m     )\n\u001b[1;32m    116\u001b[0m     sys \u001b[38;5;241m=\u001b[39m ff\u001b[38;5;241m.\u001b[39mcreate_openmm_system(\n\u001b[1;32m    117\u001b[0m         g\u001b[38;5;241m.\u001b[39mmol\u001b[38;5;241m.\u001b[39mto_topology(),\n\u001b[1;32m    118\u001b[0m         charge_from_molecules\u001b[38;5;241m=\u001b[39m[g\u001b[38;5;241m.\u001b[39mmol],\n\u001b[1;32m    119\u001b[0m         allow_nonintegral_charges\u001b[38;5;241m=\u001b[39m\u001b[38;5;28;01mTrue\u001b[39;00m,\n\u001b[1;32m    120\u001b[0m     )\n\u001b[1;32m    122\u001b[0m \u001b[38;5;28;01melse\u001b[39;00m:\n\u001b[1;32m    123\u001b[0m     \u001b[38;5;66;03m# create openmm system\u001b[39;00m\n",
      "File \u001b[0;32m~/miniforge3/envs/ff_generation/lib/python3.10/site-packages/openff/toolkit/topology/molecule.py:3126\u001b[0m, in \u001b[0;36mFrozenMolecule.partial_charges\u001b[0;34m(self, charges)\u001b[0m\n\u001b[1;32m   3124\u001b[0m             \u001b[38;5;28mself\u001b[39m\u001b[38;5;241m.\u001b[39m_partial_charges \u001b[38;5;241m=\u001b[39m converted\u001b[38;5;241m.\u001b[39mastype(\u001b[38;5;28mfloat\u001b[39m)\n\u001b[1;32m   3125\u001b[0m         \u001b[38;5;28;01melse\u001b[39;00m:\n\u001b[0;32m-> 3126\u001b[0m             \u001b[38;5;28;01mraise\u001b[39;00m IncompatibleUnitError(\n\u001b[1;32m   3127\u001b[0m                 \u001b[38;5;124m\"\u001b[39m\u001b[38;5;124mUnsupported unit passed to partial_charges setter. \u001b[39m\u001b[38;5;124m\"\u001b[39m\n\u001b[1;32m   3128\u001b[0m                 \u001b[38;5;124mf\u001b[39m\u001b[38;5;124m\"\u001b[39m\u001b[38;5;124mFound unit \u001b[39m\u001b[38;5;132;01m{\u001b[39;00mconverted\u001b[38;5;241m.\u001b[39munits\u001b[38;5;132;01m}\u001b[39;00m\u001b[38;5;124m, expected \u001b[39m\u001b[38;5;132;01m{\u001b[39;00munit\u001b[38;5;241m.\u001b[39melementary_charge\u001b[38;5;132;01m}\u001b[39;00m\u001b[38;5;124m\"\u001b[39m\n\u001b[1;32m   3129\u001b[0m             )\n\u001b[1;32m   3131\u001b[0m \u001b[38;5;28;01melse\u001b[39;00m:\n\u001b[1;32m   3132\u001b[0m     \u001b[38;5;28;01mraise\u001b[39;00m IncompatibleTypeError(\n\u001b[1;32m   3133\u001b[0m         \u001b[38;5;124m\"\u001b[39m\u001b[38;5;124mUnsupported type passed to partial_charges setter. \u001b[39m\u001b[38;5;124m\"\u001b[39m\n\u001b[1;32m   3134\u001b[0m         \u001b[38;5;124mf\u001b[39m\u001b[38;5;124m\"\u001b[39m\u001b[38;5;124mFound object of type \u001b[39m\u001b[38;5;132;01m{\u001b[39;00m\u001b[38;5;28mtype\u001b[39m(charges)\u001b[38;5;132;01m}\u001b[39;00m\u001b[38;5;124m, \u001b[39m\u001b[38;5;124m\"\u001b[39m\n\u001b[1;32m   3135\u001b[0m         \u001b[38;5;124m\"\u001b[39m\u001b[38;5;124mexpected openff.units.unit.Quantity\u001b[39m\u001b[38;5;124m\"\u001b[39m\n\u001b[1;32m   3136\u001b[0m     )\n",
      "\u001b[0;31mIncompatibleUnitError\u001b[0m: Unsupported unit passed to partial_charges setter. Found unit elementary_charge, expected elementary_charge"
     ]
    }
   ],
   "source": [
    "xml_filepath = \"/home/jbieri/CME_lab/projects/bruh/PCPDTPT_nC16.xml\"\n",
    "typed_filepath = \"/home/jbieri/CME_lab/bruh/PCPDTPT_nC16_2mer.mol2\"\n",
    "\n",
    "espaloma(MONOMER=PCPDTPT_nC16(),  #Call in your molecule from your molecule class \n",
    "         XML_FILEPATH=xml_filepath,\n",
    "         TYPED_FILEPATH=typed_filepath,\n",
    "         DIMER=True) #if planning on polymerizing the molecule set = True. "
   ]
  },
  {
   "cell_type": "code",
   "execution_count": null,
   "id": "65130a4c-069b-44ef-9127-4a64369ee8ab",
   "metadata": {},
   "outputs": [],
   "source": []
  }
 ],
 "metadata": {
  "kernelspec": {
   "display_name": "Python 3 (ipykernel)",
   "language": "python",
   "name": "python3"
  },
  "language_info": {
   "codemirror_mode": {
    "name": "ipython",
    "version": 3
   },
   "file_extension": ".py",
   "mimetype": "text/x-python",
   "name": "python",
   "nbconvert_exporter": "python",
   "pygments_lexer": "ipython3",
   "version": "3.11.0"
  }
 },
 "nbformat": 4,
 "nbformat_minor": 5
}
