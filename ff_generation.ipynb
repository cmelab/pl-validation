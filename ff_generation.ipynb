{
 "cells": [
  {
   "cell_type": "code",
   "execution_count": 1,
   "id": "90ff24dc-0b18-4ba4-bde6-e0583a28174a",
   "metadata": {},
   "outputs": [
    {
     "name": "stderr",
     "output_type": "stream",
     "text": [
      "/home/jbieri/miniforge3/envs/ff_generation/lib/python3.10/site-packages/foyer/forcefield.py:34: DeprecationWarning: pkg_resources is deprecated as an API. See https://setuptools.pypa.io/en/latest/pkg_resources.html\n",
      "  from pkg_resources import iter_entry_points, resource_filename\n",
      "/home/jbieri/miniforge3/envs/ff_generation/lib/python3.10/site-packages/pkg_resources/__init__.py:3142: DeprecationWarning: Deprecated call to `pkg_resources.declare_namespace('google')`.\n",
      "Implementing implicit namespace packages (as specified in PEP 420) is preferred to `pkg_resources.declare_namespace`. See https://setuptools.pypa.io/en/latest/references/keywords.html#keyword-namespace-packages\n",
      "  declare_namespace(pkg)\n"
     ]
    },
    {
     "name": "stdout",
     "output_type": "stream",
     "text": [
      "\n",
      "Support for writing out LAMMPS data files will be removed\n",
      "in mbuild 1.0.\n",
      "See GMSO (https://github.com/mosdef-hub/gmso/tree/main/gmso/formats/lammpsdata) for\n",
      "continued support for LAMMPS.\n",
      "\n"
     ]
    },
    {
     "data": {
      "application/vnd.jupyter.widget-view+json": {
       "model_id": "d4e97c73927e4c87a0d0bdda9ab82d19",
       "version_major": 2,
       "version_minor": 0
      },
      "text/plain": []
     },
     "metadata": {},
     "output_type": "display_data"
    },
    {
     "name": "stderr",
     "output_type": "stream",
     "text": [
      "/home/jbieri/miniforge3/envs/ff_generation/lib/python3.10/site-packages/qcelemental/models/results.py:799: DeprecationWarning: ResultProtocols has been renamed to AtomicResultProtocols and will be removed as soon as v0.13.0\n",
      "  warn(\n",
      "/home/jbieri/miniforge3/envs/ff_generation/lib/python3.10/site-packages/qcelemental/models/results.py:799: DeprecationWarning: ResultProtocols has been renamed to AtomicResultProtocols and will be removed as soon as v0.13.0\n",
      "  warn(\n"
     ]
    }
   ],
   "source": [
    "import numpy as np\n",
    "import glob\n",
    "import warnings\n",
    "warnings.filterwarnings(action='ignore')\n",
    "\n",
    "import mbuild as mb\n",
    "import espaloma\n",
    "\n",
    "# Rerun with the original seed first"
   ]
  },
  {
   "cell_type": "code",
   "execution_count": 2,
   "id": "f4c47390-7359-4dd9-b2d7-88f31f58496c",
   "metadata": {},
   "outputs": [],
   "source": [
    "class PCPDTPT_nC16(mb.Compound):\n",
    "    def __init__(self):\n",
    "        super(PCPDTPT_nC16,self).__init__()\n",
    "        self.add(mb.load(\"/home/jbieri/CME_lab/repos/pl-validation/dimer_mol2/PCPDTPT_nC16_2mer.mol2\")) #smiles string of molecule\n",
    "        self.bond_indices = [121,122] #bond indices where polymerization would occur\n",
    "        self.orientations = [None,None] #orientation of polymer bonds\n",
    "        self.separation = 0.14 #separation of polymer bonds\n",
    "        self.replace = True #true if replacing H's when building polymer\n",
    "        self.energy_minimize()"
   ]
  },
  {
   "cell_type": "code",
   "execution_count": 8,
   "id": "89abc872-5f17-48be-be4d-4db5948324b8",
   "metadata": {},
   "outputs": [
    {
     "ename": "TypeError",
     "evalue": "'module' object is not callable",
     "output_type": "error",
     "traceback": [
      "\u001b[0;31m---------------------------------------------------------------------------\u001b[0m",
      "\u001b[0;31mTypeError\u001b[0m                                 Traceback (most recent call last)",
      "Cell \u001b[0;32mIn[8], line 5\u001b[0m\n\u001b[1;32m      2\u001b[0m typed_filepath \u001b[38;5;241m=\u001b[39m \u001b[38;5;124m\"\u001b[39m\u001b[38;5;124m/home/jbieri/CME_lab/repos/pl-validation/dimer_mol2/PCPDTPT_nC16_2mer.mol2\u001b[39m\u001b[38;5;124m\"\u001b[39m\n\u001b[1;32m      4\u001b[0m bruh \u001b[38;5;241m=\u001b[39m PCPDTPT_nC16()\n\u001b[0;32m----> 5\u001b[0m \u001b[43mespaloma\u001b[49m\u001b[43m(\u001b[49m\u001b[43mMONOMER\u001b[49m\u001b[38;5;241;43m=\u001b[39;49m\u001b[43mbruh\u001b[49m\u001b[43m,\u001b[49m\u001b[43mXML_FILEPATH\u001b[49m\u001b[38;5;241;43m=\u001b[39;49m\u001b[43mxml_filepath\u001b[49m\u001b[43m,\u001b[49m\u001b[43mDIMER\u001b[49m\u001b[38;5;241;43m=\u001b[39;49m\u001b[38;5;28;43;01mTrue\u001b[39;49;00m\u001b[43m)\u001b[49m\n",
      "\u001b[0;31mTypeError\u001b[0m: 'module' object is not callable"
     ]
    }
   ],
   "source": [
    "xml_filepath = \"/home/jbieri/CME_lab/repos/pl-validation/remade_xml/PCPDTFBT_C1_BO.xml\"\n",
    "typed_filepath = \"/home/jbieri/CME_lab/repos/pl-validation/dimer_mol2/PCPDTPT_nC16_2mer.mol2\"\n",
    "\n",
    "bruh = PCPDTPT_nC16()\n",
    "espaloma(MONOMER=bruh,XML_FILEPATH=xml_filepath,DIMER=True)"
   ]
  },
  {
   "cell_type": "code",
   "execution_count": null,
   "id": "d81050ee-18d6-4cd0-bc16-f946b7e1b7c3",
   "metadata": {},
   "outputs": [],
   "source": []
  }
 ],
 "metadata": {
  "kernelspec": {
   "display_name": "Python 3 (ipykernel)",
   "language": "python",
   "name": "python3"
  },
  "language_info": {
   "codemirror_mode": {
    "name": "ipython",
    "version": 3
   },
   "file_extension": ".py",
   "mimetype": "text/x-python",
   "name": "python",
   "nbconvert_exporter": "python",
   "pygments_lexer": "ipython3",
   "version": "3.10.14"
  }
 },
 "nbformat": 4,
 "nbformat_minor": 5
}
