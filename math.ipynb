{
 "cells": [
  {
   "cell_type": "markdown",
   "id": "7a75402d-7b24-4c76-a659-83ed7a47e217",
   "metadata": {},
   "source": [
    "## Mol2 reading and manipulation:"
   ]
  },
  {
   "cell_type": "code",
   "execution_count": 2,
   "id": "78a6eada-8746-400a-82ee-79c7ddd15519",
   "metadata": {},
   "outputs": [],
   "source": [
    "def mol2_reader(filename, column):\n",
    "    with open(filename) as file:\n",
    "        atom_section = False\n",
    "        column_data = []\n",
    "        column_names = {\n",
    "        \"atom_id\" : 0,\n",
    "        \"atom_name\" : 1,\n",
    "        \"x\" : 2,\n",
    "        \"y\" : 3,\n",
    "        \"z\" : 4,\n",
    "        \"atom_type\" : 5,\n",
    "        }\n",
    "        for line in file:\n",
    "            if line.startswith(\"@<TRIPOS>ATOM\"):\n",
    "                atom_section = True\n",
    "                continue\n",
    "            if line.startswith(\"@<TRIPOS>BOND\"):\n",
    "                atom_section = False\n",
    "                break\n",
    "            if atom_section:\n",
    "                line = line.split()\n",
    "                if column in [\"x\", \"y\", \"z\"]:\n",
    "                    column_data.append(float(line[column_names[column]]))\n",
    "                    continue\n",
    "                else:\n",
    "                    column_data.append(line[column_names[column]])\n",
    "    return column_data"
   ]
  },
  {
   "cell_type": "code",
   "execution_count": 3,
   "id": "4d0f1a17-7963-46e1-b807-db1a33751c44",
   "metadata": {},
   "outputs": [
    {
     "name": "stdout",
     "output_type": "stream",
     "text": [
      "-10.7689 13.8654\n",
      "2.4086 16.0993\n",
      "2.4038 12.0507\n"
     ]
    }
   ],
   "source": [
    "xs = mol2_reader(\"/home/jbieri/CME_lab/repos/pl-validation/mol2/PCPDTFBT_C1_BO.mol2\", \"x\")\n",
    "ys = mol2_reader(\"/home/jbieri/CME_lab/repos/pl-validation/mol2/PCPDTFBT_C1_BO.mol2\", \"y\")\n",
    "zs = mol2_reader(\"/home/jbieri/CME_lab/repos/pl-validation/mol2/PCPDTFBT_C1_BO.mol2\", \"z\")\n",
    "print(min(xs),max(xs))\n",
    "print(min(ys),max(ys))\n",
    "print(min(zs),max(zs))"
   ]
  },
  {
   "cell_type": "code",
   "execution_count": 4,
   "id": "911b94be-23d7-402b-957e-3c5c10dbb066",
   "metadata": {},
   "outputs": [
    {
     "name": "stdout",
     "output_type": "stream",
     "text": [
      "-353.3456 68.1216\n",
      "-178.682 16.0993\n",
      "0.6756 1221.5274\n"
     ]
    }
   ],
   "source": [
    "xs_250 = mol2_reader(\"/home/jbieri/CME_lab/repos/pl-validation/mol2/polymers/PCPDTFBT_C1_BO_250mer.mol2\", \"x\")\n",
    "ys_250 = mol2_reader(\"/home/jbieri/CME_lab/repos/pl-validation/mol2/polymers/PCPDTFBT_C1_BO_250mer.mol2\", \"y\")\n",
    "zs_250 = mol2_reader(\"/home/jbieri/CME_lab/repos/pl-validation/mol2/polymers/PCPDTFBT_C1_BO_250mer.mol2\", \"z\")\n",
    "print(min(xs_250),max(xs_250))\n",
    "print(min(ys_250),max(ys_250))\n",
    "print(min(zs_250),max(zs_250))"
   ]
  },
  {
   "cell_type": "code",
   "execution_count": 5,
   "id": "d79d1f75-aafb-4087-97a2-a97396ad336a",
   "metadata": {},
   "outputs": [
    {
     "name": "stdout",
     "output_type": "stream",
     "text": [
      "49002\n"
     ]
    }
   ],
   "source": [
    "print(len(xs_250))"
   ]
  },
  {
   "cell_type": "code",
   "execution_count": 6,
   "id": "d1f0f870-3c65-443c-bae5-18e5f946edf7",
   "metadata": {},
   "outputs": [
    {
     "name": "stdout",
     "output_type": "stream",
     "text": [
      "1220.6444\n",
      "<class 'float'>\n"
     ]
    }
   ],
   "source": [
    "print(zs_250[49001])\n",
    "print(type(zs_250[0]))"
   ]
  },
  {
   "cell_type": "code",
   "execution_count": 7,
   "id": "657b593d-f516-42c0-89cf-be2d53795ff3",
   "metadata": {},
   "outputs": [
    {
     "name": "stdout",
     "output_type": "stream",
     "text": [
      "78 108 4 6\n",
      "196\n",
      "234000 27000 14000 48000\n"
     ]
    }
   ],
   "source": [
    "atom_types = mol2_reader(\"/home/jbieri/CME_lab/repos/pl-validation/mol2/PCPDTFBT_C1_BO.mol2\", \"atom_type\")\n",
    "carbon = 0\n",
    "hydrogen = 0\n",
    "nitrogen = 0\n",
    "sulfur = 0\n",
    "for atom in atom_types:\n",
    "    if atom[0] == \"C\":\n",
    "        carbon += 1\n",
    "    elif atom[0] == \"H\":\n",
    "        hydrogen += 1\n",
    "    elif atom[0] == \"N\":\n",
    "        nitrogen += 1\n",
    "    elif atom[0] == \"S\":\n",
    "        sulfur += 1\n",
    "\n",
    "print(carbon, hydrogen, nitrogen, sulfur)\n",
    "print(carbon+hydrogen+nitrogen+sulfur)\n",
    "\n",
    "c250 = carbon * 250 * 12\n",
    "h250 = hydrogen * 250 * 1\n",
    "n250 = nitrogen * 250 * 14\n",
    "s250 = sulfur * 250 * 32\n",
    "\n",
    "bulk_mass = c250+h250+n250+s250\n",
    "mono_mass = bulk_mass / 250\n",
    "\n",
    "print(c250, h250, n250, s250)"
   ]
  },
  {
   "cell_type": "markdown",
   "id": "121485cc-52eb-47c8-96c5-132deb8356ab",
   "metadata": {},
   "source": [
    "## Calculating box sizes:"
   ]
  },
  {
   "cell_type": "code",
   "execution_count": 8,
   "id": "c83bbf1c-460a-4e18-962c-2c89ec11f1ee",
   "metadata": {},
   "outputs": [
    {
     "name": "stdout",
     "output_type": "stream",
     "text": [
      "0.23304953560371516 nm^3\n",
      "0.6153885535490613\n"
     ]
    }
   ],
   "source": [
    "density_of_box_cm3 = 0.5\n",
    "density_of_box_m3 = density_of_box_cm3 * 10**-6\n",
    "\n",
    "volume = density_of_box_cm3 / mono_mass\n",
    "volume = volume * 6.022*10**23 / 10**-6\n",
    "volume = volume * 10**-27\n",
    "\n",
    "print(volume, \"nm^3\")\n",
    "print(volume**(1/3))"
   ]
  },
  {
   "cell_type": "code",
   "execution_count": 17,
   "id": "b300a1f4-e717-446b-bb0d-3eca08821503",
   "metadata": {},
   "outputs": [
    {
     "name": "stdout",
     "output_type": "stream",
     "text": [
      "Volume 4.29093324476918 nm^3\n",
      "Length: 1.6249896008510596 nm\n"
     ]
    }
   ],
   "source": [
    "print(\"Volume \" + str(1/volume) + \" nm^3\")\n",
    "print(\"Length: \"+ str((1/volume)**(1/3)) + \" nm\")"
   ]
  },
  {
   "cell_type": "markdown",
   "id": "386cdcc0-3a34-4fa4-94db-9fbee58c3541",
   "metadata": {},
   "source": [
    "## Determining which atoms to replace and with what in generated mol2 files:"
   ]
  },
  {
   "cell_type": "code",
   "execution_count": 1,
   "id": "51bfb33a-688d-4165-b512-b11697ad6b76",
   "metadata": {},
   "outputs": [],
   "source": [
    "import glob\n",
    "molecule_list = glob.glob(\"/home/jbieri/CME_lab/repos/pl-validation/mol2/\"+\"*.mol2\")\n",
    "molecule_list.pop(1)\n",
    "molecule_list = sorted(molecule_list)"
   ]
  },
  {
   "cell_type": "code",
   "execution_count": 109,
   "id": "db5f5979-8bfd-4df3-94be-50d939786c60",
   "metadata": {},
   "outputs": [],
   "source": [
    "end_hydrogens = []\n",
    "for i in range(len(molecule_list)):\n",
    "    end_hydrogens.append((mol2_reader(molecule_list[i], \"atom_name\"))[-2:])"
   ]
  },
  {
   "cell_type": "code",
   "execution_count": 111,
   "id": "7810d3b2-a8ea-4342-893a-63adc2164a78",
   "metadata": {},
   "outputs": [
    {
     "name": "stdout",
     "output_type": "stream",
     "text": [
      "[['H7', 'H3'], ['H7', 'H3'], ['H7', 'H3'], ['H7', 'H3'], ['H7', 'H3'], ['H5', 'H5'], ['H5', 'H5'], ['H4', 'H4'], ['H5', 'H3'], ['H4', 'H4'], ['H6', 'H3'], ['H5', 'H5'], ['H7', 'H3']]\n"
     ]
    }
   ],
   "source": [
    "print(end_hydrogens)"
   ]
  },
  {
   "cell_type": "code",
   "execution_count": 112,
   "id": "6d3245a0-c410-48cd-8d45-e4c348c3880d",
   "metadata": {},
   "outputs": [],
   "source": [
    "polymer_list = glob.glob(\"/home/jbieri/CME_lab/repos/pl-validation/mol2/10_mers/\"+\"*.mol2\")\n",
    "polymer_list = sorted(polymer_list)\n",
    "\n",
    "file_count = 0\n",
    "replace_with = []\n",
    "for filename in polymer_list:\n",
    "    h_count = 0\n",
    "    with open(filename, \"r\") as file:\n",
    "        for line in file:\n",
    "            temp = line.split()\n",
    "            if len(temp)>1 and temp[1] == (\"H\"):\n",
    "                temp[1] = end_hydrogens[file_count][h_count]\n",
    "                replace_with.append(temp[:2])\n",
    "                h_count += 1\n",
    "    file_count += 1"
   ]
  },
  {
   "cell_type": "code",
   "execution_count": 113,
   "id": "ad06c50d-a0e9-4776-8071-741ac34c145f",
   "metadata": {},
   "outputs": [
    {
     "name": "stdout",
     "output_type": "stream",
     "text": [
      "[['123', 'H4'], ['1222', 'H4'], ['230', 'H6'], ['2292', 'H3'], ['438', 'H5'], ['4372', 'H5'], ['603', 'H7'], ['6022', 'H3']]\n"
     ]
    }
   ],
   "source": [
    "print(replace_with)"
   ]
  },
  {
   "cell_type": "code",
   "execution_count": 114,
   "id": "9e742f8d-7411-4adf-b62e-0c390df81ffa",
   "metadata": {},
   "outputs": [
    {
     "name": "stdout",
     "output_type": "stream",
     "text": [
      "['/home/jbieri/CME_lab/repos/pl-validation/mol2/10_mers/PCPDTFBT_C11_BO_10mer.mol2', '/home/jbieri/CME_lab/repos/pl-validation/mol2/10_mers/PCPDTFBT_C1_BO_10mer.mol2', '/home/jbieri/CME_lab/repos/pl-validation/mol2/10_mers/PCPDTFBT_C3_BO_10mer.mol2', '/home/jbieri/CME_lab/repos/pl-validation/mol2/10_mers/PCPDTFBT_C4_BO_10mer.mol2', '/home/jbieri/CME_lab/repos/pl-validation/mol2/10_mers/PCPDTFBT_C5_BO_10mer.mol2', '/home/jbieri/CME_lab/repos/pl-validation/mol2/10_mers/PCPDTPT_HD_10mer.mol2', '/home/jbieri/CME_lab/repos/pl-validation/mol2/10_mers/PCPDTPT_ODD_10mer.mol2', '/home/jbieri/CME_lab/repos/pl-validation/mol2/10_mers/PCPDTPT_eneODD_10mer.mol2', '/home/jbieri/CME_lab/repos/pl-validation/mol2/10_mers/PCPDTPT_nC16_10mer.mol2', '/home/jbieri/CME_lab/repos/pl-validation/mol2/10_mers/PCPDT_PT_eneHD_10mer.mol2', '/home/jbieri/CME_lab/repos/pl-validation/mol2/10_mers/PIDTBT_nC16_10mer.mol2', '/home/jbieri/CME_lab/repos/pl-validation/mol2/10_mers/PIDTCPDT_C11BO_10mer.mol2', '/home/jbieri/CME_lab/repos/pl-validation/mol2/10_mers/PIDTFBT_C11_BO_10mer.mol2']\n"
     ]
    }
   ],
   "source": [
    "print(polymer_list)"
   ]
  },
  {
   "cell_type": "code",
   "execution_count": 10,
   "id": "40cd7656-7d3f-498b-893a-a4a5b33cb57f",
   "metadata": {},
   "outputs": [],
   "source": [
    "molecule_list = glob.glob(\"/home/jbieri/CME_lab/repos/pl-validation/mol2/10_mers/\"+\"*.mol2\")\n",
    "molecule_list = sorted(molecule_list)"
   ]
  },
  {
   "cell_type": "code",
   "execution_count": 14,
   "id": "dd80e42d-be14-4d3e-a340-e803894ed173",
   "metadata": {},
   "outputs": [],
   "source": [
    "lengths = []\n",
    "for i in range(len(molecule_list)):\n",
    "    lengths.append(len(mol2_reader(molecule_list[i], \"x\")))"
   ]
  },
  {
   "cell_type": "code",
   "execution_count": 15,
   "id": "04073aa1-b577-41cb-b252-bb7474f9db22",
   "metadata": {},
   "outputs": [
    {
     "name": "stdout",
     "output_type": "stream",
     "text": [
      "[318, 198, 222, 234, 246, 123, 147, 148, 123, 124, 231, 439, 604]\n"
     ]
    }
   ],
   "source": [
    "print(lengths)"
   ]
  }
 ],
 "metadata": {
  "kernelspec": {
   "display_name": "Python 3 (ipykernel)",
   "language": "python",
   "name": "python3"
  },
  "language_info": {
   "codemirror_mode": {
    "name": "ipython",
    "version": 3
   },
   "file_extension": ".py",
   "mimetype": "text/x-python",
   "name": "python",
   "nbconvert_exporter": "python",
   "pygments_lexer": "ipython3",
   "version": "3.11.0"
  }
 },
 "nbformat": 4,
 "nbformat_minor": 5
}
