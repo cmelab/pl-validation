{
 "cells": [
  {
   "cell_type": "markdown",
   "id": "7fac460c-c03b-4e2b-8d31-18056e1b2424",
   "metadata": {},
   "source": [
    "## Simulating melts of polymer chains"
   ]
  },
  {
   "cell_type": "code",
   "execution_count": 1,
   "id": "8db5a845-5f44-4394-8950-e0877ef4e701",
   "metadata": {},
   "outputs": [
    {
     "name": "stderr",
     "output_type": "stream",
     "text": [
      "/home/jbieri/miniforge3/envs/p_l/lib/python3.11/site-packages/pkg_resources/__init__.py:3146: DeprecationWarning: Deprecated call to `pkg_resources.declare_namespace('google')`.\n",
      "Implementing implicit namespace packages (as specified in PEP 420) is preferred to `pkg_resources.declare_namespace`. See https://setuptools.pypa.io/en/latest/references/keywords.html#keyword-namespace-packages\n",
      "  declare_namespace(pkg)\n"
     ]
    },
    {
     "name": "stdout",
     "output_type": "stream",
     "text": [
      "\n",
      "Support for writing out LAMMPS data files will be removed\n",
      "in mbuild 1.0.\n",
      "See GMSO (https://github.com/mosdef-hub/gmso/tree/main/gmso/formats/lammpsdata) for\n",
      "continued support for LAMMPS.\n",
      "\n"
     ]
    }
   ],
   "source": [
    "import warnings\n",
    "warnings.filterwarnings('ignore')\n",
    "import hoomd\n",
    "import gsd\n",
    "import gsd.hoomd\n",
    "from hoomd.md import nlist\n",
    "\n",
    "import unyt as u\n",
    "import glob\n",
    "import mbuild as mb\n",
    "import matplotlib.pyplot as plt\n",
    "import numpy as np\n",
    "import os\n",
    "\n",
    "import flowermd\n",
    "from flowermd.utils import get_target_box_mass_density\n",
    "from flowermd.base import Simulation, Molecule\n",
    "from flowermd.library import FF_from_file\n",
    "from flowermd.base.system import Pack\n",
    "\n",
    "from polymer_dictionary import polymer_dictionary\n",
    "\n",
    "# Rerun with the original seed first"
   ]
  },
  {
   "cell_type": "code",
   "execution_count": 2,
   "id": "918cdbfe-0c87-4a8d-a6a5-8c46fddaf0d1",
   "metadata": {},
   "outputs": [],
   "source": [
    "# Updates atom names to fit with hoomd conventions\n",
    "def espaloma_mol(file_path):\n",
    "     mol = mb.load(file_path)\n",
    "     for p in mol.particles():\n",
    "           p.name = f\"_{p.name}\"\n",
    "     return mol"
   ]
  },
  {
   "cell_type": "markdown",
   "id": "b80b7440-ec8f-4a48-80e5-43afe69dcd2a",
   "metadata": {},
   "source": [
    "## Single molecule sim:"
   ]
  },
  {
   "cell_type": "code",
   "execution_count": 3,
   "id": "048d255b-22df-4636-9238-dbe1bf8462f5",
   "metadata": {},
   "outputs": [
    {
     "name": "stdout",
     "output_type": "stream",
     "text": [
      "['PCPDTFBT_C11_BO', 'PCPDTFBT_C1_BO', 'PCPDTFBT_C3_BO', 'PCPDTFBT_C4_BO', 'PCPDTFBT_C5_BO', 'PCPDTPT_HD', 'PCPDTPT_ODD', 'PCPDTPT_eneODD', 'PCPDTPT_nC16', 'PCPDT_PT_eneHD', 'PIDTBT_nC16', 'PIDTCPDT_C11BO', 'PIDTFBT_C11_BO']\n"
     ]
    }
   ],
   "source": [
    "key_list = sorted(list(polymer_dictionary.keys())) # Aligning dictionary and path to aid automation\n",
    "path = os.getcwd() # Non-user specific path\n",
    "molecule_list = sorted(glob.glob(path+\"/mol2/*.mol2\"))\n",
    "molecule_list.pop(10) # Removing polymer not tested\n",
    "print(key_list)"
   ]
  },
  {
   "cell_type": "code",
   "execution_count": 4,
   "id": "f561553c-2a41-479d-827d-1cbf23ddfa06",
   "metadata": {},
   "outputs": [],
   "source": [
    "mol2_path = os.getcwd() + \"/mol2/\"\n",
    "xml_path = os.getcwd() + \"/xml/\""
   ]
  },
  {
   "cell_type": "code",
   "execution_count": 4,
   "id": "c1ca1739-19fc-48f1-b6ea-f3c01d5450c6",
   "metadata": {},
   "outputs": [
    {
     "name": "stderr",
     "output_type": "stream",
     "text": [
      "/home/jbieri/miniforge3/envs/p_l/lib/python3.11/site-packages/gmso/core/topology.py:818: DeprecationWarning: Conversion of an array with ndim > 0 to a scalar is deprecated, and will error in future. Ensure you extract a single element from your array before performing this operation. (Deprecated NumPy 1.25.)\n",
      "  all_scales[index][scaling_interaction_idxes[interaction]] = value\n",
      "/home/jbieri/miniforge3/envs/p_l/lib/python3.11/site-packages/gmso/core/topology.py:818: DeprecationWarning: Conversion of an array with ndim > 0 to a scalar is deprecated, and will error in future. Ensure you extract a single element from your array before performing this operation. (Deprecated NumPy 1.25.)\n",
      "  all_scales[index][scaling_interaction_idxes[interaction]] = value\n"
     ]
    },
    {
     "name": "stdout",
     "output_type": "stream",
     "text": [
      "No charged group detected, skipping electrostatics.\n"
     ]
    }
   ],
   "source": [
    "system_file = mol2_path + \"alternate_PCPDTPT_nC16.mol2\"\n",
    "ff_filepath = xml_path + \"alternate_PCPDTPT_nC16.xml\"\n",
    "\n",
    "espmol = espaloma_mol(system_file)\n",
    "molecule = Molecule(num_mols=1, compound=espmol)\n",
    "\n",
    "molff = FF_from_file(ff_filepath)\n",
    "system = Pack(molecules=molecule,density=0.01 * u.g/u.cm**3,packing_expand_factor=5)\n",
    "system.apply_forcefield(r_cut=2.5, force_field=molff, auto_scale=True,remove_charges=True, remove_hydrogens=True)"
   ]
  },
  {
   "cell_type": "code",
   "execution_count": 5,
   "id": "93a19aa7-e855-4a1d-839f-2bd11b8c9ff1",
   "metadata": {},
   "outputs": [
    {
     "name": "stdout",
     "output_type": "stream",
     "text": [
      "Initializing simulation state from a gsd.hoomd.Frame.\n"
     ]
    }
   ],
   "source": [
    "system.hoomd_snapshot\n",
    "hoomd_forces = system.hoomd_forcefield\n",
    "hoomd_forces\n",
    "lj_force = hoomd_forces[3]\n",
    "cpu = hoomd.device.CPU()\n",
    "sim = Simulation.from_system(system=system, gsd_write_freq=1, log_write_freq=1, device=cpu, gsd_file_name=\"alternate_PCPDTPT_nC16_melt.gsd\",log_file_name=\"alternate_PCPDTPT_nC16_melt.txt\")"
   ]
  },
  {
   "cell_type": "code",
   "execution_count": 6,
   "id": "3eba6fa0-fafb-411f-b5bd-cfa44e4cf644",
   "metadata": {
    "scrolled": true
   },
   "outputs": [],
   "source": [
    "sim.run_NVT(n_steps=1, kT=5.0, tau_kt=1.0)\n",
    "sim.flush_writers()"
   ]
  },
  {
   "cell_type": "code",
   "execution_count": 24,
   "id": "b649dd86-43d1-4632-a603-09c47a976bb6",
   "metadata": {},
   "outputs": [
    {
     "data": {
      "text/plain": [
       "{'energy': unyt_quantity(1.046, 'kJ/mol'),\n",
       " 'length': unyt_quantity(0.35635949, 'nm'),\n",
       " 'mass': unyt_quantity(32.06, 'amu')}"
      ]
     },
     "execution_count": 24,
     "metadata": {},
     "output_type": "execute_result"
    }
   ],
   "source": [
    "sim.reference_values"
   ]
  },
  {
   "cell_type": "markdown",
   "id": "6db3cd89-7892-46e5-97ee-2f2e6d3c90b6",
   "metadata": {},
   "source": [
    "## Running sims of every polymer in the Danielsen et al. paper"
   ]
  },
  {
   "cell_type": "code",
   "execution_count": 18,
   "id": "1f6ea0e0-c026-4e8e-ad35-b687c5154544",
   "metadata": {
    "scrolled": true
   },
   "outputs": [
    {
     "name": "stderr",
     "output_type": "stream",
     "text": [
      "/home/jbieri/miniforge3/envs/p_l/lib/python3.11/site-packages/gmso/core/topology.py:818: DeprecationWarning: Conversion of an array with ndim > 0 to a scalar is deprecated, and will error in future. Ensure you extract a single element from your array before performing this operation. (Deprecated NumPy 1.25.)\n",
      "  all_scales[index][scaling_interaction_idxes[interaction]] = value\n",
      "/home/jbieri/miniforge3/envs/p_l/lib/python3.11/site-packages/gmso/core/topology.py:818: DeprecationWarning: Conversion of an array with ndim > 0 to a scalar is deprecated, and will error in future. Ensure you extract a single element from your array before performing this operation. (Deprecated NumPy 1.25.)\n",
      "  all_scales[index][scaling_interaction_idxes[interaction]] = value\n"
     ]
    },
    {
     "name": "stdout",
     "output_type": "stream",
     "text": [
      "No charged group detected, skipping electrostatics.\n",
      "Initializing simulation state from a gsd.hoomd.Frame.\n",
      "Step 10000 of 1000000; TPS: 1089.39; ETA: 15.1 minutes\n",
      "Step 20000 of 1000000; TPS: 1014.77; ETA: 16.1 minutes\n",
      "Step 30000 of 1000000; TPS: 995.07; ETA: 16.2 minutes\n",
      "Step 40000 of 1000000; TPS: 1009.04; ETA: 15.9 minutes\n",
      "Step 50000 of 1000000; TPS: 994.19; ETA: 15.9 minutes\n",
      "Step 60000 of 1000000; TPS: 984.8; ETA: 15.9 minutes\n",
      "Step 70000 of 1000000; TPS: 1007.12; ETA: 15.4 minutes\n",
      "Step 80000 of 1000000; TPS: 990.38; ETA: 15.5 minutes\n",
      "Step 90000 of 1000000; TPS: 983.29; ETA: 15.4 minutes\n",
      "Step 100000 of 1000000; TPS: 998.6; ETA: 15.0 minutes\n"
     ]
    },
    {
     "name": "stderr",
     "output_type": "stream",
     "text": [
      "IOStream.flush timed out\n"
     ]
    },
    {
     "name": "stdout",
     "output_type": "stream",
     "text": [
      "Step 110000 of 1000000; TPS: 994.68; ETA: 14.9 minutes\n",
      "Step 120000 of 1000000; TPS: 988.62; ETA: 14.8 minutes\n",
      "Step 130000 of 1000000; TPS: 999.5; ETA: 14.5 minutes\n",
      "Step 140000 of 1000000; TPS: 994.13; ETA: 14.4 minutes\n"
     ]
    },
    {
     "name": "stderr",
     "output_type": "stream",
     "text": [
      "IOStream.flush timed out\n",
      "IOStream.flush timed out\n"
     ]
    },
    {
     "name": "stdout",
     "output_type": "stream",
     "text": [
      "Step 150000 of 1000000; TPS: 989.82; ETA: 14.3 minutes\n",
      "Step 160000 of 1000000; TPS: 998.04; ETA: 14.0 minutes\n",
      "Step 170000 of 1000000; TPS: 994.76; ETA: 13.9 minutes\n",
      "Step 180000 of 1000000; TPS: 990.8; ETA: 13.8 minutes\n",
      "Step 190000 of 1000000; TPS: 996.11; ETA: 13.6 minutes\n",
      "Step 200000 of 1000000; TPS: 990.64; ETA: 13.5 minutes\n",
      "Step 210000 of 1000000; TPS: 987.17; ETA: 13.3 minutes\n",
      "Step 220000 of 1000000; TPS: 991.85; ETA: 13.1 minutes\n"
     ]
    },
    {
     "name": "stderr",
     "output_type": "stream",
     "text": [
      "IOStream.flush timed out\n",
      "IOStream.flush timed out\n"
     ]
    },
    {
     "name": "stdout",
     "output_type": "stream",
     "text": [
      "Step 230000 of 1000000; TPS: 988.03; ETA: 13.0 minutes\n",
      "Step 240000 of 1000000; TPS: 985.8; ETA: 12.8 minutes\n",
      "Step 250000 of 1000000; TPS: 990.55; ETA: 12.6 minutes\n",
      "Step 260000 of 1000000; TPS: 984.81; ETA: 12.5 minutes\n",
      "Step 270000 of 1000000; TPS: 979.63; ETA: 12.4 minutes\n",
      "Step 280000 of 1000000; TPS: 984.98; ETA: 12.2 minutes\n",
      "Step 290000 of 1000000; TPS: 981.98; ETA: 12.1 minutes\n"
     ]
    },
    {
     "name": "stderr",
     "output_type": "stream",
     "text": [
      "IOStream.flush timed out\n"
     ]
    },
    {
     "name": "stdout",
     "output_type": "stream",
     "text": [
      "Step 300000 of 1000000; TPS: 980.18; ETA: 11.9 minutes\n",
      "Step 310000 of 1000000; TPS: 983.76; ETA: 11.7 minutes\n",
      "Step 320000 of 1000000; TPS: 981.35; ETA: 11.5 minutes\n",
      "Step 330000 of 1000000; TPS: 977.93; ETA: 11.4 minutes\n",
      "Step 340000 of 1000000; TPS: 980.47; ETA: 11.2 minutes\n"
     ]
    },
    {
     "name": "stderr",
     "output_type": "stream",
     "text": [
      "IOStream.flush timed out\n"
     ]
    },
    {
     "name": "stdout",
     "output_type": "stream",
     "text": [
      "Step 350000 of 1000000; TPS: 979.08; ETA: 11.1 minutes\n",
      "Step 360000 of 1000000; TPS: 976.79; ETA: 10.9 minutes\n",
      "Step 370000 of 1000000; TPS: 974.86; ETA: 10.8 minutes\n",
      "Step 380000 of 1000000; TPS: 981.08; ETA: 10.5 minutes\n",
      "Step 390000 of 1000000; TPS: 978.66; ETA: 10.4 minutes\n"
     ]
    },
    {
     "name": "stderr",
     "output_type": "stream",
     "text": [
      "IOStream.flush timed out\n",
      "IOStream.flush timed out\n"
     ]
    },
    {
     "name": "stdout",
     "output_type": "stream",
     "text": [
      "Step 400000 of 1000000; TPS: 976.22; ETA: 10.2 minutes\n",
      "Step 410000 of 1000000; TPS: 979.2; ETA: 10.0 minutes\n",
      "Step 420000 of 1000000; TPS: 977.25; ETA: 9.9 minutes\n",
      "Step 430000 of 1000000; TPS: 974.83; ETA: 9.7 minutes\n",
      "Step 440000 of 1000000; TPS: 977.47; ETA: 9.5 minutes\n",
      "Step 450000 of 1000000; TPS: 975.31; ETA: 9.4 minutes\n",
      "Step 460000 of 1000000; TPS: 975.06; ETA: 9.2 minutes\n"
     ]
    },
    {
     "name": "stderr",
     "output_type": "stream",
     "text": [
      "IOStream.flush timed out\n",
      "IOStream.flush timed out\n"
     ]
    },
    {
     "name": "stdout",
     "output_type": "stream",
     "text": [
      "Step 470000 of 1000000; TPS: 977.94; ETA: 9.0 minutes\n",
      "Step 480000 of 1000000; TPS: 976.24; ETA: 8.9 minutes\n",
      "Step 490000 of 1000000; TPS: 974.5; ETA: 8.7 minutes\n",
      "Step 500000 of 1000000; TPS: 974.85; ETA: 8.5 minutes\n",
      "Step 510000 of 1000000; TPS: 970.48; ETA: 8.4 minutes\n",
      "Step 520000 of 1000000; TPS: 966.21; ETA: 8.3 minutes\n",
      "Step 530000 of 1000000; TPS: 966.1; ETA: 8.1 minutes\n",
      "Step 540000 of 1000000; TPS: 965.39; ETA: 7.9 minutes\n",
      "Step 550000 of 1000000; TPS: 967.61; ETA: 7.8 minutes\n",
      "Step 560000 of 1000000; TPS: 966.02; ETA: 7.6 minutes\n",
      "Step 570000 of 1000000; TPS: 965.04; ETA: 7.4 minutes\n",
      "Step 580000 of 1000000; TPS: 967.23; ETA: 7.2 minutes\n",
      "Step 590000 of 1000000; TPS: 966.08; ETA: 7.1 minutes\n",
      "Step 600000 of 1000000; TPS: 964.29; ETA: 6.9 minutes\n",
      "Step 610000 of 1000000; TPS: 966.09; ETA: 6.7 minutes\n",
      "Step 620000 of 1000000; TPS: 964.07; ETA: 6.6 minutes\n",
      "Step 630000 of 1000000; TPS: 962.17; ETA: 6.4 minutes\n",
      "Step 640000 of 1000000; TPS: 963.56; ETA: 6.2 minutes\n",
      "Step 650000 of 1000000; TPS: 961.92; ETA: 6.1 minutes\n",
      "Step 660000 of 1000000; TPS: 960.04; ETA: 5.9 minutes\n",
      "Step 670000 of 1000000; TPS: 961.13; ETA: 5.7 minutes\n",
      "Step 680000 of 1000000; TPS: 958.63; ETA: 5.6 minutes\n",
      "Step 690000 of 1000000; TPS: 956.93; ETA: 5.4 minutes\n",
      "Step 700000 of 1000000; TPS: 957.48; ETA: 5.2 minutes\n",
      "Step 710000 of 1000000; TPS: 955.05; ETA: 5.1 minutes\n",
      "Step 720000 of 1000000; TPS: 956.03; ETA: 4.9 minutes\n",
      "Step 730000 of 1000000; TPS: 954.29; ETA: 4.7 minutes\n",
      "Step 740000 of 1000000; TPS: 952.27; ETA: 4.6 minutes\n",
      "Step 750000 of 1000000; TPS: 953.35; ETA: 4.4 minutes\n",
      "Step 760000 of 1000000; TPS: 951.79; ETA: 4.2 minutes\n",
      "Step 770000 of 1000000; TPS: 950.47; ETA: 4.0 minutes\n",
      "Step 780000 of 1000000; TPS: 951.88; ETA: 3.9 minutes\n",
      "Step 790000 of 1000000; TPS: 950.58; ETA: 3.7 minutes\n",
      "Step 800000 of 1000000; TPS: 951.64; ETA: 3.5 minutes\n",
      "Step 810000 of 1000000; TPS: 950.23; ETA: 3.3 minutes\n",
      "Step 820000 of 1000000; TPS: 949.05; ETA: 3.2 minutes\n",
      "Step 830000 of 1000000; TPS: 949.92; ETA: 3.0 minutes\n",
      "Step 840000 of 1000000; TPS: 948.57; ETA: 2.8 minutes\n",
      "Step 850000 of 1000000; TPS: 947.2; ETA: 2.6 minutes\n",
      "Step 860000 of 1000000; TPS: 947.95; ETA: 2.5 minutes\n",
      "Step 870000 of 1000000; TPS: 947.14; ETA: 2.3 minutes\n",
      "Step 880000 of 1000000; TPS: 946.11; ETA: 2.1 minutes\n",
      "Step 890000 of 1000000; TPS: 947.31; ETA: 1.9 minutes\n",
      "Step 900000 of 1000000; TPS: 946.26; ETA: 1.8 minutes\n",
      "Step 910000 of 1000000; TPS: 945.44; ETA: 1.6 minutes\n",
      "Step 920000 of 1000000; TPS: 946.53; ETA: 1.4 minutes\n",
      "Step 930000 of 1000000; TPS: 945.16; ETA: 1.2 minutes\n",
      "Step 940000 of 1000000; TPS: 945.5; ETA: 1.1 minutes\n",
      "Step 950000 of 1000000; TPS: 944.88; ETA: 0.9 minutes\n",
      "Step 960000 of 1000000; TPS: 944.14; ETA: 0.7 minutes\n",
      "Step 970000 of 1000000; TPS: 944.8; ETA: 0.5 minutes\n",
      "Step 980000 of 1000000; TPS: 943.54; ETA: 0.4 minutes\n",
      "Step 990000 of 1000000; TPS: 942.16; ETA: 0.2 minutes\n"
     ]
    },
    {
     "name": "stderr",
     "output_type": "stream",
     "text": [
      "/home/jbieri/miniforge3/envs/p_l/lib/python3.11/site-packages/gmso/core/topology.py:818: DeprecationWarning: Conversion of an array with ndim > 0 to a scalar is deprecated, and will error in future. Ensure you extract a single element from your array before performing this operation. (Deprecated NumPy 1.25.)\n",
      "  all_scales[index][scaling_interaction_idxes[interaction]] = value\n",
      "/home/jbieri/miniforge3/envs/p_l/lib/python3.11/site-packages/gmso/core/topology.py:818: DeprecationWarning: Conversion of an array with ndim > 0 to a scalar is deprecated, and will error in future. Ensure you extract a single element from your array before performing this operation. (Deprecated NumPy 1.25.)\n",
      "  all_scales[index][scaling_interaction_idxes[interaction]] = value\n"
     ]
    },
    {
     "name": "stdout",
     "output_type": "stream",
     "text": [
      "No charged group detected, skipping electrostatics.\n",
      "Initializing simulation state from a gsd.hoomd.Frame.\n",
      "Step 10000 of 1000000; TPS: 481.0; ETA: 34.3 minutes\n",
      "Step 20000 of 1000000; TPS: 541.7; ETA: 30.2 minutes\n",
      "Step 30000 of 1000000; TPS: 538.17; ETA: 30.0 minutes\n",
      "Step 40000 of 1000000; TPS: 546.46; ETA: 29.3 minutes\n",
      "Step 50000 of 1000000; TPS: 551.01; ETA: 28.7 minutes\n",
      "Step 60000 of 1000000; TPS: 549.26; ETA: 28.5 minutes\n",
      "Step 70000 of 1000000; TPS: 559.64; ETA: 27.7 minutes\n",
      "Step 80000 of 1000000; TPS: 557.21; ETA: 27.5 minutes\n",
      "Step 90000 of 1000000; TPS: 560.14; ETA: 27.1 minutes\n",
      "Step 100000 of 1000000; TPS: 560.21; ETA: 26.8 minutes\n",
      "Step 110000 of 1000000; TPS: 553.42; ETA: 26.8 minutes\n",
      "Step 120000 of 1000000; TPS: 556.45; ETA: 26.4 minutes\n",
      "Step 130000 of 1000000; TPS: 554.71; ETA: 26.1 minutes\n",
      "Step 140000 of 1000000; TPS: 558.14; ETA: 25.7 minutes\n",
      "Step 150000 of 1000000; TPS: 560.01; ETA: 25.3 minutes\n",
      "Step 160000 of 1000000; TPS: 555.4; ETA: 25.2 minutes\n",
      "Step 170000 of 1000000; TPS: 555.33; ETA: 24.9 minutes\n",
      "Step 180000 of 1000000; TPS: 553.29; ETA: 24.7 minutes\n",
      "Step 190000 of 1000000; TPS: 558.11; ETA: 24.2 minutes\n",
      "Step 200000 of 1000000; TPS: 560.92; ETA: 23.8 minutes\n",
      "Step 210000 of 1000000; TPS: 566.15; ETA: 23.3 minutes\n",
      "Step 220000 of 1000000; TPS: 567.03; ETA: 22.9 minutes\n",
      "Step 230000 of 1000000; TPS: 570.67; ETA: 22.5 minutes\n",
      "Step 240000 of 1000000; TPS: 574.58; ETA: 22.0 minutes\n",
      "Step 250000 of 1000000; TPS: 576.35; ETA: 21.7 minutes\n",
      "Step 260000 of 1000000; TPS: 580.15; ETA: 21.3 minutes\n",
      "Step 270000 of 1000000; TPS: 580.6; ETA: 21.0 minutes\n",
      "Step 280000 of 1000000; TPS: 583.04; ETA: 20.6 minutes\n",
      "Step 290000 of 1000000; TPS: 582.23; ETA: 20.3 minutes\n",
      "Step 300000 of 1000000; TPS: 584.95; ETA: 19.9 minutes\n",
      "Step 310000 of 1000000; TPS: 585.77; ETA: 19.6 minutes\n",
      "Step 320000 of 1000000; TPS: 588.7; ETA: 19.3 minutes\n",
      "Step 330000 of 1000000; TPS: 588.94; ETA: 19.0 minutes\n",
      "Step 340000 of 1000000; TPS: 591.09; ETA: 18.6 minutes\n",
      "Step 350000 of 1000000; TPS: 590.94; ETA: 18.3 minutes\n",
      "Step 360000 of 1000000; TPS: 593.23; ETA: 18.0 minutes\n",
      "Step 370000 of 1000000; TPS: 593.59; ETA: 17.7 minutes\n",
      "Step 380000 of 1000000; TPS: 595.6; ETA: 17.3 minutes\n",
      "Step 390000 of 1000000; TPS: 595.15; ETA: 17.1 minutes\n",
      "Step 400000 of 1000000; TPS: 596.82; ETA: 16.8 minutes\n",
      "Step 410000 of 1000000; TPS: 596.48; ETA: 16.5 minutes\n",
      "Step 420000 of 1000000; TPS: 598.46; ETA: 16.2 minutes\n",
      "Step 430000 of 1000000; TPS: 598.85; ETA: 15.9 minutes\n",
      "Step 440000 of 1000000; TPS: 601.05; ETA: 15.5 minutes\n",
      "Step 450000 of 1000000; TPS: 601.01; ETA: 15.3 minutes\n",
      "Step 460000 of 1000000; TPS: 602.53; ETA: 14.9 minutes\n",
      "Step 470000 of 1000000; TPS: 603.49; ETA: 14.6 minutes\n",
      "Step 480000 of 1000000; TPS: 603.48; ETA: 14.4 minutes\n",
      "Step 490000 of 1000000; TPS: 605.15; ETA: 14.0 minutes\n",
      "Step 500000 of 1000000; TPS: 605.0; ETA: 13.8 minutes\n",
      "Step 510000 of 1000000; TPS: 605.92; ETA: 13.5 minutes\n",
      "Step 520000 of 1000000; TPS: 605.65; ETA: 13.2 minutes\n",
      "Step 530000 of 1000000; TPS: 606.81; ETA: 12.9 minutes\n",
      "Step 540000 of 1000000; TPS: 606.69; ETA: 12.6 minutes\n",
      "Step 550000 of 1000000; TPS: 607.98; ETA: 12.3 minutes\n",
      "Step 560000 of 1000000; TPS: 607.87; ETA: 12.1 minutes\n",
      "Step 570000 of 1000000; TPS: 608.69; ETA: 11.8 minutes\n",
      "Step 580000 of 1000000; TPS: 608.31; ETA: 11.5 minutes\n",
      "Step 590000 of 1000000; TPS: 609.13; ETA: 11.2 minutes\n",
      "Step 600000 of 1000000; TPS: 608.82; ETA: 11.0 minutes\n",
      "Step 610000 of 1000000; TPS: 609.98; ETA: 10.7 minutes\n",
      "Step 620000 of 1000000; TPS: 609.75; ETA: 10.4 minutes\n",
      "Step 630000 of 1000000; TPS: 610.9; ETA: 10.1 minutes\n",
      "Step 640000 of 1000000; TPS: 610.79; ETA: 9.8 minutes\n",
      "Step 650000 of 1000000; TPS: 611.92; ETA: 9.5 minutes\n",
      "Step 660000 of 1000000; TPS: 611.9; ETA: 9.3 minutes\n",
      "Step 670000 of 1000000; TPS: 613.06; ETA: 9.0 minutes\n",
      "Step 680000 of 1000000; TPS: 612.93; ETA: 8.7 minutes\n",
      "Step 690000 of 1000000; TPS: 613.75; ETA: 8.4 minutes\n",
      "Step 700000 of 1000000; TPS: 613.24; ETA: 8.2 minutes\n",
      "Step 710000 of 1000000; TPS: 613.96; ETA: 7.9 minutes\n",
      "Step 720000 of 1000000; TPS: 614.53; ETA: 7.6 minutes\n",
      "Step 730000 of 1000000; TPS: 614.08; ETA: 7.3 minutes\n",
      "Step 740000 of 1000000; TPS: 614.83; ETA: 7.0 minutes\n",
      "Step 750000 of 1000000; TPS: 614.57; ETA: 6.8 minutes\n",
      "Step 760000 of 1000000; TPS: 615.18; ETA: 6.5 minutes\n",
      "Step 770000 of 1000000; TPS: 614.89; ETA: 6.2 minutes\n",
      "Step 780000 of 1000000; TPS: 615.81; ETA: 6.0 minutes\n",
      "Step 790000 of 1000000; TPS: 615.73; ETA: 5.7 minutes\n",
      "Step 800000 of 1000000; TPS: 616.55; ETA: 5.4 minutes\n",
      "Step 810000 of 1000000; TPS: 616.3; ETA: 5.1 minutes\n",
      "Step 820000 of 1000000; TPS: 617.06; ETA: 4.9 minutes\n",
      "Step 830000 of 1000000; TPS: 616.74; ETA: 4.6 minutes\n",
      "Step 840000 of 1000000; TPS: 617.38; ETA: 4.3 minutes\n",
      "Step 850000 of 1000000; TPS: 617.21; ETA: 4.1 minutes\n",
      "Step 860000 of 1000000; TPS: 617.93; ETA: 3.8 minutes\n",
      "Step 870000 of 1000000; TPS: 617.63; ETA: 3.5 minutes\n",
      "Step 880000 of 1000000; TPS: 618.31; ETA: 3.2 minutes\n",
      "Step 890000 of 1000000; TPS: 617.95; ETA: 3.0 minutes\n",
      "Step 900000 of 1000000; TPS: 618.59; ETA: 2.7 minutes\n",
      "Step 910000 of 1000000; TPS: 618.29; ETA: 2.4 minutes\n",
      "Step 920000 of 1000000; TPS: 619.01; ETA: 2.2 minutes\n",
      "Step 930000 of 1000000; TPS: 618.77; ETA: 1.9 minutes\n",
      "Step 940000 of 1000000; TPS: 618.6; ETA: 1.6 minutes\n",
      "Step 950000 of 1000000; TPS: 619.56; ETA: 1.3 minutes\n",
      "Step 960000 of 1000000; TPS: 620.11; ETA: 1.1 minutes\n",
      "Step 970000 of 1000000; TPS: 619.94; ETA: 0.8 minutes\n",
      "Step 980000 of 1000000; TPS: 620.66; ETA: 0.5 minutes\n",
      "Step 990000 of 1000000; TPS: 620.48; ETA: 0.3 minutes\n"
     ]
    },
    {
     "name": "stderr",
     "output_type": "stream",
     "text": [
      "/home/jbieri/miniforge3/envs/p_l/lib/python3.11/site-packages/gmso/core/topology.py:818: DeprecationWarning: Conversion of an array with ndim > 0 to a scalar is deprecated, and will error in future. Ensure you extract a single element from your array before performing this operation. (Deprecated NumPy 1.25.)\n",
      "  all_scales[index][scaling_interaction_idxes[interaction]] = value\n",
      "/home/jbieri/miniforge3/envs/p_l/lib/python3.11/site-packages/gmso/core/topology.py:818: DeprecationWarning: Conversion of an array with ndim > 0 to a scalar is deprecated, and will error in future. Ensure you extract a single element from your array before performing this operation. (Deprecated NumPy 1.25.)\n",
      "  all_scales[index][scaling_interaction_idxes[interaction]] = value\n"
     ]
    },
    {
     "name": "stdout",
     "output_type": "stream",
     "text": [
      "No charged group detected, skipping electrostatics.\n",
      "Initializing simulation state from a gsd.hoomd.Frame.\n",
      "Step 10000 of 1000000; TPS: 336.03; ETA: 49.1 minutes\n",
      "Step 20000 of 1000000; TPS: 387.49; ETA: 42.2 minutes\n",
      "Step 30000 of 1000000; TPS: 400.98; ETA: 40.3 minutes\n",
      "Step 40000 of 1000000; TPS: 416.3; ETA: 38.4 minutes\n",
      "Step 50000 of 1000000; TPS: 426.73; ETA: 37.1 minutes\n",
      "Step 60000 of 1000000; TPS: 433.07; ETA: 36.2 minutes\n",
      "Step 70000 of 1000000; TPS: 431.24; ETA: 35.9 minutes\n",
      "Step 80000 of 1000000; TPS: 434.69; ETA: 35.3 minutes\n",
      "Step 90000 of 1000000; TPS: 436.7; ETA: 34.7 minutes\n",
      "Step 100000 of 1000000; TPS: 437.04; ETA: 34.3 minutes\n",
      "Step 110000 of 1000000; TPS: 434.12; ETA: 34.2 minutes\n",
      "Step 120000 of 1000000; TPS: 435.34; ETA: 33.7 minutes\n",
      "Step 130000 of 1000000; TPS: 437.46; ETA: 33.1 minutes\n",
      "Step 140000 of 1000000; TPS: 438.67; ETA: 32.7 minutes\n",
      "Step 150000 of 1000000; TPS: 436.34; ETA: 32.5 minutes\n",
      "Step 160000 of 1000000; TPS: 436.29; ETA: 32.1 minutes\n",
      "Step 170000 of 1000000; TPS: 436.69; ETA: 31.7 minutes\n",
      "Step 180000 of 1000000; TPS: 437.49; ETA: 31.2 minutes\n",
      "Step 190000 of 1000000; TPS: 436.08; ETA: 31.0 minutes\n",
      "Step 200000 of 1000000; TPS: 436.79; ETA: 30.5 minutes\n",
      "Step 210000 of 1000000; TPS: 436.89; ETA: 30.1 minutes\n",
      "Step 220000 of 1000000; TPS: 436.8; ETA: 29.8 minutes\n",
      "Step 230000 of 1000000; TPS: 435.23; ETA: 29.5 minutes\n",
      "Step 240000 of 1000000; TPS: 435.91; ETA: 29.1 minutes\n",
      "Step 250000 of 1000000; TPS: 437.02; ETA: 28.6 minutes\n",
      "Step 260000 of 1000000; TPS: 438.05; ETA: 28.2 minutes\n",
      "Step 270000 of 1000000; TPS: 437.17; ETA: 27.8 minutes\n",
      "Step 280000 of 1000000; TPS: 437.39; ETA: 27.4 minutes\n",
      "Step 290000 of 1000000; TPS: 437.65; ETA: 27.0 minutes\n",
      "Step 300000 of 1000000; TPS: 437.97; ETA: 26.6 minutes\n",
      "Step 310000 of 1000000; TPS: 437.23; ETA: 26.3 minutes\n",
      "Step 320000 of 1000000; TPS: 437.61; ETA: 25.9 minutes\n",
      "Step 330000 of 1000000; TPS: 437.94; ETA: 25.5 minutes\n",
      "Step 340000 of 1000000; TPS: 438.16; ETA: 25.1 minutes\n",
      "Step 350000 of 1000000; TPS: 437.11; ETA: 24.8 minutes\n",
      "Step 360000 of 1000000; TPS: 437.17; ETA: 24.4 minutes\n",
      "Step 370000 of 1000000; TPS: 437.6; ETA: 24.0 minutes\n",
      "Step 380000 of 1000000; TPS: 437.66; ETA: 23.6 minutes\n",
      "Step 390000 of 1000000; TPS: 436.48; ETA: 23.3 minutes\n",
      "Step 400000 of 1000000; TPS: 436.57; ETA: 22.9 minutes\n",
      "Step 410000 of 1000000; TPS: 436.93; ETA: 22.5 minutes\n",
      "Step 420000 of 1000000; TPS: 437.5; ETA: 22.1 minutes\n",
      "Step 430000 of 1000000; TPS: 437.08; ETA: 21.7 minutes\n",
      "Step 440000 of 1000000; TPS: 437.35; ETA: 21.3 minutes\n",
      "Step 450000 of 1000000; TPS: 437.67; ETA: 20.9 minutes\n",
      "Step 460000 of 1000000; TPS: 437.65; ETA: 20.6 minutes\n",
      "Step 470000 of 1000000; TPS: 437.7; ETA: 20.2 minutes\n",
      "Step 480000 of 1000000; TPS: 436.92; ETA: 19.8 minutes\n",
      "Step 490000 of 1000000; TPS: 437.18; ETA: 19.4 minutes\n",
      "Step 500000 of 1000000; TPS: 437.44; ETA: 19.1 minutes\n",
      "Step 510000 of 1000000; TPS: 437.58; ETA: 18.7 minutes\n",
      "Step 520000 of 1000000; TPS: 436.92; ETA: 18.3 minutes\n",
      "Step 530000 of 1000000; TPS: 437.01; ETA: 17.9 minutes\n",
      "Step 540000 of 1000000; TPS: 437.2; ETA: 17.5 minutes\n",
      "Step 550000 of 1000000; TPS: 437.43; ETA: 17.1 minutes\n",
      "Step 560000 of 1000000; TPS: 436.87; ETA: 16.8 minutes\n",
      "Step 570000 of 1000000; TPS: 437.04; ETA: 16.4 minutes\n",
      "Step 580000 of 1000000; TPS: 437.17; ETA: 16.0 minutes\n",
      "Step 590000 of 1000000; TPS: 437.38; ETA: 15.6 minutes\n",
      "Step 600000 of 1000000; TPS: 436.93; ETA: 15.3 minutes\n",
      "Step 610000 of 1000000; TPS: 437.31; ETA: 14.9 minutes\n",
      "Step 620000 of 1000000; TPS: 437.63; ETA: 14.5 minutes\n",
      "Step 630000 of 1000000; TPS: 437.85; ETA: 14.1 minutes\n",
      "Step 640000 of 1000000; TPS: 437.3; ETA: 13.7 minutes\n",
      "Step 650000 of 1000000; TPS: 437.4; ETA: 13.3 minutes\n",
      "Step 660000 of 1000000; TPS: 437.55; ETA: 13.0 minutes\n",
      "Step 670000 of 1000000; TPS: 437.83; ETA: 12.6 minutes\n",
      "Step 680000 of 1000000; TPS: 437.43; ETA: 12.2 minutes\n",
      "Step 690000 of 1000000; TPS: 437.6; ETA: 11.8 minutes\n",
      "Step 700000 of 1000000; TPS: 437.62; ETA: 11.4 minutes\n",
      "Step 710000 of 1000000; TPS: 437.69; ETA: 11.0 minutes\n",
      "Step 720000 of 1000000; TPS: 437.25; ETA: 10.7 minutes\n",
      "Step 730000 of 1000000; TPS: 437.38; ETA: 10.3 minutes\n",
      "Step 740000 of 1000000; TPS: 437.53; ETA: 9.9 minutes\n",
      "Step 750000 of 1000000; TPS: 437.69; ETA: 9.5 minutes\n",
      "Step 760000 of 1000000; TPS: 437.86; ETA: 9.1 minutes\n",
      "Step 770000 of 1000000; TPS: 437.53; ETA: 8.8 minutes\n",
      "Step 780000 of 1000000; TPS: 437.54; ETA: 8.4 minutes\n",
      "Step 790000 of 1000000; TPS: 437.66; ETA: 8.0 minutes\n",
      "Step 800000 of 1000000; TPS: 437.78; ETA: 7.6 minutes\n",
      "Step 810000 of 1000000; TPS: 437.42; ETA: 7.2 minutes\n",
      "Step 820000 of 1000000; TPS: 437.49; ETA: 6.9 minutes\n",
      "Step 830000 of 1000000; TPS: 437.58; ETA: 6.5 minutes\n",
      "Step 840000 of 1000000; TPS: 437.7; ETA: 6.1 minutes\n",
      "Step 850000 of 1000000; TPS: 437.34; ETA: 5.7 minutes\n",
      "Step 860000 of 1000000; TPS: 437.46; ETA: 5.3 minutes\n",
      "Step 870000 of 1000000; TPS: 437.51; ETA: 5.0 minutes\n",
      "Step 880000 of 1000000; TPS: 437.56; ETA: 4.6 minutes\n",
      "Step 890000 of 1000000; TPS: 437.16; ETA: 4.2 minutes\n",
      "Step 900000 of 1000000; TPS: 437.24; ETA: 3.8 minutes\n",
      "Step 910000 of 1000000; TPS: 437.26; ETA: 3.4 minutes\n",
      "Step 920000 of 1000000; TPS: 437.3; ETA: 3.0 minutes\n",
      "Step 930000 of 1000000; TPS: 437.02; ETA: 2.7 minutes\n",
      "Step 940000 of 1000000; TPS: 437.18; ETA: 2.3 minutes\n",
      "Step 950000 of 1000000; TPS: 437.35; ETA: 1.9 minutes\n",
      "Step 960000 of 1000000; TPS: 437.44; ETA: 1.5 minutes\n",
      "Step 970000 of 1000000; TPS: 437.16; ETA: 1.1 minutes\n",
      "Step 980000 of 1000000; TPS: 437.34; ETA: 0.8 minutes\n",
      "Step 990000 of 1000000; TPS: 437.52; ETA: 0.4 minutes\n"
     ]
    }
   ],
   "source": [
    "pack_seeds = \n",
    "\n",
    "for i in range(len(key_list)):\n",
    "    system_file = mol2_path + \"10_mers/\" + key_list[i] + \"_10mer.mol2\"\n",
    "    ff_filepath = xml_path + key_list[i] + \".xml\"\n",
    "    gsd_path = os.getcwd() + \"/gsd_files/10_mers/\"\n",
    "    num_mers = \"_10mer\" # The number of monomers being simulated is determined by the mol2, this is for naming the resulting gsd and .txt files\n",
    "    espmol = espaloma_mol(system_file)\n",
    "    molecule = Molecule(num_mols=1, compound=espmol)\n",
    "    cpu = hoomd.device.CPU()\n",
    "    \n",
    "    molff = FF_from_file(ff_filepath)\n",
    "    system = Pack(molecules=molecule,density=0.01 * u.g/u.cm**3,packing_expand_factor=5)\n",
    "    system.apply_forcefield(r_cut=2.5, force_field=molff, auto_scale=True,remove_charges=True, remove_hydrogens=True)\n",
    "    system.hoomd_snapshot\n",
    "    hoomd_forces = system.hoomd_forcefield\n",
    "    hoomd_forces\n",
    "    lj_force = hoomd_forces[3]\n",
    "    \n",
    "    sim = Simulation.from_system(system=system, gsd_write_freq=10000, log_write_freq=10000, device=cpu, gsd_file_name=gsd_path+key_list[i]+num_mers+\".gsd\",log_file_name=gsd_path+key_list[i]+num_mers+\".txt\")\n",
    "    sim.run_NVT(n_steps=1e6, kT=5.0, tau_kt=1.0)\n",
    "    sim.flush_writers()"
   ]
  }
 ],
 "metadata": {
  "kernelspec": {
   "display_name": "Python 3 (ipykernel)",
   "language": "python",
   "name": "python3"
  },
  "language_info": {
   "codemirror_mode": {
    "name": "ipython",
    "version": 3
   },
   "file_extension": ".py",
   "mimetype": "text/x-python",
   "name": "python",
   "nbconvert_exporter": "python",
   "pygments_lexer": "ipython3",
   "version": "3.11.13"
  }
 },
 "nbformat": 4,
 "nbformat_minor": 5
}
