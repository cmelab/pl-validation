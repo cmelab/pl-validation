{
 "cells": [
  {
   "cell_type": "markdown",
   "id": "7fac460c-c03b-4e2b-8d31-18056e1b2424",
   "metadata": {},
   "source": [
    "## Simulating melts of polymer chains"
   ]
  },
  {
   "cell_type": "markdown",
   "id": "f41a984c-06a0-4ebd-af1c-31934d7e3799",
   "metadata": {},
   "source": [
    "### Pre-sim setup"
   ]
  },
  {
   "cell_type": "code",
   "execution_count": 1,
   "id": "8db5a845-5f44-4394-8950-e0877ef4e701",
   "metadata": {},
   "outputs": [],
   "source": [
    "import warnings\n",
    "warnings.filterwarnings('ignore')\n",
    "import hoomd\n",
    "import gsd\n",
    "import gsd.hoomd\n",
    "from hoomd.md import nlist\n",
    "\n",
    "import unyt as u\n",
    "import glob\n",
    "import mbuild as mb\n",
    "import matplotlib.pyplot as plt\n",
    "import numpy as np\n",
    "import os\n",
    "\n",
    "import flowermd\n",
    "from flowermd.utils import get_target_box_mass_density\n",
    "from flowermd.base import Simulation, Molecule\n",
    "from flowermd.library import FF_from_file\n",
    "from flowermd.base.system import Pack\n",
    "\n",
    "from polymer_dictionary import polymer_dictionary\n",
    "\n",
    "# Rerun with the original seed first"
   ]
  },
  {
   "cell_type": "code",
   "execution_count": 2,
   "id": "918cdbfe-0c87-4a8d-a6a5-8c46fddaf0d1",
   "metadata": {},
   "outputs": [],
   "source": [
    "# Updates atom names to fit with hoomd conventions\n",
    "def espaloma_mol(file_path):\n",
    "     mol = mb.load(file_path)\n",
    "     for p in mol.particles():\n",
    "           p.name = f\"_{p.name}\"\n",
    "     return mol"
   ]
  },
  {
   "cell_type": "code",
   "execution_count": 3,
   "id": "048d255b-22df-4636-9238-dbe1bf8462f5",
   "metadata": {},
   "outputs": [
    {
     "name": "stdout",
     "output_type": "stream",
     "text": [
      "['PCPDTFBT_C11_BO', 'PCPDTFBT_C1_BO', 'PCPDTFBT_C3_BO', 'PCPDTFBT_C4_BO', 'PCPDTFBT_C5_BO', 'PCPDTPT_HD', 'PCPDTPT_ODD', 'PCPDTPT_eneODD', 'PCPDTPT_nC16', 'PCPDT_PT_eneHD', 'PIDTBT_nC16', 'PIDTCPDT_C11BO', 'PIDTFBT_C11_BO']\n"
     ]
    }
   ],
   "source": [
    "key_list = sorted(list(polymer_dictionary.keys())) # Aligning dictionary and path to aid automation\n",
    "path = os.getcwd() # Non-user specific path\n",
    "molecule_list = sorted(glob.glob(path+\"/mol2/*.mol2\"))\n",
    "molecule_list.pop(10) # Removing polymer not tested\n",
    "print(key_list)"
   ]
  },
  {
   "cell_type": "code",
   "execution_count": 3,
   "id": "f561553c-2a41-479d-827d-1cbf23ddfa06",
   "metadata": {},
   "outputs": [],
   "source": [
    "mol2_path = os.getcwd() + \"/mol2/\"\n",
    "xml_path = os.getcwd() + \"/xml/\""
   ]
  },
  {
   "cell_type": "markdown",
   "id": "b80b7440-ec8f-4a48-80e5-43afe69dcd2a",
   "metadata": {},
   "source": [
    "## Single molecule sim:"
   ]
  },
  {
   "cell_type": "code",
   "execution_count": 14,
   "id": "c1ca1739-19fc-48f1-b6ea-f3c01d5450c6",
   "metadata": {},
   "outputs": [
    {
     "name": "stdout",
     "output_type": "stream",
     "text": [
      "No charged group detected, skipping electrostatics.\n"
     ]
    }
   ],
   "source": [
    "system_file = mol2_path + \"P3HT.mol2\"\n",
    "ff_filepath = xml_path + \"P3HT.xml\"\n",
    "\n",
    "espmol = espaloma_mol(system_file)\n",
    "molecule = Molecule(num_mols=1, compound=espmol)\n",
    "\n",
    "molff = FF_from_file(ff_filepath)\n",
    "system = Pack(molecules=molecule,density=0.01 * u.g/u.cm**3,packing_expand_factor=5)\n",
    "system.apply_forcefield(r_cut=2.5, force_field=molff, auto_scale=True,remove_charges=True, remove_hydrogens=True)"
   ]
  },
  {
   "cell_type": "code",
   "execution_count": 15,
   "id": "93a19aa7-e855-4a1d-839f-2bd11b8c9ff1",
   "metadata": {},
   "outputs": [
    {
     "name": "stdout",
     "output_type": "stream",
     "text": [
      "Initializing simulation state from a gsd.hoomd.Frame.\n"
     ]
    }
   ],
   "source": [
    "system.hoomd_snapshot\n",
    "cpu = hoomd.device.CPU()\n",
    "sim = Simulation.from_system(system=system, gsd_write_freq=5000, log_write_freq=5000, device=cpu, gsd_file_name=\"test.gsd\",log_file_name=\"test.txt\")"
   ]
  },
  {
   "cell_type": "code",
   "execution_count": 16,
   "id": "3eba6fa0-fafb-411f-b5bd-cfa44e4cf644",
   "metadata": {
    "scrolled": true
   },
   "outputs": [
    {
     "name": "stdout",
     "output_type": "stream",
     "text": [
      "Step 5000 of 50000; TPS: 19076.76; ETA: 0.0 minutes\n",
      "Step 10000 of 50000; TPS: 33860.77; ETA: 0.0 minutes\n",
      "Step 15000 of 50000; TPS: 45340.51; ETA: 0.0 minutes\n",
      "Step 20000 of 50000; TPS: 55306.52; ETA: 0.0 minutes\n",
      "Step 25000 of 50000; TPS: 63483.03; ETA: 0.0 minutes\n",
      "Step 30000 of 50000; TPS: 70213.38; ETA: 0.0 minutes\n",
      "Step 35000 of 50000; TPS: 75901.99; ETA: 0.0 minutes\n",
      "Step 40000 of 50000; TPS: 81356.04; ETA: 0.0 minutes\n",
      "Step 45000 of 50000; TPS: 86286.41; ETA: 0.0 minutes\n"
     ]
    }
   ],
   "source": [
    "sim.run_NVT(n_steps=5e4, kT=5.0, tau_kt=0.05)\n",
    "sim.flush_writers()"
   ]
  },
  {
   "cell_type": "code",
   "execution_count": 24,
   "id": "b649dd86-43d1-4632-a603-09c47a976bb6",
   "metadata": {},
   "outputs": [
    {
     "data": {
      "text/plain": [
       "{'energy': unyt_quantity(1.046, 'kJ/mol'),\n",
       " 'length': unyt_quantity(0.35635949, 'nm'),\n",
       " 'mass': unyt_quantity(32.06, 'amu')}"
      ]
     },
     "execution_count": 24,
     "metadata": {},
     "output_type": "execute_result"
    }
   ],
   "source": [
    "sim.reference_values"
   ]
  },
  {
   "cell_type": "code",
   "execution_count": 40,
   "id": "14c856d3-fa54-404a-8033-a804d90f2b81",
   "metadata": {},
   "outputs": [],
   "source": [
    "energy = ((1046/6.022*10**23)*J).to('J')\n",
    "length = (0.35635949*nm).to('m')\n",
    "mass = (32.06*amu).to('kg')"
   ]
  },
  {
   "cell_type": "code",
   "execution_count": 41,
   "id": "26749de2-b693-48d5-8f88-defd582c1aef",
   "metadata": {},
   "outputs": [],
   "source": [
    "tau = np.sqrt((mass*length**2)/energy)"
   ]
  },
  {
   "cell_type": "code",
   "execution_count": 45,
   "id": "1ae5c7cc-2b67-487c-96a1-d5a50d097f24",
   "metadata": {},
   "outputs": [
    {
     "name": "stdout",
     "output_type": "stream",
     "text": [
      "1.9728730976366816e-35 sqrt(kg)*m/sqrt(J)\n"
     ]
    }
   ],
   "source": [
    "print(tau)"
   ]
  },
  {
   "cell_type": "markdown",
   "id": "6db3cd89-7892-46e5-97ee-2f2e6d3c90b6",
   "metadata": {},
   "source": [
    "## Running sims of every polymer in the Danielsen et al. paper"
   ]
  },
  {
   "cell_type": "code",
   "execution_count": 20,
   "id": "57bee8a4-bddd-4953-acde-d57904c5fd50",
   "metadata": {},
   "outputs": [
    {
     "name": "stdout",
     "output_type": "stream",
     "text": [
      "[1800, 1900, 2000]\n"
     ]
    }
   ],
   "source": [
    "pack_seeds = np.linspace(1800, 2000, 3, dtype=int)\n",
    "pack_seeds = pack_seeds.tolist()\n",
    "print(pack_seeds)"
   ]
  },
  {
   "cell_type": "code",
   "execution_count": null,
   "id": "1f6ea0e0-c026-4e8e-ad35-b687c5154544",
   "metadata": {
    "editable": true,
    "scrolled": true,
    "slideshow": {
     "slide_type": ""
    },
    "tags": []
   },
   "outputs": [
    {
     "name": "stdout",
     "output_type": "stream",
     "text": [
      "No charged group detected, skipping electrostatics.\n",
      "Initializing simulation state from a gsd.hoomd.Frame.\n",
      "Step 5000 of 500000; TPS: 556.02; ETA: 14.8 minutes\n",
      "Step 10000 of 500000; TPS: 667.54; ETA: 12.2 minutes\n",
      "Step 15000 of 500000; TPS: 714.2; ETA: 11.3 minutes\n",
      "Step 20000 of 500000; TPS: 728.63; ETA: 11.0 minutes\n",
      "Step 25000 of 500000; TPS: 752.93; ETA: 10.5 minutes\n",
      "Step 30000 of 500000; TPS: 765.83; ETA: 10.2 minutes\n",
      "Step 35000 of 500000; TPS: 737.95; ETA: 10.5 minutes\n",
      "Step 40000 of 500000; TPS: 746.45; ETA: 10.3 minutes\n"
     ]
    }
   ],
   "source": [
    "for pack_seed in pack_seeds:\n",
    "    for i in range(len(key_list)):\n",
    "        system_file = mol2_path + \"10_mers/\" + key_list[i] + \"_10mer.mol2\"\n",
    "        ff_filepath = xml_path + key_list[i] + \".xml\"\n",
    "        gsd_path = os.getcwd() + \"/gsd_files/10_mers/\"+str(pack_seed)+\"/\"\n",
    "        num_mers = \"_10mer\" # The number of monomers being simulated is determined by the mol2, this is for naming the resulting gsd and .txt files\n",
    "        espmol = espaloma_mol(system_file)\n",
    "        molecule = Molecule(num_mols=1, compound=espmol)\n",
    "        cpu = hoomd.device.CPU()\n",
    "        \n",
    "        molff = FF_from_file(ff_filepath)\n",
    "        system = Pack(molecules=molecule,density=0.01 * u.g/u.cm**3,seed=pack_seed, packing_expand_factor=5)\n",
    "        system.apply_forcefield(r_cut=2.5, force_field=molff, auto_scale=True,remove_charges=True, remove_hydrogens=True)\n",
    "        system.hoomd_snapshot\n",
    "        hoomd_forces = system.hoomd_forcefield\n",
    "        hoomd_forces\n",
    "        lj_force = hoomd_forces[3]\n",
    "        sim = Simulation.from_system(system=system, gsd_write_freq=5000, log_write_freq=5000, device=cpu, gsd_file_name=gsd_path+key_list[i]+num_mers+\"_seed_\"+str(pack_seed)+\".gsd\",log_file_name=gsd_path+key_list[i]+num_mers+\"_seed_\"+str(pack_seed)+\".txt\")\n",
    "        sim.run_NVT(n_steps=5e5, kT=5.0, tau_kt=1.0)\n",
    "        sim.flush_writers()"
   ]
  },
  {
   "cell_type": "code",
   "execution_count": null,
   "id": "cabacb0a-ea8a-4262-904c-167070d39b21",
   "metadata": {},
   "outputs": [],
   "source": []
  }
 ],
 "metadata": {
  "kernelspec": {
   "display_name": "Python 3 (ipykernel)",
   "language": "python",
   "name": "python3"
  },
  "language_info": {
   "codemirror_mode": {
    "name": "ipython",
    "version": 3
   },
   "file_extension": ".py",
   "mimetype": "text/x-python",
   "name": "python",
   "nbconvert_exporter": "python",
   "pygments_lexer": "ipython3",
   "version": "3.11.13"
  }
 },
 "nbformat": 4,
 "nbformat_minor": 5
}
