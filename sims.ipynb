{
 "cells": [
  {
   "cell_type": "code",
   "execution_count": 1,
   "id": "f4a75e45-2c95-43e2-8e93-38580856c0f5",
   "metadata": {},
   "outputs": [],
   "source": [
    "import warnings\n",
    "warnings.filterwarnings('ignore')\n",
    "import flowermd\n",
    "import hoomd\n",
    "import gsd\n",
    "import matplotlib.pyplot as plt\n",
    "import numpy as np\n",
    "import gsd.hoomd\n",
    "from flowermd.base import Lattice, Simulation, Molecule\n",
    "from flowermd.library import FF_from_file\n",
    "import unyt as u\n",
    "import hoomd\n",
    "import glob\n",
    "from flowermd.base.system import Pack\n",
    "import mbuild as mb\n",
    "\n",
    "cpu = hoomd.device.CPU()\n",
    "\n",
    "# Rerun with the original seed first"
   ]
  },
  {
   "cell_type": "code",
   "execution_count": 2,
   "id": "2fefcd15-4fc3-4a06-8615-3c3087b5293f",
   "metadata": {},
   "outputs": [],
   "source": [
    "def espaloma_mol(file_path):\n",
    "     mol = mb.load(file_path)\n",
    "     for p in mol.particles():\n",
    "           p.name = f\"_{p.name}\"\n",
    "     return mol"
   ]
  },
  {
   "cell_type": "code",
   "execution_count": 3,
   "id": "f7001434-205a-465f-8701-8bd374fdbbd2",
   "metadata": {},
   "outputs": [],
   "source": [
    "directory = \"/home/jbieri/CME_lab/repos/pl-validation/mol2/polymers/\"\n",
    "poly_ff_list = []\n",
    "polymers_molecule_list = glob.glob(directory+\"*.mol2\")\n",
    "for i in range(len(polymers_molecule_list)):\n",
    "    mol_name = polymers_molecule_list[i][:-12].removeprefix(directory)\n",
    "    poly_ff_list.append((str(polymers_molecule_list[i][:41]) + \"xml/\" + mol_name + \".xml\"))\n",
    "    # molecule_list[i] = espaloma_mol(molecule_list[i])"
   ]
  },
  {
   "cell_type": "code",
   "execution_count": 4,
   "id": "edb76516-2b4e-4f46-8f30-00330af9e755",
   "metadata": {},
   "outputs": [],
   "source": [
    "directory = \"/home/jbieri/CME_lab/repos/pl-validation/mol2/\"\n",
    "ff_list = []\n",
    "molecule_list = glob.glob(directory+\"*.mol2\")\n",
    "for i in range(len(molecule_list)):\n",
    "    mol_name = molecule_list[i][:-5].removeprefix(directory)\n",
    "    ff_list.append((str(molecule_list[i][:41]) + \"xml/\" + mol_name + \".xml\"))\n",
    "    molecule_list[i] = espaloma_mol(molecule_list[i])"
   ]
  },
  {
   "cell_type": "code",
   "execution_count": 9,
   "id": "3997b593-57b9-4ae1-9fd3-2753daa2dc11",
   "metadata": {},
   "outputs": [
    {
     "name": "stdout",
     "output_type": "stream",
     "text": [
      "/home/jbieri/CME_lab/repos/pl-validation/mol2/PIDTCPDT_C11BO.mol2 /home/jbieri/CME_lab/repos/pl-validation/xml/PIDTCPDT_C11BO.xml\n"
     ]
    }
   ],
   "source": [
    "print(molecule_list[10], ff_list[10])\n",
    "print(polymers_molecule_list[0], poly_ff_list[0])"
   ]
  },
  {
   "cell_type": "code",
   "execution_count": 5,
   "id": "3d19ca82-fbfb-4e82-a9f8-c46dbcd47531",
   "metadata": {},
   "outputs": [
    {
     "ename": "RuntimeError",
     "evalue": "PACKMOL failed. See 'log.txt'",
     "output_type": "error",
     "traceback": [
      "\u001b[0;31m---------------------------------------------------------------------------\u001b[0m",
      "\u001b[0;31mRuntimeError\u001b[0m                              Traceback (most recent call last)",
      "Cell \u001b[0;32mIn[5], line 8\u001b[0m\n\u001b[1;32m      5\u001b[0m molecule \u001b[38;5;241m=\u001b[39m Molecule(num_mols\u001b[38;5;241m=\u001b[39m\u001b[38;5;241m1\u001b[39m, compound\u001b[38;5;241m=\u001b[39mespmol)\n\u001b[1;32m      7\u001b[0m molff \u001b[38;5;241m=\u001b[39m FF_from_file(ff_filepath)\n\u001b[0;32m----> 8\u001b[0m system \u001b[38;5;241m=\u001b[39m \u001b[43mPack\u001b[49m\u001b[43m(\u001b[49m\u001b[43mmolecules\u001b[49m\u001b[38;5;241;43m=\u001b[39;49m\u001b[43mmolecule\u001b[49m\u001b[43m,\u001b[49m\u001b[43mdensity\u001b[49m\u001b[38;5;241;43m=\u001b[39;49m\u001b[38;5;241;43m0.3\u001b[39;49m\u001b[43m \u001b[49m\u001b[38;5;241;43m*\u001b[39;49m\u001b[43m \u001b[49m\u001b[43mu\u001b[49m\u001b[38;5;241;43m.\u001b[39;49m\u001b[43mg\u001b[49m\u001b[38;5;241;43m/\u001b[39;49m\u001b[43mu\u001b[49m\u001b[38;5;241;43m.\u001b[39;49m\u001b[43mcm\u001b[49m\u001b[38;5;241;43m*\u001b[39;49m\u001b[38;5;241;43m*\u001b[39;49m\u001b[38;5;241;43m3\u001b[39;49m\u001b[43m,\u001b[49m\u001b[43mpacking_expand_factor\u001b[49m\u001b[38;5;241;43m=\u001b[39;49m\u001b[38;5;241;43m7\u001b[39;49m\u001b[43m)\u001b[49m\n\u001b[1;32m      9\u001b[0m system\u001b[38;5;241m.\u001b[39mapply_forcefield(r_cut\u001b[38;5;241m=\u001b[39m\u001b[38;5;241m2.5\u001b[39m, force_field\u001b[38;5;241m=\u001b[39mmolff, auto_scale\u001b[38;5;241m=\u001b[39m\u001b[38;5;28;01mTrue\u001b[39;00m,remove_charges\u001b[38;5;241m=\u001b[39m\u001b[38;5;28;01mTrue\u001b[39;00m, remove_hydrogens\u001b[38;5;241m=\u001b[39m\u001b[38;5;28;01mTrue\u001b[39;00m)\n",
      "File \u001b[0;32m~/miniforge3/envs/flowerMD/lib/python3.11/site-packages/flowermd/base/system.py:672\u001b[0m, in \u001b[0;36mPack.__init__\u001b[0;34m(self, molecules, density, base_units, packing_expand_factor, edge, overlap, fix_orientation)\u001b[0m\n\u001b[1;32m    670\u001b[0m \u001b[38;5;28mself\u001b[39m\u001b[38;5;241m.\u001b[39moverlap \u001b[38;5;241m=\u001b[39m overlap\n\u001b[1;32m    671\u001b[0m \u001b[38;5;28mself\u001b[39m\u001b[38;5;241m.\u001b[39mfix_orientation \u001b[38;5;241m=\u001b[39m fix_orientation\n\u001b[0;32m--> 672\u001b[0m \u001b[38;5;28;43msuper\u001b[39;49m\u001b[43m(\u001b[49m\u001b[43mPack\u001b[49m\u001b[43m,\u001b[49m\u001b[43m \u001b[49m\u001b[38;5;28;43mself\u001b[39;49m\u001b[43m)\u001b[49m\u001b[38;5;241;43m.\u001b[39;49m\u001b[38;5;21;43m__init__\u001b[39;49m\u001b[43m(\u001b[49m\u001b[43mmolecules\u001b[49m\u001b[38;5;241;43m=\u001b[39;49m\u001b[43mmolecules\u001b[49m\u001b[43m,\u001b[49m\u001b[43m \u001b[49m\u001b[43mbase_units\u001b[49m\u001b[38;5;241;43m=\u001b[39;49m\u001b[43mbase_units\u001b[49m\u001b[43m)\u001b[49m\n",
      "File \u001b[0;32m~/miniforge3/envs/flowerMD/lib/python3.11/site-packages/flowermd/base/system.py:126\u001b[0m, in \u001b[0;36mSystem.__init__\u001b[0;34m(self, molecules, base_units)\u001b[0m\n\u001b[1;32m    123\u001b[0m         \u001b[38;5;28mself\u001b[39m\u001b[38;5;241m.\u001b[39mn_mol_types \u001b[38;5;241m+\u001b[39m\u001b[38;5;241m=\u001b[39m \u001b[38;5;241m1\u001b[39m\n\u001b[1;32m    125\u001b[0m \u001b[38;5;66;03m# Create mBuild system\u001b[39;00m\n\u001b[0;32m--> 126\u001b[0m \u001b[38;5;28mself\u001b[39m\u001b[38;5;241m.\u001b[39msystem \u001b[38;5;241m=\u001b[39m \u001b[38;5;28;43mself\u001b[39;49m\u001b[38;5;241;43m.\u001b[39;49m\u001b[43m_build_system\u001b[49m\u001b[43m(\u001b[49m\u001b[43m)\u001b[49m\n\u001b[1;32m    127\u001b[0m \u001b[38;5;66;03m# Create GMSO topology\u001b[39;00m\n\u001b[1;32m    128\u001b[0m \u001b[38;5;28mself\u001b[39m\u001b[38;5;241m.\u001b[39mgmso_system \u001b[38;5;241m=\u001b[39m \u001b[38;5;28mself\u001b[39m\u001b[38;5;241m.\u001b[39m_convert_to_gmso()\n",
      "File \u001b[0;32m~/miniforge3/envs/flowerMD/lib/python3.11/site-packages/flowermd/base/system.py:693\u001b[0m, in \u001b[0;36mPack._build_system\u001b[0;34m(self)\u001b[0m\n\u001b[1;32m    685\u001b[0m \u001b[38;5;28;01melse\u001b[39;00m:\n\u001b[1;32m    686\u001b[0m     \u001b[38;5;28;01mraise\u001b[39;00m \u001b[38;5;167;01mValueError\u001b[39;00m(\n\u001b[1;32m    687\u001b[0m         \u001b[38;5;124mf\u001b[39m\u001b[38;5;124m\"\u001b[39m\u001b[38;5;124mDensity dimensions of \u001b[39m\u001b[38;5;132;01m{\u001b[39;00m\u001b[38;5;28mself\u001b[39m\u001b[38;5;241m.\u001b[39mdensity\u001b[38;5;241m.\u001b[39munits\u001b[38;5;241m.\u001b[39mdimensions\u001b[38;5;132;01m}\u001b[39;00m\u001b[38;5;124m \u001b[39m\u001b[38;5;124m\"\u001b[39m\n\u001b[1;32m    688\u001b[0m         \u001b[38;5;124m\"\u001b[39m\u001b[38;5;124mwere given, but only mass density \u001b[39m\u001b[38;5;124m\"\u001b[39m\n\u001b[1;32m    689\u001b[0m         \u001b[38;5;124mf\u001b[39m\u001b[38;5;124m\"\u001b[39m\u001b[38;5;124m(\u001b[39m\u001b[38;5;132;01m{\u001b[39;00mmass_density\u001b[38;5;241m.\u001b[39mdimensions\u001b[38;5;132;01m}\u001b[39;00m\u001b[38;5;124m) and \u001b[39m\u001b[38;5;124m\"\u001b[39m\n\u001b[1;32m    690\u001b[0m         \u001b[38;5;124mf\u001b[39m\u001b[38;5;124m\"\u001b[39m\u001b[38;5;124mnumber density (\u001b[39m\u001b[38;5;132;01m{\u001b[39;00mnumber_density\u001b[38;5;241m.\u001b[39mdimensions\u001b[38;5;132;01m}\u001b[39;00m\u001b[38;5;124m) are supported.\u001b[39m\u001b[38;5;124m\"\u001b[39m\n\u001b[1;32m    691\u001b[0m     )\n\u001b[0;32m--> 693\u001b[0m system \u001b[38;5;241m=\u001b[39m \u001b[43mmb\u001b[49m\u001b[38;5;241;43m.\u001b[39;49m\u001b[43mpacking\u001b[49m\u001b[38;5;241;43m.\u001b[39;49m\u001b[43mfill_box\u001b[49m\u001b[43m(\u001b[49m\n\u001b[1;32m    694\u001b[0m \u001b[43m    \u001b[49m\u001b[43mcompound\u001b[49m\u001b[38;5;241;43m=\u001b[39;49m\u001b[38;5;28;43mself\u001b[39;49m\u001b[38;5;241;43m.\u001b[39;49m\u001b[43mall_molecules\u001b[49m\u001b[43m,\u001b[49m\n\u001b[1;32m    695\u001b[0m \u001b[43m    \u001b[49m\u001b[43mn_compounds\u001b[49m\u001b[38;5;241;43m=\u001b[39;49m\u001b[43m[\u001b[49m\u001b[38;5;241;43m1\u001b[39;49m\u001b[43m \u001b[49m\u001b[38;5;28;43;01mfor\u001b[39;49;00m\u001b[43m \u001b[49m\u001b[43mi\u001b[49m\u001b[43m \u001b[49m\u001b[38;5;129;43;01min\u001b[39;49;00m\u001b[43m \u001b[49m\u001b[38;5;28;43mself\u001b[39;49m\u001b[38;5;241;43m.\u001b[39;49m\u001b[43mall_molecules\u001b[49m\u001b[43m]\u001b[49m\u001b[43m,\u001b[49m\n\u001b[1;32m    696\u001b[0m \u001b[43m    \u001b[49m\u001b[43mbox\u001b[49m\u001b[38;5;241;43m=\u001b[39;49m\u001b[38;5;28;43mlist\u001b[39;49m\u001b[43m(\u001b[49m\u001b[43mtarget_box\u001b[49m\u001b[43m \u001b[49m\u001b[38;5;241;43m*\u001b[39;49m\u001b[43m \u001b[49m\u001b[38;5;28;43mself\u001b[39;49m\u001b[38;5;241;43m.\u001b[39;49m\u001b[43mpacking_expand_factor\u001b[49m\u001b[43m)\u001b[49m\u001b[43m,\u001b[49m\n\u001b[1;32m    697\u001b[0m \u001b[43m    \u001b[49m\u001b[43moverlap\u001b[49m\u001b[38;5;241;43m=\u001b[39;49m\u001b[38;5;28;43mself\u001b[39;49m\u001b[38;5;241;43m.\u001b[39;49m\u001b[43moverlap\u001b[49m\u001b[43m,\u001b[49m\n\u001b[1;32m    698\u001b[0m \u001b[43m    \u001b[49m\u001b[43medge\u001b[49m\u001b[38;5;241;43m=\u001b[39;49m\u001b[38;5;28;43mself\u001b[39;49m\u001b[38;5;241;43m.\u001b[39;49m\u001b[43medge\u001b[49m\u001b[43m,\u001b[49m\n\u001b[1;32m    699\u001b[0m \u001b[43m    \u001b[49m\u001b[43mfix_orientation\u001b[49m\u001b[38;5;241;43m=\u001b[39;49m\u001b[38;5;28;43mself\u001b[39;49m\u001b[38;5;241;43m.\u001b[39;49m\u001b[43mfix_orientation\u001b[49m\u001b[43m,\u001b[49m\n\u001b[1;32m    700\u001b[0m \u001b[43m\u001b[49m\u001b[43m)\u001b[49m\n\u001b[1;32m    701\u001b[0m \u001b[38;5;28;01mreturn\u001b[39;00m system\n",
      "File \u001b[0;32m~/miniforge3/envs/flowerMD/lib/python3.11/site-packages/mbuild/packing.py:345\u001b[0m, in \u001b[0;36mfill_box\u001b[0;34m(compound, n_compounds, box, density, overlap, seed, sidemax, edge, compound_ratio, aspect_ratio, fix_orientation, temp_file, update_port_locations, packmol_args)\u001b[0m\n\u001b[1;32m    333\u001b[0m     comp\u001b[38;5;241m.\u001b[39msave(compound_xyz\u001b[38;5;241m.\u001b[39mname, overwrite\u001b[38;5;241m=\u001b[39m\u001b[38;5;28;01mTrue\u001b[39;00m)\n\u001b[1;32m    334\u001b[0m     input_text \u001b[38;5;241m+\u001b[39m\u001b[38;5;241m=\u001b[39m PACKMOL_BOX\u001b[38;5;241m.\u001b[39mformat(\n\u001b[1;32m    335\u001b[0m         compound_xyz\u001b[38;5;241m.\u001b[39mname,\n\u001b[1;32m    336\u001b[0m         m_compounds,\n\u001b[0;32m   (...)\u001b[0m\n\u001b[1;32m    343\u001b[0m         PACKMOL_CONSTRAIN \u001b[38;5;28;01mif\u001b[39;00m rotate \u001b[38;5;28;01melse\u001b[39;00m \u001b[38;5;124m\"\u001b[39m\u001b[38;5;124m\"\u001b[39m,\n\u001b[1;32m    344\u001b[0m     )\n\u001b[0;32m--> 345\u001b[0m \u001b[43m_run_packmol\u001b[49m\u001b[43m(\u001b[49m\u001b[43minput_text\u001b[49m\u001b[43m,\u001b[49m\u001b[43m \u001b[49m\u001b[43mfilled_xyz\u001b[49m\u001b[43m,\u001b[49m\u001b[43m \u001b[49m\u001b[43mtemp_file\u001b[49m\u001b[43m)\u001b[49m\n\u001b[1;32m    346\u001b[0m \u001b[38;5;66;03m# Create the topology and update the coordinates.\u001b[39;00m\n\u001b[1;32m    347\u001b[0m filled \u001b[38;5;241m=\u001b[39m Compound()\n",
      "File \u001b[0;32m~/miniforge3/envs/flowerMD/lib/python3.11/site-packages/mbuild/packing.py:1154\u001b[0m, in \u001b[0;36m_run_packmol\u001b[0;34m(input_text, filled_xyz, temp_file)\u001b[0m\n\u001b[1;32m   1151\u001b[0m     os\u001b[38;5;241m.\u001b[39msystem(\u001b[38;5;124mf\u001b[39m\u001b[38;5;124m\"\u001b[39m\u001b[38;5;124mcp \u001b[39m\u001b[38;5;132;01m{\u001b[39;00mfilled_xyz\u001b[38;5;241m.\u001b[39mname\u001b[38;5;132;01m}\u001b[39;00m\u001b[38;5;124m_FORCED \u001b[39m\u001b[38;5;132;01m{\u001b[39;00mfilled_xyz\u001b[38;5;241m.\u001b[39mname\u001b[38;5;132;01m}\u001b[39;00m\u001b[38;5;124m\"\u001b[39m)\n\u001b[1;32m   1153\u001b[0m \u001b[38;5;28;01mif\u001b[39;00m \u001b[38;5;124m\"\u001b[39m\u001b[38;5;124mERROR\u001b[39m\u001b[38;5;124m\"\u001b[39m \u001b[38;5;129;01min\u001b[39;00m out \u001b[38;5;129;01mor\u001b[39;00m proc\u001b[38;5;241m.\u001b[39mreturncode \u001b[38;5;241m!=\u001b[39m \u001b[38;5;241m0\u001b[39m:\n\u001b[0;32m-> 1154\u001b[0m     \u001b[43m_packmol_error\u001b[49m\u001b[43m(\u001b[49m\u001b[43mout\u001b[49m\u001b[43m,\u001b[49m\u001b[43m \u001b[49m\u001b[43merr\u001b[49m\u001b[43m)\u001b[49m\n\u001b[1;32m   1155\u001b[0m \u001b[38;5;28;01melse\u001b[39;00m:\n\u001b[1;32m   1156\u001b[0m     \u001b[38;5;66;03m# Delete input file if success\u001b[39;00m\n\u001b[1;32m   1157\u001b[0m     os\u001b[38;5;241m.\u001b[39mremove(packmol_inp\u001b[38;5;241m.\u001b[39mname)\n",
      "File \u001b[0;32m~/miniforge3/envs/flowerMD/lib/python3.11/site-packages/mbuild/packing.py:1114\u001b[0m, in \u001b[0;36m_packmol_error\u001b[0;34m(out, err)\u001b[0m\n\u001b[1;32m   1112\u001b[0m \u001b[38;5;28;01mwith\u001b[39;00m \u001b[38;5;28mopen\u001b[39m(\u001b[38;5;124m\"\u001b[39m\u001b[38;5;124mlog.txt\u001b[39m\u001b[38;5;124m\"\u001b[39m, \u001b[38;5;124m\"\u001b[39m\u001b[38;5;124mw\u001b[39m\u001b[38;5;124m\"\u001b[39m) \u001b[38;5;28;01mas\u001b[39;00m log_file:\n\u001b[1;32m   1113\u001b[0m     log_file\u001b[38;5;241m.\u001b[39mwrite(out)\n\u001b[0;32m-> 1114\u001b[0m \u001b[38;5;28;01mraise\u001b[39;00m \u001b[38;5;167;01mRuntimeError\u001b[39;00m(\u001b[38;5;124m\"\u001b[39m\u001b[38;5;124mPACKMOL failed. See \u001b[39m\u001b[38;5;124m'\u001b[39m\u001b[38;5;124mlog.txt\u001b[39m\u001b[38;5;124m'\u001b[39m\u001b[38;5;124m\"\u001b[39m)\n",
      "\u001b[0;31mRuntimeError\u001b[0m: PACKMOL failed. See 'log.txt'"
     ]
    }
   ],
   "source": [
    "system_file = '/home/jbieri/CME_lab/repos/pl-validation/mol2/polymers/PCPDTFBT_C1_BO_250mer.mol2'\n",
    "ff_filepath = '/home/jbieri/CME_lab/repos/pl-validation/xml/PCPDTFBT_C1_BO.xml'\n",
    "\n",
    "espmol = espaloma_mol(system_file)\n",
    "molecule = Molecule(num_mols=1, compound=espmol)\n",
    "\n",
    "molff = FF_from_file(ff_filepath)\n",
    "system = Pack(molecules=molecule,density=0.3 * u.g/u.cm**3,packing_expand_factor=7)\n",
    "system.apply_forcefield(r_cut=2.5, force_field=molff, auto_scale=True,remove_charges=True, remove_hydrogens=True)"
   ]
  },
  {
   "cell_type": "code",
   "execution_count": 15,
   "id": "0eccb19f-1840-45f8-879e-90226667aea0",
   "metadata": {},
   "outputs": [
    {
     "name": "stdout",
     "output_type": "stream",
     "text": [
      "No charged group detected, skipping electrostatics.\n"
     ]
    }
   ],
   "source": [
    "system_file = '/mnt/d/Job/SIC/Polypropylene/pp.mol2'\n",
    "ff_filepath = '/mnt/d/Job/SIC/Polypropylene/pp.xml'\n",
    "\n",
    "espmol = espaloma_mol(system_file)\n",
    "molecule = Molecule(num_mols=1, compound=espmol)\n",
    "\n",
    "molff = FF_from_file(ff_filepath)\n",
    "# system = Lattice(molecules=molecule, x = 5, y = 5, n = 4)\n",
    "system = Pack(molecules=molecule,density=0.9 * u.g/u.cm**3)\n",
    "system.apply_forcefield(r_cut=2.5, force_field=molff, auto_scale=True,remove_charges=True, remove_hydrogens=True)"
   ]
  },
  {
   "cell_type": "code",
   "execution_count": 9,
   "id": "7ce34fa1-8c0c-43b8-b8a8-06011885f8db",
   "metadata": {},
   "outputs": [
    {
     "ename": "MoleculeLoadError",
     "evalue": "Unable to load the molecule from file <Compound 123 particles, 127 bonds, non-periodic, id: 139988504971024>.",
     "output_type": "error",
     "traceback": [
      "\u001b[0;31m---------------------------------------------------------------------------\u001b[0m",
      "\u001b[0;31mMoleculeLoadError\u001b[0m                         Traceback (most recent call last)",
      "Cell \u001b[0;32mIn[9], line 4\u001b[0m\n\u001b[1;32m      2\u001b[0m \u001b[38;5;28;01mfor\u001b[39;00m temp \u001b[38;5;129;01min\u001b[39;00m \u001b[38;5;28mrange\u001b[39m(\u001b[38;5;28mlen\u001b[39m(temps)):\n\u001b[1;32m      3\u001b[0m     \u001b[38;5;28;01mfor\u001b[39;00m i \u001b[38;5;129;01min\u001b[39;00m \u001b[38;5;28mrange\u001b[39m(\u001b[38;5;28mlen\u001b[39m(molecule_list)):\n\u001b[0;32m----> 4\u001b[0m         molecule \u001b[38;5;241m=\u001b[39m (\u001b[43mMolecule\u001b[49m\u001b[43m(\u001b[49m\u001b[43mnum_mols\u001b[49m\u001b[38;5;241;43m=\u001b[39;49m\u001b[38;5;241;43m1\u001b[39;49m\u001b[43m,\u001b[49m\u001b[43m \u001b[49m\u001b[43mfile\u001b[49m\u001b[38;5;241;43m=\u001b[39;49m\u001b[43mmolecule_list\u001b[49m\u001b[43m[\u001b[49m\u001b[43mi\u001b[49m\u001b[43m]\u001b[49m\u001b[43m)\u001b[49m)\n\u001b[1;32m      5\u001b[0m         ff \u001b[38;5;241m=\u001b[39m FF_from_file(forcefield_files\u001b[38;5;241m=\u001b[39mff_list[i])\n\u001b[1;32m      6\u001b[0m         system \u001b[38;5;241m=\u001b[39m Lattice(molecules\u001b[38;5;241m=\u001b[39mmolecule, x \u001b[38;5;241m=\u001b[39m \u001b[38;5;241m5\u001b[39m, y \u001b[38;5;241m=\u001b[39m \u001b[38;5;241m5\u001b[39m, n \u001b[38;5;241m=\u001b[39m \u001b[38;5;241m4\u001b[39m)\n",
      "File \u001b[0;32m~/miniforge3/envs/flowerMD/lib/python3.11/site-packages/flowermd/base/molecule.py:66\u001b[0m, in \u001b[0;36mMolecule.__init__\u001b[0;34m(self, num_mols, force_field, smiles, file, compound)\u001b[0m\n\u001b[1;32m     64\u001b[0m \u001b[38;5;28mself\u001b[39m\u001b[38;5;241m.\u001b[39mcompound \u001b[38;5;241m=\u001b[39m compound\n\u001b[1;32m     65\u001b[0m \u001b[38;5;28mself\u001b[39m\u001b[38;5;241m.\u001b[39m_mapping \u001b[38;5;241m=\u001b[39m \u001b[38;5;28;01mNone\u001b[39;00m\n\u001b[0;32m---> 66\u001b[0m \u001b[38;5;28mself\u001b[39m\u001b[38;5;241m.\u001b[39m_mb_molecule \u001b[38;5;241m=\u001b[39m \u001b[38;5;28;43mself\u001b[39;49m\u001b[38;5;241;43m.\u001b[39;49m\u001b[43m_load\u001b[49m\u001b[43m(\u001b[49m\u001b[43m)\u001b[49m\n\u001b[1;32m     67\u001b[0m \u001b[38;5;28mself\u001b[39m\u001b[38;5;241m.\u001b[39m_molecules \u001b[38;5;241m=\u001b[39m []\n\u001b[1;32m     68\u001b[0m \u001b[38;5;28mself\u001b[39m\u001b[38;5;241m.\u001b[39m_cg_molecules \u001b[38;5;241m=\u001b[39m []\n",
      "File \u001b[0;32m~/miniforge3/envs/flowerMD/lib/python3.11/site-packages/flowermd/base/molecule.py:198\u001b[0m, in \u001b[0;36mMolecule._load\u001b[0;34m(self)\u001b[0m\n\u001b[1;32m    196\u001b[0m         \u001b[38;5;28;01mreturn\u001b[39;00m mb\u001b[38;5;241m.\u001b[39mload(\u001b[38;5;28mself\u001b[39m\u001b[38;5;241m.\u001b[39mfile)\n\u001b[1;32m    197\u001b[0m     \u001b[38;5;28;01melse\u001b[39;00m:\n\u001b[0;32m--> 198\u001b[0m         \u001b[38;5;28;01mraise\u001b[39;00m MoleculeLoadError(\n\u001b[1;32m    199\u001b[0m             msg\u001b[38;5;241m=\u001b[39m\u001b[38;5;124mf\u001b[39m\u001b[38;5;124m\"\u001b[39m\u001b[38;5;124mUnable to load the molecule from file \u001b[39m\u001b[38;5;132;01m{\u001b[39;00m\u001b[38;5;28mself\u001b[39m\u001b[38;5;241m.\u001b[39mfile\u001b[38;5;132;01m}\u001b[39;00m\u001b[38;5;124m.\u001b[39m\u001b[38;5;124m\"\u001b[39m\n\u001b[1;32m    200\u001b[0m         )\n\u001b[1;32m    202\u001b[0m \u001b[38;5;28;01mif\u001b[39;00m \u001b[38;5;28mself\u001b[39m\u001b[38;5;241m.\u001b[39msmiles:\n\u001b[1;32m    203\u001b[0m     \u001b[38;5;28;01mif\u001b[39;00m \u001b[38;5;28misinstance\u001b[39m(\u001b[38;5;28mself\u001b[39m\u001b[38;5;241m.\u001b[39msmiles, \u001b[38;5;28mstr\u001b[39m):\n",
      "\u001b[0;31mMoleculeLoadError\u001b[0m: Unable to load the molecule from file <Compound 123 particles, 127 bonds, non-periodic, id: 139988504971024>."
     ]
    }
   ],
   "source": [
    "temps = [252, 503, 1006]\n",
    "for temp in range(len(temps)):\n",
    "    for i in range(len(molecule_list)):\n",
    "        molecule = (Molecule(num_mols=1, file=molecule_list[i]))\n",
    "        ff = FF_from_file(forcefield_files=ff_list[i])\n",
    "        system = Lattice(molecules=molecule, x = 5, y = 5, n = 4)\n",
    "        system.apply_forcefield(r_cut=2.5, force_field=ff, auto_scale=True,remove_charges=True, remove_hydrogens=True)"
   ]
  }
 ],
 "metadata": {
  "kernelspec": {
   "display_name": "Python 3 (ipykernel)",
   "language": "python",
   "name": "python3"
  },
  "language_info": {
   "codemirror_mode": {
    "name": "ipython",
    "version": 3
   },
   "file_extension": ".py",
   "mimetype": "text/x-python",
   "name": "python",
   "nbconvert_exporter": "python",
   "pygments_lexer": "ipython3",
   "version": "3.11.0"
  }
 },
 "nbformat": 4,
 "nbformat_minor": 5
}
