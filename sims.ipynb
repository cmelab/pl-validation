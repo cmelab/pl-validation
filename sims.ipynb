{
 "cells": [
  {
   "cell_type": "code",
   "execution_count": 1,
   "id": "f4a75e45-2c95-43e2-8e93-38580856c0f5",
   "metadata": {},
   "outputs": [],
   "source": [
    "import warnings\n",
    "warnings.filterwarnings('ignore')\n",
    "import flowermd\n",
    "import hoomd\n",
    "import gsd\n",
    "import matplotlib.pyplot as plt\n",
    "import numpy as np\n",
    "import gsd.hoomd\n",
    "from flowermd.base import Lattice, Simulation, Molecule\n",
    "from flowermd.library import FF_from_file\n",
    "import unyt as u\n",
    "import hoomd\n",
    "import glob\n",
    "from flowermd.base.system import Pack\n",
    "import mbuild as mb\n",
    "\n",
    "cpu = hoomd.device.CPU()\n",
    "\n",
    "# Rerun with the original seed first"
   ]
  },
  {
   "cell_type": "code",
   "execution_count": 2,
   "id": "2fefcd15-4fc3-4a06-8615-3c3087b5293f",
   "metadata": {},
   "outputs": [],
   "source": [
    "def espaloma_mol(file_path):\n",
    "     mol = mb.load(file_path)\n",
    "     for p in mol.particles():\n",
    "           p.name = f\"_{p.name}\"\n",
    "     return mol"
   ]
  },
  {
   "cell_type": "code",
   "execution_count": 3,
   "id": "f7001434-205a-465f-8701-8bd374fdbbd2",
   "metadata": {},
   "outputs": [],
   "source": [
    "directory = \"/home/jbieri/CME_lab/repos/pl-validation/mol2/polymers/\"\n",
    "poly_ff_list = []\n",
    "polymers_molecule_list = glob.glob(directory+\"*.mol2\")\n",
    "for i in range(len(polymers_molecule_list)):\n",
    "    mol_name = polymers_molecule_list[i][:-12].removeprefix(directory)\n",
    "    poly_ff_list.append((str(polymers_molecule_list[i][:41]) + \"xml/\" + mol_name + \".xml\"))\n",
    "    # molecule_list[i] = espaloma_mol(molecule_list[i])"
   ]
  },
  {
   "cell_type": "code",
   "execution_count": 11,
   "id": "edb76516-2b4e-4f46-8f30-00330af9e755",
   "metadata": {},
   "outputs": [],
   "source": [
    "directory = \"/home/jbieri/CME_lab/repos/pl-validation/mol2/\"\n",
    "ff_list = []\n",
    "molecule_list = glob.glob(directory+\"*.mol2\")\n",
    "for i in range(len(molecule_list)):\n",
    "    mol_name = molecule_list[i][:-5].removeprefix(directory)\n",
    "    ff_list.append((str(molecule_list[i][:41]) + \"xml/\" + mol_name + \".xml\"))\n",
    "    molecule_list[i] = espaloma_mol(molecule_list[i])"
   ]
  },
  {
   "cell_type": "code",
   "execution_count": 14,
   "id": "3997b593-57b9-4ae1-9fd3-2753daa2dc11",
   "metadata": {},
   "outputs": [
    {
     "name": "stdout",
     "output_type": "stream",
     "text": [
      "<Compound 123 particles, 127 bonds, non-periodic, id: 139659780342096> /home/jbieri/CME_lab/repos/pl-validation/xml/PCPDTPT_nC16.xml\n",
      "/home/jbieri/CME_lab/repos/pl-validation/mol2/polymers/PCPDTFBT_C1_BO_250mer.mol2 /home/jbieri/CME_lab/repos/pl-validation/xml/PCPDTFBT_C1_BO.xml\n"
     ]
    }
   ],
   "source": [
    "print(molecule_list[0], ff_list[0])\n",
    "print(polymers_molecule_list[0], poly_ff_list[0])"
   ]
  },
  {
   "cell_type": "code",
   "execution_count": 10,
   "id": "d056a5d5-f7b9-4220-9635-ebcbb6d3d51a",
   "metadata": {},
   "outputs": [],
   "source": [
    "espmol = espaloma_mol('/home/jbieri/CME_lab/repos/pl-validation/mol2/polymers/PCPDTFBT_C1_BO_250mer.mol2')"
   ]
  },
  {
   "cell_type": "code",
   "execution_count": 6,
   "id": "a7d15eb8-d01c-4598-a652-25dce925e41f",
   "metadata": {},
   "outputs": [
    {
     "name": "stdout",
     "output_type": "stream",
     "text": [
      "No charged group detected, skipping electrostatics.\n"
     ]
    }
   ],
   "source": [
    "system_file = '/home/jbieri/CME_lab/repos/pl-validation/mol2/PCPDTFBT_C1_BO.mol2'\n",
    "ff_filepath = '/home/jbieri/CME_lab/repos/pl-validation/xml/PCPDTFBT_C1_BO.xml'\n",
    "\n",
    "espmol = espaloma_mol(system_file)\n",
    "molecule = Molecule(num_mols=1, compound=espmol)\n",
    "\n",
    "molff = FF_from_file(ff_filepath)\n",
    "system = Pack(molecules=molecule,density=0.0001 * u.g/u.cm**3,packing_expand_factor=5)\n",
    "system.apply_forcefield(r_cut=2.5, force_field=molff, auto_scale=True,remove_charges=True, remove_hydrogens=True)"
   ]
  },
  {
   "cell_type": "code",
   "execution_count": 15,
   "id": "0eccb19f-1840-45f8-879e-90226667aea0",
   "metadata": {},
   "outputs": [
    {
     "name": "stdout",
     "output_type": "stream",
     "text": [
      "No charged group detected, skipping electrostatics.\n"
     ]
    }
   ],
   "source": [
    "system_file = '/mnt/d/Job/SIC/Polypropylene/pp.mol2'\n",
    "ff_filepath = '/mnt/d/Job/SIC/Polypropylene/pp.xml'\n",
    "\n",
    "espmol = espaloma_mol(system_file)\n",
    "molecule = Molecule(num_mols=1, compound=espmol)\n",
    "\n",
    "molff = FF_from_file(ff_filepath)\n",
    "# system = Lattice(molecules=molecule, x = 5, y = 5, n = 4)\n",
    "system = Pack(molecules=molecule,density=0.9 * u.g/u.cm**3)\n",
    "system.apply_forcefield(r_cut=2.5, force_field=molff, auto_scale=True,remove_charges=True, remove_hydrogens=True)"
   ]
  },
  {
   "cell_type": "code",
   "execution_count": 12,
   "id": "3d19ca82-fbfb-4e82-a9f8-c46dbcd47531",
   "metadata": {},
   "outputs": [
    {
     "ename": "KeyboardInterrupt",
     "evalue": "",
     "output_type": "error",
     "traceback": [
      "\u001b[0;31m---------------------------------------------------------------------------\u001b[0m",
      "\u001b[0;31mKeyboardInterrupt\u001b[0m                         Traceback (most recent call last)",
      "Cell \u001b[0;32mIn[12], line 9\u001b[0m\n\u001b[1;32m      7\u001b[0m molff \u001b[38;5;241m=\u001b[39m FF_from_file(ff_filepath)\n\u001b[1;32m      8\u001b[0m system \u001b[38;5;241m=\u001b[39m Pack(molecules\u001b[38;5;241m=\u001b[39mmolecule,density\u001b[38;5;241m=\u001b[39m\u001b[38;5;241m0.00001\u001b[39m \u001b[38;5;241m*\u001b[39m u\u001b[38;5;241m.\u001b[39mg\u001b[38;5;241m/\u001b[39mu\u001b[38;5;241m.\u001b[39mcm\u001b[38;5;241m*\u001b[39m\u001b[38;5;241m*\u001b[39m\u001b[38;5;241m3\u001b[39m,packing_expand_factor\u001b[38;5;241m=\u001b[39m\u001b[38;5;241m7\u001b[39m)\n\u001b[0;32m----> 9\u001b[0m \u001b[43msystem\u001b[49m\u001b[38;5;241;43m.\u001b[39;49m\u001b[43mapply_forcefield\u001b[49m\u001b[43m(\u001b[49m\u001b[43mr_cut\u001b[49m\u001b[38;5;241;43m=\u001b[39;49m\u001b[38;5;241;43m2.5\u001b[39;49m\u001b[43m,\u001b[49m\u001b[43m \u001b[49m\u001b[43mforce_field\u001b[49m\u001b[38;5;241;43m=\u001b[39;49m\u001b[43mmolff\u001b[49m\u001b[43m,\u001b[49m\u001b[43m \u001b[49m\u001b[43mauto_scale\u001b[49m\u001b[38;5;241;43m=\u001b[39;49m\u001b[38;5;28;43;01mTrue\u001b[39;49;00m\u001b[43m,\u001b[49m\u001b[43mremove_charges\u001b[49m\u001b[38;5;241;43m=\u001b[39;49m\u001b[38;5;28;43;01mTrue\u001b[39;49;00m\u001b[43m,\u001b[49m\u001b[43m \u001b[49m\u001b[43mremove_hydrogens\u001b[49m\u001b[38;5;241;43m=\u001b[39;49m\u001b[38;5;28;43;01mTrue\u001b[39;49;00m\u001b[43m)\u001b[49m\n",
      "File \u001b[0;32m~/miniforge3/envs/flowerMD/lib/python3.11/site-packages/flowermd/base/system.py:587\u001b[0m, in \u001b[0;36mSystem.apply_forcefield\u001b[0;34m(self, r_cut, force_field, auto_scale, scale_charges, remove_charges, remove_hydrogens, pppm_resolution, pppm_order, nlist_buffer)\u001b[0m\n\u001b[1;32m    584\u001b[0m     \u001b[38;5;28mself\u001b[39m\u001b[38;5;241m.\u001b[39m_reference_values[\u001b[38;5;124m\"\u001b[39m\u001b[38;5;124mmass\u001b[39m\u001b[38;5;124m\"\u001b[39m] \u001b[38;5;241m=\u001b[39m mass_scale \u001b[38;5;241m*\u001b[39m masses[\u001b[38;5;241m0\u001b[39m]\u001b[38;5;241m.\u001b[39munit_array\n\u001b[1;32m    586\u001b[0m \u001b[38;5;28;01mif\u001b[39;00m remove_hydrogens:\n\u001b[0;32m--> 587\u001b[0m     \u001b[38;5;28;43mself\u001b[39;49m\u001b[38;5;241;43m.\u001b[39;49m\u001b[43mremove_hydrogens\u001b[49m\u001b[43m(\u001b[49m\u001b[43m)\u001b[49m\n\u001b[1;32m    589\u001b[0m pppm_kwargs \u001b[38;5;241m=\u001b[39m {\u001b[38;5;124m\"\u001b[39m\u001b[38;5;124mresolution\u001b[39m\u001b[38;5;124m\"\u001b[39m: pppm_resolution, \u001b[38;5;124m\"\u001b[39m\u001b[38;5;124morder\u001b[39m\u001b[38;5;124m\"\u001b[39m: pppm_order}\n\u001b[1;32m    590\u001b[0m \u001b[38;5;28mself\u001b[39m\u001b[38;5;241m.\u001b[39m_ff_kwargs \u001b[38;5;241m=\u001b[39m {\n\u001b[1;32m    591\u001b[0m     \u001b[38;5;124m\"\u001b[39m\u001b[38;5;124mr_cut\u001b[39m\u001b[38;5;124m\"\u001b[39m: r_cut,\n\u001b[1;32m    592\u001b[0m     \u001b[38;5;124m\"\u001b[39m\u001b[38;5;124mnlist_buffer\u001b[39m\u001b[38;5;124m\"\u001b[39m: nlist_buffer,\n\u001b[1;32m    593\u001b[0m     \u001b[38;5;124m\"\u001b[39m\u001b[38;5;124mpppm_kwargs\u001b[39m\u001b[38;5;124m\"\u001b[39m: pppm_kwargs,\n\u001b[1;32m    594\u001b[0m }\n",
      "File \u001b[0;32m~/miniforge3/envs/flowerMD/lib/python3.11/site-packages/flowermd/base/system.py:354\u001b[0m, in \u001b[0;36mSystem.remove_hydrogens\u001b[0;34m(self)\u001b[0m\n\u001b[1;32m    352\u001b[0m                 site\u001b[38;5;241m.\u001b[39mmass \u001b[38;5;241m+\u001b[39m\u001b[38;5;241m=\u001b[39m h\u001b[38;5;241m.\u001b[39mmass\n\u001b[1;32m    353\u001b[0m                 site\u001b[38;5;241m.\u001b[39mcharge \u001b[38;5;241m+\u001b[39m\u001b[38;5;241m=\u001b[39m h\u001b[38;5;241m.\u001b[39mcharge\n\u001b[0;32m--> 354\u001b[0m     \u001b[38;5;28;43mself\u001b[39;49m\u001b[38;5;241;43m.\u001b[39;49m\u001b[43mgmso_system\u001b[49m\u001b[38;5;241;43m.\u001b[39;49m\u001b[43mremove_site\u001b[49m\u001b[43m(\u001b[49m\u001b[43msite\u001b[49m\u001b[38;5;241;43m=\u001b[39;49m\u001b[43mh\u001b[49m\u001b[43m)\u001b[49m\n\u001b[1;32m    355\u001b[0m \u001b[38;5;66;03m# If a snapshot was already made, need to re-create it w/o hydrogens\u001b[39;00m\n\u001b[1;32m    356\u001b[0m \u001b[38;5;28;01mif\u001b[39;00m \u001b[38;5;28mself\u001b[39m\u001b[38;5;241m.\u001b[39m_hoomd_snapshot:\n",
      "File \u001b[0;32m~/miniforge3/envs/flowerMD/lib/python3.11/site-packages/gmso/core/topology.py:680\u001b[0m, in \u001b[0;36mTopology.remove_site\u001b[0;34m(self, site)\u001b[0m\n\u001b[1;32m    678\u001b[0m site_connections \u001b[38;5;241m=\u001b[39m [conn \u001b[38;5;28;01mfor\u001b[39;00m conn \u001b[38;5;129;01min\u001b[39;00m \u001b[38;5;28mself\u001b[39m\u001b[38;5;241m.\u001b[39miter_connections_by_site(site)]\n\u001b[1;32m    679\u001b[0m \u001b[38;5;28;01mfor\u001b[39;00m conn \u001b[38;5;129;01min\u001b[39;00m site_connections:\n\u001b[0;32m--> 680\u001b[0m     \u001b[38;5;28;43mself\u001b[39;49m\u001b[38;5;241;43m.\u001b[39;49m\u001b[43mremove_connection\u001b[49m\u001b[43m(\u001b[49m\u001b[43mconn\u001b[49m\u001b[43m)\u001b[49m\n\u001b[1;32m    681\u001b[0m \u001b[38;5;28mself\u001b[39m\u001b[38;5;241m.\u001b[39m_sites\u001b[38;5;241m.\u001b[39mremove(site)\n",
      "File \u001b[0;32m~/miniforge3/envs/flowerMD/lib/python3.11/site-packages/gmso/core/topology.py:696\u001b[0m, in \u001b[0;36mTopology.remove_connection\u001b[0;34m(self, connection)\u001b[0m\n\u001b[1;32m    683\u001b[0m \u001b[38;5;28;01mdef\u001b[39;00m \u001b[38;5;21mremove_connection\u001b[39m(\u001b[38;5;28mself\u001b[39m, connection):\n\u001b[1;32m    684\u001b[0m \u001b[38;5;250m    \u001b[39m\u001b[38;5;124;03m\"\"\"Remove a connection from the topology.\u001b[39;00m\n\u001b[1;32m    685\u001b[0m \n\u001b[1;32m    686\u001b[0m \u001b[38;5;124;03m    Parameters\u001b[39;00m\n\u001b[0;32m   (...)\u001b[0m\n\u001b[1;32m    694\u001b[0m \u001b[38;5;124;03m    not removed from the topology.\u001b[39;00m\n\u001b[1;32m    695\u001b[0m \u001b[38;5;124;03m    \"\"\"\u001b[39;00m\n\u001b[0;32m--> 696\u001b[0m     \u001b[38;5;28;01mif\u001b[39;00m connection \u001b[38;5;129;01mnot\u001b[39;00m \u001b[38;5;129;01min\u001b[39;00m \u001b[38;5;28;43mself\u001b[39;49m\u001b[38;5;241;43m.\u001b[39;49m\u001b[43mconnections\u001b[49m:\n\u001b[1;32m    697\u001b[0m         \u001b[38;5;28;01mraise\u001b[39;00m \u001b[38;5;167;01mValueError\u001b[39;00m(\n\u001b[1;32m    698\u001b[0m             \u001b[38;5;124mf\u001b[39m\u001b[38;5;124m\"\u001b[39m\u001b[38;5;124mConnection \u001b[39m\u001b[38;5;132;01m{\u001b[39;00mconnection\u001b[38;5;132;01m}\u001b[39;00m\u001b[38;5;124m is not currently part of this topology.\u001b[39m\u001b[38;5;124m\"\u001b[39m\n\u001b[1;32m    699\u001b[0m         )\n\u001b[1;32m    700\u001b[0m     \u001b[38;5;28;01mif\u001b[39;00m \u001b[38;5;28misinstance\u001b[39m(connection, gmso\u001b[38;5;241m.\u001b[39mcore\u001b[38;5;241m.\u001b[39mbond\u001b[38;5;241m.\u001b[39mBond):\n",
      "File \u001b[0;32m~/miniforge3/envs/flowerMD/lib/python3.11/site-packages/gmso/core/topology.py:283\u001b[0m, in \u001b[0;36mTopology.connections\u001b[0;34m(self)\u001b[0m\n\u001b[1;32m    280\u001b[0m \u001b[38;5;129m@property\u001b[39m\n\u001b[1;32m    281\u001b[0m \u001b[38;5;28;01mdef\u001b[39;00m \u001b[38;5;21mconnections\u001b[39m(\u001b[38;5;28mself\u001b[39m):\n\u001b[1;32m    282\u001b[0m \u001b[38;5;250m    \u001b[39m\u001b[38;5;124;03m\"\"\"Return all connections in topology.\"\"\"\u001b[39;00m\n\u001b[0;32m--> 283\u001b[0m     \u001b[38;5;28;01mreturn\u001b[39;00m \u001b[43mIndexedSet\u001b[49m\u001b[43m(\u001b[49m\n\u001b[1;32m    284\u001b[0m \u001b[43m        \u001b[49m\u001b[43m[\u001b[49m\u001b[38;5;241;43m*\u001b[39;49m\u001b[38;5;28;43mself\u001b[39;49m\u001b[38;5;241;43m.\u001b[39;49m\u001b[43m_bonds\u001b[49m\u001b[43m,\u001b[49m\u001b[43m \u001b[49m\u001b[38;5;241;43m*\u001b[39;49m\u001b[38;5;28;43mself\u001b[39;49m\u001b[38;5;241;43m.\u001b[39;49m\u001b[43m_angles\u001b[49m\u001b[43m,\u001b[49m\u001b[43m \u001b[49m\u001b[38;5;241;43m*\u001b[39;49m\u001b[38;5;28;43mself\u001b[39;49m\u001b[38;5;241;43m.\u001b[39;49m\u001b[43m_dihedrals\u001b[49m\u001b[43m,\u001b[49m\u001b[43m \u001b[49m\u001b[38;5;241;43m*\u001b[39;49m\u001b[38;5;28;43mself\u001b[39;49m\u001b[38;5;241;43m.\u001b[39;49m\u001b[43m_impropers\u001b[49m\u001b[43m]\u001b[49m\n\u001b[1;32m    285\u001b[0m \u001b[43m    \u001b[49m\u001b[43m)\u001b[49m\n",
      "File \u001b[0;32m~/miniforge3/envs/flowerMD/lib/python3.11/site-packages/boltons/setutils.py:118\u001b[0m, in \u001b[0;36mIndexedSet.__init__\u001b[0;34m(self, other)\u001b[0m\n\u001b[1;32m    116\u001b[0m \u001b[38;5;28mself\u001b[39m\u001b[38;5;241m.\u001b[39m_c_max_size \u001b[38;5;241m=\u001b[39m \u001b[38;5;241m0\u001b[39m\n\u001b[1;32m    117\u001b[0m \u001b[38;5;28;01mif\u001b[39;00m other:\n\u001b[0;32m--> 118\u001b[0m     \u001b[38;5;28;43mself\u001b[39;49m\u001b[38;5;241;43m.\u001b[39;49m\u001b[43mupdate\u001b[49m\u001b[43m(\u001b[49m\u001b[43mother\u001b[49m\u001b[43m)\u001b[49m\n",
      "File \u001b[0;32m~/miniforge3/envs/flowerMD/lib/python3.11/site-packages/boltons/setutils.py:352\u001b[0m, in \u001b[0;36mIndexedSet.update\u001b[0;34m(self, *others)\u001b[0m\n\u001b[1;32m    350\u001b[0m     other \u001b[38;5;241m=\u001b[39m chain(others)\n\u001b[1;32m    351\u001b[0m \u001b[38;5;28;01mfor\u001b[39;00m o \u001b[38;5;129;01min\u001b[39;00m other:\n\u001b[0;32m--> 352\u001b[0m     \u001b[38;5;28;43mself\u001b[39;49m\u001b[38;5;241;43m.\u001b[39;49m\u001b[43madd\u001b[49m\u001b[43m(\u001b[49m\u001b[43mo\u001b[49m\u001b[43m)\u001b[49m\n",
      "File \u001b[0;32m~/miniforge3/envs/flowerMD/lib/python3.11/site-packages/boltons/setutils.py:237\u001b[0m, in \u001b[0;36mIndexedSet.add\u001b[0;34m(self, item)\u001b[0m\n\u001b[1;32m    235\u001b[0m \u001b[38;5;124m\"\u001b[39m\u001b[38;5;124madd(item) -> add item to the set\u001b[39m\u001b[38;5;124m\"\u001b[39m\n\u001b[1;32m    236\u001b[0m \u001b[38;5;28;01mif\u001b[39;00m item \u001b[38;5;129;01mnot\u001b[39;00m \u001b[38;5;129;01min\u001b[39;00m \u001b[38;5;28mself\u001b[39m\u001b[38;5;241m.\u001b[39mitem_index_map:\n\u001b[0;32m--> 237\u001b[0m     \u001b[38;5;28;43mself\u001b[39;49m\u001b[38;5;241;43m.\u001b[39;49m\u001b[43mitem_index_map\u001b[49m\u001b[43m[\u001b[49m\u001b[43mitem\u001b[49m\u001b[43m]\u001b[49m \u001b[38;5;241m=\u001b[39m \u001b[38;5;28mlen\u001b[39m(\u001b[38;5;28mself\u001b[39m\u001b[38;5;241m.\u001b[39mitem_list)\n\u001b[1;32m    238\u001b[0m     \u001b[38;5;28mself\u001b[39m\u001b[38;5;241m.\u001b[39mitem_list\u001b[38;5;241m.\u001b[39mappend(item)\n",
      "File \u001b[0;32m~/miniforge3/envs/flowerMD/lib/python3.11/site-packages/gmso/abc/gmso_base.py:29\u001b[0m, in \u001b[0;36mGMSOBase.__hash__\u001b[0;34m(self)\u001b[0m\n\u001b[1;32m     20\u001b[0m \u001b[38;5;250m\u001b[39m\u001b[38;5;124;03m\"\"\"A BaseClass to all abstract classes in GMSO.\"\"\"\u001b[39;00m\n\u001b[1;32m     22\u001b[0m model_config \u001b[38;5;241m=\u001b[39m ConfigDict(\n\u001b[1;32m     23\u001b[0m     arbitrary_types_allowed\u001b[38;5;241m=\u001b[39m\u001b[38;5;28;01mTrue\u001b[39;00m,\n\u001b[1;32m     24\u001b[0m     validate_assignment\u001b[38;5;241m=\u001b[39m\u001b[38;5;28;01mTrue\u001b[39;00m,\n\u001b[1;32m     25\u001b[0m     extra\u001b[38;5;241m=\u001b[39m\u001b[38;5;124m\"\u001b[39m\u001b[38;5;124mforbid\u001b[39m\u001b[38;5;124m\"\u001b[39m,\n\u001b[1;32m     26\u001b[0m     populate_by_name\u001b[38;5;241m=\u001b[39m\u001b[38;5;28;01mTrue\u001b[39;00m,\n\u001b[1;32m     27\u001b[0m )\n\u001b[0;32m---> 29\u001b[0m \u001b[38;5;28;01mdef\u001b[39;00m \u001b[38;5;21m__hash__\u001b[39m(\u001b[38;5;28mself\u001b[39m):\n\u001b[1;32m     30\u001b[0m \u001b[38;5;250m    \u001b[39m\u001b[38;5;124;03m\"\"\"Return the unique hash of the object.\"\"\"\u001b[39;00m\n\u001b[1;32m     31\u001b[0m     \u001b[38;5;28;01mreturn\u001b[39;00m \u001b[38;5;28mid\u001b[39m(\u001b[38;5;28mself\u001b[39m)\n",
      "\u001b[0;31mKeyboardInterrupt\u001b[0m: "
     ]
    }
   ],
   "source": [
    "system_file = '/home/jbieri/CME_lab/repos/pl-validation/mol2/polymers/PCPDTFBT_C1_BO_250mer.mol2'\n",
    "ff_filepath = '/home/jbieri/CME_lab/repos/pl-validation/xml/PCPDTFBT_C1_BO.xml'\n",
    "\n",
    "espmol = espaloma_mol(system_file)\n",
    "molecule = Molecule(num_mols=1, compound=espmol)\n",
    "\n",
    "molff = FF_from_file(ff_filepath)\n",
    "system = Pack(molecules=molecule,density=0.3 * u.g/u.cm**3,packing_expand_factor=7)\n",
    "system.apply_forcefield(r_cut=2.5, force_field=molff, auto_scale=True,remove_charges=True, remove_hydrogens=True)"
   ]
  },
  {
   "cell_type": "code",
   "execution_count": 9,
   "id": "7ce34fa1-8c0c-43b8-b8a8-06011885f8db",
   "metadata": {},
   "outputs": [
    {
     "ename": "MoleculeLoadError",
     "evalue": "Unable to load the molecule from file <Compound 123 particles, 127 bonds, non-periodic, id: 139988504971024>.",
     "output_type": "error",
     "traceback": [
      "\u001b[0;31m---------------------------------------------------------------------------\u001b[0m",
      "\u001b[0;31mMoleculeLoadError\u001b[0m                         Traceback (most recent call last)",
      "Cell \u001b[0;32mIn[9], line 4\u001b[0m\n\u001b[1;32m      2\u001b[0m \u001b[38;5;28;01mfor\u001b[39;00m temp \u001b[38;5;129;01min\u001b[39;00m \u001b[38;5;28mrange\u001b[39m(\u001b[38;5;28mlen\u001b[39m(temps)):\n\u001b[1;32m      3\u001b[0m     \u001b[38;5;28;01mfor\u001b[39;00m i \u001b[38;5;129;01min\u001b[39;00m \u001b[38;5;28mrange\u001b[39m(\u001b[38;5;28mlen\u001b[39m(molecule_list)):\n\u001b[0;32m----> 4\u001b[0m         molecule \u001b[38;5;241m=\u001b[39m (\u001b[43mMolecule\u001b[49m\u001b[43m(\u001b[49m\u001b[43mnum_mols\u001b[49m\u001b[38;5;241;43m=\u001b[39;49m\u001b[38;5;241;43m1\u001b[39;49m\u001b[43m,\u001b[49m\u001b[43m \u001b[49m\u001b[43mfile\u001b[49m\u001b[38;5;241;43m=\u001b[39;49m\u001b[43mmolecule_list\u001b[49m\u001b[43m[\u001b[49m\u001b[43mi\u001b[49m\u001b[43m]\u001b[49m\u001b[43m)\u001b[49m)\n\u001b[1;32m      5\u001b[0m         ff \u001b[38;5;241m=\u001b[39m FF_from_file(forcefield_files\u001b[38;5;241m=\u001b[39mff_list[i])\n\u001b[1;32m      6\u001b[0m         system \u001b[38;5;241m=\u001b[39m Lattice(molecules\u001b[38;5;241m=\u001b[39mmolecule, x \u001b[38;5;241m=\u001b[39m \u001b[38;5;241m5\u001b[39m, y \u001b[38;5;241m=\u001b[39m \u001b[38;5;241m5\u001b[39m, n \u001b[38;5;241m=\u001b[39m \u001b[38;5;241m4\u001b[39m)\n",
      "File \u001b[0;32m~/miniforge3/envs/flowerMD/lib/python3.11/site-packages/flowermd/base/molecule.py:66\u001b[0m, in \u001b[0;36mMolecule.__init__\u001b[0;34m(self, num_mols, force_field, smiles, file, compound)\u001b[0m\n\u001b[1;32m     64\u001b[0m \u001b[38;5;28mself\u001b[39m\u001b[38;5;241m.\u001b[39mcompound \u001b[38;5;241m=\u001b[39m compound\n\u001b[1;32m     65\u001b[0m \u001b[38;5;28mself\u001b[39m\u001b[38;5;241m.\u001b[39m_mapping \u001b[38;5;241m=\u001b[39m \u001b[38;5;28;01mNone\u001b[39;00m\n\u001b[0;32m---> 66\u001b[0m \u001b[38;5;28mself\u001b[39m\u001b[38;5;241m.\u001b[39m_mb_molecule \u001b[38;5;241m=\u001b[39m \u001b[38;5;28;43mself\u001b[39;49m\u001b[38;5;241;43m.\u001b[39;49m\u001b[43m_load\u001b[49m\u001b[43m(\u001b[49m\u001b[43m)\u001b[49m\n\u001b[1;32m     67\u001b[0m \u001b[38;5;28mself\u001b[39m\u001b[38;5;241m.\u001b[39m_molecules \u001b[38;5;241m=\u001b[39m []\n\u001b[1;32m     68\u001b[0m \u001b[38;5;28mself\u001b[39m\u001b[38;5;241m.\u001b[39m_cg_molecules \u001b[38;5;241m=\u001b[39m []\n",
      "File \u001b[0;32m~/miniforge3/envs/flowerMD/lib/python3.11/site-packages/flowermd/base/molecule.py:198\u001b[0m, in \u001b[0;36mMolecule._load\u001b[0;34m(self)\u001b[0m\n\u001b[1;32m    196\u001b[0m         \u001b[38;5;28;01mreturn\u001b[39;00m mb\u001b[38;5;241m.\u001b[39mload(\u001b[38;5;28mself\u001b[39m\u001b[38;5;241m.\u001b[39mfile)\n\u001b[1;32m    197\u001b[0m     \u001b[38;5;28;01melse\u001b[39;00m:\n\u001b[0;32m--> 198\u001b[0m         \u001b[38;5;28;01mraise\u001b[39;00m MoleculeLoadError(\n\u001b[1;32m    199\u001b[0m             msg\u001b[38;5;241m=\u001b[39m\u001b[38;5;124mf\u001b[39m\u001b[38;5;124m\"\u001b[39m\u001b[38;5;124mUnable to load the molecule from file \u001b[39m\u001b[38;5;132;01m{\u001b[39;00m\u001b[38;5;28mself\u001b[39m\u001b[38;5;241m.\u001b[39mfile\u001b[38;5;132;01m}\u001b[39;00m\u001b[38;5;124m.\u001b[39m\u001b[38;5;124m\"\u001b[39m\n\u001b[1;32m    200\u001b[0m         )\n\u001b[1;32m    202\u001b[0m \u001b[38;5;28;01mif\u001b[39;00m \u001b[38;5;28mself\u001b[39m\u001b[38;5;241m.\u001b[39msmiles:\n\u001b[1;32m    203\u001b[0m     \u001b[38;5;28;01mif\u001b[39;00m \u001b[38;5;28misinstance\u001b[39m(\u001b[38;5;28mself\u001b[39m\u001b[38;5;241m.\u001b[39msmiles, \u001b[38;5;28mstr\u001b[39m):\n",
      "\u001b[0;31mMoleculeLoadError\u001b[0m: Unable to load the molecule from file <Compound 123 particles, 127 bonds, non-periodic, id: 139988504971024>."
     ]
    }
   ],
   "source": [
    "temps = [252, 503, 1006]\n",
    "for temp in range(len(temps)):\n",
    "    for i in range(len(molecule_list)):\n",
    "        molecule = (Molecule(num_mols=1, file=molecule_list[i]))\n",
    "        ff = FF_from_file(forcefield_files=ff_list[i])\n",
    "        system = Lattice(molecules=molecule, x = 5, y = 5, n = 4)\n",
    "        system.apply_forcefield(r_cut=2.5, force_field=ff, auto_scale=True,remove_charges=True, remove_hydrogens=True)"
   ]
  }
 ],
 "metadata": {
  "kernelspec": {
   "display_name": "Python 3 (ipykernel)",
   "language": "python",
   "name": "python3"
  },
  "language_info": {
   "codemirror_mode": {
    "name": "ipython",
    "version": 3
   },
   "file_extension": ".py",
   "mimetype": "text/x-python",
   "name": "python",
   "nbconvert_exporter": "python",
   "pygments_lexer": "ipython3",
   "version": "3.10.14"
  }
 },
 "nbformat": 4,
 "nbformat_minor": 5
}
