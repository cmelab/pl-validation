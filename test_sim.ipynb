{
 "cells": [
  {
   "cell_type": "code",
   "execution_count": 20,
   "id": "641e4164-fb34-44dd-a712-06b68ca3883e",
   "metadata": {},
   "outputs": [],
   "source": [
    "import warnings\n",
    "warnings.filterwarnings('ignore')\n",
    "import mbuild as mb\n",
    "import hoomd\n",
    "import gsd\n",
    "import matplotlib.pyplot as plt\n",
    "import numpy as np\n",
    "import gsd.hoomd\n",
    "from flowermd.base import Simulation, Molecule\n",
    "from flowermd.library import PPS, OPLS_AA_PPS, BeadSpring\n",
    "cpu = hoomd.device.CPU()\n"
   ]
  },
  {
   "cell_type": "code",
   "execution_count": 21,
   "id": "9fe3151e-9d5b-4192-ba71-446ad243c53e",
   "metadata": {},
   "outputs": [
    {
     "name": "stdout",
     "output_type": "stream",
     "text": [
      "No charged group detected, skipping electrostatics.\n"
     ]
    }
   ],
   "source": [
    "molecule = PPS(num_mols=3, lengths=5)\n",
    "\n",
    "box = Pack(molecules=molecule,density=0.1)\n",
    "box.apply_forcefield(r_cut=2.5, force_field=OPLS_AA_PPS(), auto_scale=True,remove_charges=True, remove_hydrogens=True)"
   ]
  },
  {
   "cell_type": "code",
   "execution_count": 22,
   "id": "f4850474-b981-40c2-8c44-60e2d7824d83",
   "metadata": {},
   "outputs": [],
   "source": [
    "box.hoomd_snapshot\n",
    "hoomd_forces = box.hoomd_forcefield\n",
    "hoomd_forces\n",
    "lj_force = hoomd_forces[3]\n",
    "cpu = hoomd.device.CPU()"
   ]
  },
  {
   "cell_type": "code",
   "execution_count": 23,
   "id": "67e4922d-8a41-4a6c-9885-453e60815fa2",
   "metadata": {},
   "outputs": [
    {
     "name": "stdout",
     "output_type": "stream",
     "text": [
      "Initializing simulation state from a gsd.hoomd.Frame.\n"
     ]
    }
   ],
   "source": [
    "sim = Simulation.from_system(system=box, gsd_write_freq=1000, log_write_freq=1000, device=cpu, gsd_file_name='pps-melt.gsd')"
   ]
  },
  {
   "cell_type": "code",
   "execution_count": 24,
   "id": "28454048-d2fa-46dd-a3c9-7677649c46ee",
   "metadata": {
    "scrolled": true
   },
   "outputs": [
    {
     "name": "stdout",
     "output_type": "stream",
     "text": [
      "Step 1000 of 100000; TPS: 3359.37; ETA: 0.5 minutes\n",
      "Step 2000 of 100000; TPS: 5922.78; ETA: 0.3 minutes\n",
      "Step 3000 of 100000; TPS: 7862.07; ETA: 0.2 minutes\n",
      "Step 4000 of 100000; TPS: 9405.02; ETA: 0.2 minutes\n",
      "Step 5000 of 100000; TPS: 10672.52; ETA: 0.1 minutes\n",
      "Step 6000 of 100000; TPS: 11717.67; ETA: 0.1 minutes\n",
      "Step 7000 of 100000; TPS: 12663.17; ETA: 0.1 minutes\n",
      "Step 8000 of 100000; TPS: 13486.04; ETA: 0.1 minutes\n",
      "Step 9000 of 100000; TPS: 14164.22; ETA: 0.1 minutes\n",
      "Step 10000 of 100000; TPS: 14798.33; ETA: 0.1 minutes\n",
      "Step 11000 of 100000; TPS: 15307.59; ETA: 0.1 minutes\n",
      "Step 12000 of 100000; TPS: 15805.34; ETA: 0.1 minutes\n",
      "Step 13000 of 100000; TPS: 16283.67; ETA: 0.1 minutes\n",
      "Step 14000 of 100000; TPS: 16652.65; ETA: 0.1 minutes\n",
      "Step 15000 of 100000; TPS: 17062.98; ETA: 0.1 minutes\n",
      "Step 16000 of 100000; TPS: 17499.55; ETA: 0.1 minutes\n",
      "Step 17000 of 100000; TPS: 17900.71; ETA: 0.1 minutes\n",
      "Step 18000 of 100000; TPS: 18252.15; ETA: 0.1 minutes\n",
      "Step 19000 of 100000; TPS: 18435.15; ETA: 0.1 minutes\n",
      "Step 20000 of 100000; TPS: 18750.26; ETA: 0.1 minutes\n",
      "Step 21000 of 100000; TPS: 19071.61; ETA: 0.1 minutes\n",
      "Step 22000 of 100000; TPS: 19333.57; ETA: 0.1 minutes\n",
      "Step 23000 of 100000; TPS: 19587.94; ETA: 0.1 minutes\n",
      "Step 24000 of 100000; TPS: 19860.76; ETA: 0.1 minutes\n",
      "Step 25000 of 100000; TPS: 19904.21; ETA: 0.1 minutes\n",
      "Step 26000 of 100000; TPS: 20030.34; ETA: 0.1 minutes\n",
      "Step 27000 of 100000; TPS: 20185.06; ETA: 0.1 minutes\n",
      "Step 28000 of 100000; TPS: 20321.53; ETA: 0.1 minutes\n",
      "Step 29000 of 100000; TPS: 20446.61; ETA: 0.1 minutes\n",
      "Step 30000 of 100000; TPS: 20565.89; ETA: 0.1 minutes\n",
      "Step 31000 of 100000; TPS: 20653.96; ETA: 0.1 minutes\n",
      "Step 32000 of 100000; TPS: 20636.12; ETA: 0.1 minutes\n",
      "Step 33000 of 100000; TPS: 20762.08; ETA: 0.1 minutes\n",
      "Step 34000 of 100000; TPS: 20939.31; ETA: 0.1 minutes\n",
      "Step 35000 of 100000; TPS: 21107.19; ETA: 0.1 minutes\n",
      "Step 36000 of 100000; TPS: 21264.97; ETA: 0.1 minutes\n",
      "Step 37000 of 100000; TPS: 21418.62; ETA: 0.0 minutes\n",
      "Step 38000 of 100000; TPS: 21566.63; ETA: 0.0 minutes\n",
      "Step 39000 of 100000; TPS: 21698.52; ETA: 0.0 minutes\n",
      "Step 40000 of 100000; TPS: 21843.71; ETA: 0.0 minutes\n",
      "Step 41000 of 100000; TPS: 21978.08; ETA: 0.0 minutes\n",
      "Step 42000 of 100000; TPS: 22113.74; ETA: 0.0 minutes\n",
      "Step 43000 of 100000; TPS: 22232.28; ETA: 0.0 minutes\n",
      "Step 44000 of 100000; TPS: 22341.58; ETA: 0.0 minutes\n",
      "Step 45000 of 100000; TPS: 22415.93; ETA: 0.0 minutes\n",
      "Step 46000 of 100000; TPS: 22458.6; ETA: 0.0 minutes\n",
      "Step 47000 of 100000; TPS: 22564.63; ETA: 0.0 minutes\n",
      "Step 48000 of 100000; TPS: 22680.85; ETA: 0.0 minutes\n",
      "Step 49000 of 100000; TPS: 22778.52; ETA: 0.0 minutes\n",
      "Step 50000 of 100000; TPS: 22888.56; ETA: 0.0 minutes\n",
      "Step 51000 of 100000; TPS: 22988.63; ETA: 0.0 minutes\n",
      "Step 52000 of 100000; TPS: 23077.11; ETA: 0.0 minutes\n",
      "Step 53000 of 100000; TPS: 23168.37; ETA: 0.0 minutes\n",
      "Step 54000 of 100000; TPS: 23230.91; ETA: 0.0 minutes\n",
      "Step 55000 of 100000; TPS: 23297.89; ETA: 0.0 minutes\n",
      "Step 56000 of 100000; TPS: 23375.99; ETA: 0.0 minutes\n",
      "Step 57000 of 100000; TPS: 23430.14; ETA: 0.0 minutes\n",
      "Step 58000 of 100000; TPS: 23474.65; ETA: 0.0 minutes\n",
      "Step 59000 of 100000; TPS: 23472.74; ETA: 0.0 minutes\n",
      "Step 60000 of 100000; TPS: 23484.53; ETA: 0.0 minutes\n",
      "Step 61000 of 100000; TPS: 23545.21; ETA: 0.0 minutes\n",
      "Step 62000 of 100000; TPS: 23615.78; ETA: 0.0 minutes\n",
      "Step 63000 of 100000; TPS: 23689.7; ETA: 0.0 minutes\n",
      "Step 64000 of 100000; TPS: 23743.78; ETA: 0.0 minutes\n",
      "Step 65000 of 100000; TPS: 23785.91; ETA: 0.0 minutes\n",
      "Step 66000 of 100000; TPS: 23844.71; ETA: 0.0 minutes\n",
      "Step 67000 of 100000; TPS: 23900.0; ETA: 0.0 minutes\n",
      "Step 68000 of 100000; TPS: 23955.45; ETA: 0.0 minutes\n",
      "Step 69000 of 100000; TPS: 24018.64; ETA: 0.0 minutes\n",
      "Step 70000 of 100000; TPS: 24062.42; ETA: 0.0 minutes\n",
      "Step 71000 of 100000; TPS: 24093.15; ETA: 0.0 minutes\n",
      "Step 72000 of 100000; TPS: 24116.93; ETA: 0.0 minutes\n",
      "Step 73000 of 100000; TPS: 24140.85; ETA: 0.0 minutes\n",
      "Step 74000 of 100000; TPS: 24144.76; ETA: 0.0 minutes\n",
      "Step 75000 of 100000; TPS: 24156.39; ETA: 0.0 minutes\n",
      "Step 76000 of 100000; TPS: 24195.87; ETA: 0.0 minutes\n",
      "Step 77000 of 100000; TPS: 24206.99; ETA: 0.0 minutes\n",
      "Step 78000 of 100000; TPS: 24224.82; ETA: 0.0 minutes\n",
      "Step 79000 of 100000; TPS: 24243.7; ETA: 0.0 minutes\n",
      "Step 80000 of 100000; TPS: 24283.25; ETA: 0.0 minutes\n",
      "Step 81000 of 100000; TPS: 24301.71; ETA: 0.0 minutes\n",
      "Step 82000 of 100000; TPS: 24340.95; ETA: 0.0 minutes\n",
      "Step 83000 of 100000; TPS: 24384.98; ETA: 0.0 minutes\n",
      "Step 84000 of 100000; TPS: 24423.38; ETA: 0.0 minutes\n",
      "Step 85000 of 100000; TPS: 24441.95; ETA: 0.0 minutes\n",
      "Step 86000 of 100000; TPS: 24399.07; ETA: 0.0 minutes\n",
      "Step 87000 of 100000; TPS: 24446.88; ETA: 0.0 minutes\n",
      "Step 88000 of 100000; TPS: 24487.15; ETA: 0.0 minutes\n",
      "Step 89000 of 100000; TPS: 24540.02; ETA: 0.0 minutes\n",
      "Step 90000 of 100000; TPS: 24587.93; ETA: 0.0 minutes\n",
      "Step 91000 of 100000; TPS: 24614.35; ETA: 0.0 minutes\n",
      "Step 92000 of 100000; TPS: 24623.26; ETA: 0.0 minutes\n",
      "Step 93000 of 100000; TPS: 24628.25; ETA: 0.0 minutes\n",
      "Step 94000 of 100000; TPS: 24643.23; ETA: 0.0 minutes\n",
      "Step 95000 of 100000; TPS: 24664.63; ETA: 0.0 minutes\n",
      "Step 96000 of 100000; TPS: 24703.36; ETA: 0.0 minutes\n",
      "Step 97000 of 100000; TPS: 24723.37; ETA: 0.0 minutes\n",
      "Step 98000 of 100000; TPS: 24735.33; ETA: 0.0 minutes\n",
      "Step 99000 of 100000; TPS: 24734.36; ETA: 0.0 minutes\n"
     ]
    }
   ],
   "source": [
    "sim.run_NVT(n_steps=1e5, kT=5.0, tau_kt=1.0)\n",
    "sim.flush_writers()"
   ]
  },
  {
   "cell_type": "code",
   "execution_count": null,
   "id": "5bf38f04-9134-4020-969a-ae8a51dcc3d0",
   "metadata": {},
   "outputs": [],
   "source": []
  }
 ],
 "metadata": {
  "kernelspec": {
   "display_name": "Python 3 (ipykernel)",
   "language": "python",
   "name": "python3"
  },
  "language_info": {
   "codemirror_mode": {
    "name": "ipython",
    "version": 3
   },
   "file_extension": ".py",
   "mimetype": "text/x-python",
   "name": "python",
   "nbconvert_exporter": "python",
   "pygments_lexer": "ipython3",
   "version": "3.11.0"
  }
 },
 "nbformat": 4,
 "nbformat_minor": 5
}
